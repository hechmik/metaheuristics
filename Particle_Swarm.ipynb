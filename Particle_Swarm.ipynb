{
 "cells": [
  {
   "cell_type": "code",
   "execution_count": 1,
   "metadata": {},
   "outputs": [],
   "source": [
    "import pandas as pd\n",
    "import numpy as np\n",
    "import random\n",
    "from particle_swarm import particle_swarm_optimization, hybrid_particle_swarm_optimization"
   ]
  },
  {
   "cell_type": "code",
   "execution_count": 2,
   "metadata": {},
   "outputs": [],
   "source": [
    "random.seed(10)\n",
    "np.random.seed(10)"
   ]
  },
  {
   "cell_type": "code",
   "execution_count": 3,
   "metadata": {},
   "outputs": [],
   "source": [
    "citiesnp = np.genfromtxt('cities.csv', delimiter=',', skip_header = 1) # load as numpy array"
   ]
  },
  {
   "cell_type": "code",
   "execution_count": 6,
   "metadata": {},
   "outputs": [
    {
     "name": "stdout",
     "output_type": "stream",
     "text": [
      "Iteration: 10, minimum distance so far: 445745002.0475904\n",
      "Iteration: 20, minimum distance so far: 445654486.50766546\n",
      "Iteration: 30, minimum distance so far: 445654486.50766546\n",
      "Iteration: 40, minimum distance so far: 445654486.50766546\n",
      "Iteration: 50, minimum distance so far: 445628826.0015091\n",
      "Iteration: 60, minimum distance so far: 445595704.7796311\n",
      "Iteration: 70, minimum distance so far: 445584457.454726\n",
      "Iteration: 80, minimum distance so far: 445583234.63340247\n",
      "Iteration: 90, minimum distance so far: 445573613.10792744\n",
      "Iteration: 100, minimum distance so far: 445546515.9129143\n",
      "Iteration: 110, minimum distance so far: 445544151.11928874\n",
      "Iteration: 120, minimum distance so far: 445544151.11928874\n",
      "Iteration: 130, minimum distance so far: 445544151.11928874\n",
      "Iteration: 140, minimum distance so far: 445540158.420273\n",
      "Iteration: 150, minimum distance so far: 445535200.66557944\n",
      "Iteration: 160, minimum distance so far: 445531737.764438\n",
      "Iteration: 170, minimum distance so far: 445531683.3492059\n",
      "Iteration: 180, minimum distance so far: 445529208.03639936\n",
      "Iteration: 190, minimum distance so far: 445528691.10029984\n",
      "Iteration: 200, minimum distance so far: 445528691.10029984\n",
      "Iteration: 210, minimum distance so far: 445527318.53329825\n",
      "Iteration: 220, minimum distance so far: 445525697.6702101\n",
      "Iteration: 230, minimum distance so far: 445525697.6702101\n",
      "Iteration: 240, minimum distance so far: 445525697.6702101\n",
      "Iteration: 250, minimum distance so far: 445521064.0069865\n",
      "Iteration: 260, minimum distance so far: 445521064.0069865\n",
      "Iteration: 270, minimum distance so far: 445521064.0069865\n",
      "Iteration: 280, minimum distance so far: 445510334.3891649\n",
      "Iteration: 290, minimum distance so far: 445509157.0743563\n",
      "Iteration: 300, minimum distance so far: 445509157.0743563\n",
      "Iteration: 310, minimum distance so far: 445507331.1803256\n",
      "Iteration: 320, minimum distance so far: 445507331.1803256\n",
      "Iteration: 330, minimum distance so far: 445507331.1803256\n",
      "Iteration: 340, minimum distance so far: 445507331.1803256\n",
      "Iteration: 350, minimum distance so far: 445507331.1803256\n"
     ]
    },
    {
     "data": {
      "text/plain": [
       "[349, 445507331.1803256]"
      ]
     },
     "execution_count": 6,
     "metadata": {},
     "output_type": "execute_result"
    }
   ],
   "source": [
    "res = particle_swarm_optimization(path_length=len(citiesnp)-1,\n",
    "                                  cities=citiesnp,\n",
    "                                  inertia_weight=0.9)\n",
    "res[-1]"
   ]
  },
  {
   "cell_type": "markdown",
   "metadata": {},
   "source": [
    "## Hybrid particle swarm"
   ]
  },
  {
   "cell_type": "code",
   "execution_count": 4,
   "metadata": {},
   "outputs": [
    {
     "name": "stdout",
     "output_type": "stream",
     "text": [
      "Iteration: 50, minimum distance so far: 445224067.5520419\n",
      "Iteration: 100, minimum distance so far: 445181865.64914566\n",
      "Iteration: 150, minimum distance so far: 445158085.5280965\n",
      "Iteration: 200, minimum distance so far: 445145265.4297618\n",
      "Iteration: 250, minimum distance so far: 445120282.6343104\n",
      "Iteration: 300, minimum distance so far: 445095115.31729907\n",
      "Iteration: 350, minimum distance so far: 445057981.5254689\n",
      "Iteration: 400, minimum distance so far: 445048335.1714868\n",
      "Iteration: 450, minimum distance so far: 445035298.28880507\n",
      "Iteration: 500, minimum distance so far: 445016969.54869777\n",
      "Iteration: 550, minimum distance so far: 445010102.9228304\n",
      "Iteration: 600, minimum distance so far: 444991612.22048765\n",
      "Iteration: 650, minimum distance so far: 444986561.2615773\n"
     ]
    },
    {
     "data": {
      "text/plain": [
       "[652, 444986561.2615773]"
      ]
     },
     "execution_count": 4,
     "metadata": {},
     "output_type": "execute_result"
    }
   ],
   "source": [
    "res = hybrid_particle_swarm_optimization(path_length=len(citiesnp)-1,\n",
    "                                  cities=citiesnp,\n",
    "                                  inertia_weight=0.9)\n",
    "res[-1]"
   ]
  },
  {
   "cell_type": "code",
   "execution_count": null,
   "metadata": {},
   "outputs": [],
   "source": []
  }
 ],
 "metadata": {
  "kernelspec": {
   "display_name": "Python 3",
   "language": "python",
   "name": "python3"
  },
  "language_info": {
   "codemirror_mode": {
    "name": "ipython",
    "version": 3
   },
   "file_extension": ".py",
   "mimetype": "text/x-python",
   "name": "python",
   "nbconvert_exporter": "python",
   "pygments_lexer": "ipython3",
   "version": "3.6.6"
  }
 },
 "nbformat": 4,
 "nbformat_minor": 2
}
