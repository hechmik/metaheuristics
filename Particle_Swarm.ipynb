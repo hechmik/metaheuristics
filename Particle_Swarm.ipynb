{
 "cells": [
  {
   "cell_type": "code",
   "execution_count": 205,
   "metadata": {},
   "outputs": [],
   "source": [
    "import pandas as pd\n",
    "import numpy as np\n",
    "import random"
   ]
  },
  {
   "cell_type": "code",
   "execution_count": 206,
   "metadata": {},
   "outputs": [],
   "source": [
    "random.seed(10)\n",
    "np.random.seed(10)"
   ]
  },
  {
   "cell_type": "code",
   "execution_count": 207,
   "metadata": {},
   "outputs": [],
   "source": [
    "def createParticle(particleSize, x_min = 0, x_max = 4):\n",
    "    particle = x_min + (x_max - x_min) * np.random.uniform(low = 0, high = 1, size = particleSize)\n",
    "    return particle"
   ]
  },
  {
   "cell_type": "code",
   "execution_count": 208,
   "metadata": {},
   "outputs": [
    {
     "data": {
      "text/plain": [
       "array([3.08528257, 0.0830078 , 2.53459294, 2.99521553, 1.99402805,\n",
       "       0.89918658, 0.79225146, 3.04212285, 0.67644335, 0.35335926])"
      ]
     },
     "execution_count": 208,
     "metadata": {},
     "output_type": "execute_result"
    }
   ],
   "source": [
    "createParticle(10)"
   ]
  },
  {
   "cell_type": "code",
   "execution_count": 209,
   "metadata": {},
   "outputs": [],
   "source": [
    "def createParticleVelocities(particleSize, v_min = -4, v_max = 4):\n",
    "    velocities = v_min + (v_max - v_min) * np.random.uniform(low = 0, high = 1, size = particleSize)\n",
    "    return velocities"
   ]
  },
  {
   "cell_type": "code",
   "execution_count": 210,
   "metadata": {},
   "outputs": [
    {
     "data": {
      "text/plain": [
       "array([ 1.48287855,  3.62714677, -3.96841387,  0.09753811,  2.50096769,\n",
       "        0.90020853,  1.77404254, -1.66499145,  3.34219298,  1.71660627])"
      ]
     },
     "execution_count": 210,
     "metadata": {},
     "output_type": "execute_result"
    }
   ],
   "source": [
    "createParticleVelocities(10)"
   ]
  },
  {
   "cell_type": "code",
   "execution_count": 211,
   "metadata": {},
   "outputs": [],
   "source": [
    "def createPopParticles(popSize, particle_length):\n",
    "    pop = [createParticle(particle_length) for i in range(0,popSize)]\n",
    "    return np.array(pop)"
   ]
  },
  {
   "cell_type": "code",
   "execution_count": 212,
   "metadata": {},
   "outputs": [],
   "source": [
    "def createPopVelocities(popSize, particle_length):\n",
    "    pop_vel = [createParticleVelocities(particle_length) for i in range(0,popSize)]\n",
    "    return np.array(pop_vel)"
   ]
  },
  {
   "cell_type": "code",
   "execution_count": 213,
   "metadata": {},
   "outputs": [],
   "source": [
    "def generateSantasPathFromParticlesPop(population):\n",
    "    path_populations = np.argsort(population).tolist()\n",
    "    #The constraint is that for each path should start and end at 0!\n",
    "    for path in path_populations:\n",
    "        path.remove(0)\n",
    "        path.insert(0,0)\n",
    "        path.insert(len(path), 0)\n",
    "    return path_populations"
   ]
  },
  {
   "cell_type": "code",
   "execution_count": 214,
   "metadata": {},
   "outputs": [],
   "source": [
    "import math\n",
    "def is_prime(n):\n",
    "    if n == 2:\n",
    "        return True\n",
    "    if n % 2 == 0 or n <= 1:\n",
    "        return False\n",
    "\n",
    "    sqr = int(math.sqrt(n)) + 1\n",
    "\n",
    "    for divisor in range(3, sqr, 2):\n",
    "        if n % divisor == 0:\n",
    "            return False\n",
    "    return True\n",
    "def not_prime(n):\n",
    "    if n == 2:\n",
    "        return False\n",
    "    if n % 2 == 0 or n <= 1:\n",
    "        return True\n",
    "\n",
    "    sqr = int(math.sqrt(n)) + 1\n",
    "\n",
    "    for divisor in range(3, sqr, 2):\n",
    "        if n % divisor == 0:\n",
    "            return True\n",
    "    return False\n",
    "\n",
    "def cities_distance(route, coors):\n",
    "    df = coors.copy()\n",
    "    df = df.loc[route].reset_index()\n",
    "    df = df.rename(columns = {'index' : 'CityId'})\n",
    "    df['dist'] = np.sqrt((df.X - df.X.shift())**2 + (df.Y - df.Y.shift())**2)\n",
    "    df = df.drop(0)\n",
    "    idx = (df.index % 10 == 0)\n",
    "    idx = df.loc[idx].CityId.apply(not_prime)\n",
    "    idx = idx.index[idx.values]\n",
    "    df.loc[idx, 'dist'] = df.loc[idx, 'dist'] + df.loc[idx, 'dist'] / 10\n",
    "    return np.sum(df['dist'])\n",
    "\n",
    "def euclidean_dist(id_a, id_b, coors):\n",
    "    a_coordinates = coors[id_a]\n",
    "    b_coordinates = coors[id_b]\n",
    "    partial_sum_X = np.power(a_coordinates[0] - b_coordinates[0], 2)\n",
    "    partial_sum_Y = np.power(a_coordinates[1] - b_coordinates[1], 2)\n",
    "    distance = np.sqrt(partial_sum_X + partial_sum_Y)\n",
    "    return(distance)"
   ]
  },
  {
   "cell_type": "code",
   "execution_count": 215,
   "metadata": {},
   "outputs": [],
   "source": [
    "def evaluate_paths(paths, cities):\n",
    "    distances = []\n",
    "    for path in paths:\n",
    "        distances.append(cities_distance(path, cities))\n",
    "    return np.array(distances)"
   ]
  },
  {
   "cell_type": "code",
   "execution_count": 216,
   "metadata": {},
   "outputs": [],
   "source": [
    "def swapMutation(pop):\n",
    "    pos_to_swap = np.random.choice(range(0,len(pop)), size = 2, replace = False)\n",
    "    pop[pos_to_swap[0]], pop[pos_to_swap[1]] = pop[pos_to_swap[1]], pop[pos_to_swap[0]]\n",
    "    return pop"
   ]
  },
  {
   "cell_type": "code",
   "execution_count": 223,
   "metadata": {},
   "outputs": [],
   "source": [
    "def particleSwarmOptimization(path_length,\n",
    "                              coors,\n",
    "                              ro=50,\n",
    "                              number_of_iterations = 100,\n",
    "                              decrement_factor = 0.975,\n",
    "                              inertia_weight = 0.9,\n",
    "                              wait_interval = 20):\n",
    "\n",
    "    cities = coors\n",
    "    #iteration counter\n",
    "    t = 0\n",
    "    #Initialization\n",
    "    pop = createPopParticles(popSize= ro, particle_length=path_length)\n",
    "    best_pop = pop\n",
    "    vel = createPopVelocities(popSize= ro, particle_length=path_length)\n",
    "    paths = generateSantasPathFromParticlesPop(pop)\n",
    "    distances = evaluate_paths(paths, cities)\n",
    "    best_distances = distances\n",
    "    #Initialize support variables where best results will be stored\n",
    "    best_iteration = t\n",
    "    best_particle_index = np.argsort(distances)[0]\n",
    "    best_particle = pop[best_particle_index]\n",
    "    global_min_distance = distances[best_particle_index]\n",
    "    c1 = 2 #cognitive param\n",
    "    c2 = 2 #social param\n",
    "    r1 = np.random.uniform(low = 0, high = 1)\n",
    "    r2 = np.random.uniform(low = 0, high = 1)\n",
    "    \n",
    "    result = [[t,global_min_distance]]\n",
    "    for t in range(1,number_of_iterations + 1):\n",
    "        print(t)\n",
    "        inertia_weight = inertia_weight * decrement_factor\n",
    "        if inertia_weight < 0.4:\n",
    "            inertia_weight = 0.4\n",
    "        vel = inertia_weight * vel\n",
    "        vel = vel +  c1 * r1 * (best_pop - pop)\n",
    "        vel =  vel + c2 * r2 * (best_particle - pop)\n",
    "        pop = pop + vel\n",
    "        elements_to_mutate = np.random.choice(range(0,ro), size = round(ro/10), replace=False)\n",
    "        #print(elements_to_mutate)\n",
    "        for el in elements_to_mutate:            \n",
    "            pop[el] = swapMutation(pop[el])\n",
    "        paths = generateSantasPathFromParticlesPop(pop)\n",
    "        distances = evaluate_paths(paths, cities)\n",
    "        distance_comparison = distances < best_distances\n",
    "        best_distances[distance_comparison] = distances[distance_comparison]\n",
    "        \n",
    "        #Update global best results if necessary\n",
    "        current_iteration_best_index = np.argsort(distances)[0]\n",
    "        current_min_distance = distances[current_iteration_best_index]\n",
    "        if current_min_distance < global_min_distance:\n",
    "            best_iteration = t\n",
    "            best_particle = pop[current_iteration_best_index]\n",
    "            global_min_distance = current_min_distance\n",
    "        elif t > best_iteration + wait_interval:\n",
    "            break\n",
    "        result.append([t,global_min_distance]) \n",
    "    return result"
   ]
  },
  {
   "cell_type": "code",
   "execution_count": 224,
   "metadata": {},
   "outputs": [],
   "source": [
    "cities = pd.read_csv('cities.csv')\n",
    "coors = cities[['X', 'Y']]"
   ]
  },
  {
   "cell_type": "code",
   "execution_count": 225,
   "metadata": {},
   "outputs": [
    {
     "name": "stdout",
     "output_type": "stream",
     "text": [
      "1\n",
      "2\n",
      "3\n",
      "4\n",
      "5\n",
      "6\n",
      "7\n",
      "8\n",
      "9\n",
      "10\n",
      "11\n",
      "12\n",
      "13\n",
      "14\n",
      "15\n",
      "16\n",
      "17\n",
      "18\n",
      "19\n",
      "20\n",
      "21\n",
      "22\n",
      "23\n",
      "24\n",
      "25\n",
      "26\n",
      "27\n",
      "28\n",
      "29\n"
     ]
    }
   ],
   "source": [
    "res = particleSwarmOptimization(len(coors)-1,\n",
    "                              coors)"
   ]
  },
  {
   "cell_type": "code",
   "execution_count": 226,
   "metadata": {},
   "outputs": [
    {
     "name": "stdout",
     "output_type": "stream",
     "text": [
      "[[0, 446336639.818132], [1, 445960580.6894744], [2, 445926110.4559802], [3, 445926110.4559802], [4, 445926110.4559802], [5, 445926110.4559802], [6, 445926110.4559802], [7, 445926110.4559802], [8, 445391191.9969069], [9, 445391191.9969069], [10, 445391191.9969069], [11, 445391191.9969069], [12, 445391191.9969069], [13, 445391191.9969069], [14, 445391191.9969069], [15, 445391191.9969069], [16, 445391191.9969069], [17, 445391191.9969069], [18, 445391191.9969069], [19, 445391191.9969069], [20, 445391191.9969069], [21, 445391191.9969069], [22, 445391191.9969069], [23, 445391191.9969069], [24, 445391191.9969069], [25, 445391191.9969069], [26, 445391191.9969069], [27, 445391191.9969069], [28, 445391191.9969069]]\n"
     ]
    }
   ],
   "source": [
    "print(res)"
   ]
  },
  {
   "cell_type": "code",
   "execution_count": null,
   "metadata": {},
   "outputs": [],
   "source": []
  }
 ],
 "metadata": {
  "kernelspec": {
   "display_name": "Python 3",
   "language": "python",
   "name": "python3"
  },
  "language_info": {
   "codemirror_mode": {
    "name": "ipython",
    "version": 3
   },
   "file_extension": ".py",
   "mimetype": "text/x-python",
   "name": "python",
   "nbconvert_exporter": "python",
   "pygments_lexer": "ipython3",
   "version": "3.6.6"
  }
 },
 "nbformat": 4,
 "nbformat_minor": 2
}
