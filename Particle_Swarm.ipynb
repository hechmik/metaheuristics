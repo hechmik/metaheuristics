{
 "cells": [
  {
   "cell_type": "code",
   "execution_count": 1,
   "metadata": {},
   "outputs": [],
   "source": [
    "import pandas as pd\n",
    "import numpy as np\n",
    "import random"
   ]
  },
  {
   "cell_type": "code",
   "execution_count": 2,
   "metadata": {},
   "outputs": [],
   "source": [
    "random.seed(10)\n",
    "np.random.seed(10)"
   ]
  },
  {
   "cell_type": "code",
   "execution_count": 3,
   "metadata": {},
   "outputs": [],
   "source": [
    "def createParticle(particleSize, x_min = 0, x_max = 4):\n",
    "    particle = x_min + (x_max - x_min) * np.random.uniform(low = 0, high = 1, size = particleSize)\n",
    "    return particle"
   ]
  },
  {
   "cell_type": "code",
   "execution_count": 4,
   "metadata": {},
   "outputs": [
    {
     "data": {
      "text/plain": [
       "array([3.08528257, 0.0830078 , 2.53459294, 2.99521553, 1.99402805,\n",
       "       0.89918658, 0.79225146, 3.04212285, 0.67644335, 0.35335926])"
      ]
     },
     "execution_count": 4,
     "metadata": {},
     "output_type": "execute_result"
    }
   ],
   "source": [
    "createParticle(10)"
   ]
  },
  {
   "cell_type": "code",
   "execution_count": 5,
   "metadata": {},
   "outputs": [],
   "source": [
    "def createParticleVelocities(particleSize, v_min = -4, v_max = 4):\n",
    "    velocities = v_min + (v_max - v_min) * np.random.uniform(low = 0, high = 1, size = particleSize)\n",
    "    return velocities"
   ]
  },
  {
   "cell_type": "code",
   "execution_count": 6,
   "metadata": {},
   "outputs": [
    {
     "data": {
      "text/plain": [
       "array([ 1.48287855,  3.62714677, -3.96841387,  0.09753811,  2.50096769,\n",
       "        0.90020853,  1.77404254, -1.66499145,  3.34219298,  1.71660627])"
      ]
     },
     "execution_count": 6,
     "metadata": {},
     "output_type": "execute_result"
    }
   ],
   "source": [
    "createParticleVelocities(10)"
   ]
  },
  {
   "cell_type": "code",
   "execution_count": 7,
   "metadata": {},
   "outputs": [],
   "source": [
    "def createPopParticles(popSize, particle_length):\n",
    "    pop = [createParticle(particle_length) for i in range(0,popSize)]\n",
    "    return np.array(pop)"
   ]
  },
  {
   "cell_type": "code",
   "execution_count": 8,
   "metadata": {},
   "outputs": [],
   "source": [
    "def createPopVelocities(popSize, particle_length):\n",
    "    pop_vel = [createParticleVelocities(particle_length) for i in range(0,popSize)]\n",
    "    return np.array(pop_vel)"
   ]
  },
  {
   "cell_type": "code",
   "execution_count": 9,
   "metadata": {},
   "outputs": [],
   "source": [
    "def generateSantasPathFromParticlesPop(population):\n",
    "    path_populations = np.argsort(population).tolist()\n",
    "    #The constraint is that for each path should start and end at 0!\n",
    "    for path in path_populations:\n",
    "        path.remove(0)\n",
    "        path.insert(0,0)\n",
    "        path.insert(len(path), 0)\n",
    "    return path_populations"
   ]
  },
  {
   "cell_type": "code",
   "execution_count": 10,
   "metadata": {},
   "outputs": [],
   "source": [
    "import math\n",
    "def is_prime(n):\n",
    "    if n == 2:\n",
    "        return True\n",
    "    if n % 2 == 0 or n <= 1:\n",
    "        return False\n",
    "\n",
    "    sqr = int(math.sqrt(n)) + 1\n",
    "\n",
    "    for divisor in range(3, sqr, 2):\n",
    "        if n % divisor == 0:\n",
    "            return False\n",
    "    return True\n",
    "def not_prime(n):\n",
    "    if n == 2:\n",
    "        return False\n",
    "    if n % 2 == 0 or n <= 1:\n",
    "        return True\n",
    "\n",
    "    sqr = int(math.sqrt(n)) + 1\n",
    "\n",
    "    for divisor in range(3, sqr, 2):\n",
    "        if n % divisor == 0:\n",
    "            return True\n",
    "    return False\n",
    "\n",
    "def cities_distance(route, coors):\n",
    "    df = coors.copy()\n",
    "    df = df.loc[route].reset_index()\n",
    "    df = df.rename(columns = {'index' : 'CityId'})\n",
    "    df['dist'] = np.sqrt((df.X - df.X.shift())**2 + (df.Y - df.Y.shift())**2)\n",
    "    df = df.drop(0)\n",
    "    idx = (df.index % 10 == 0)\n",
    "    idx = df.loc[idx].CityId.apply(not_prime)\n",
    "    idx = idx.index[idx.values]\n",
    "    df.loc[idx, 'dist'] = df.loc[idx, 'dist'] + df.loc[idx, 'dist'] / 10\n",
    "    return np.sum(df['dist'])\n",
    "\n",
    "def euclidean_dist(id_a, id_b, coors):\n",
    "    a_coordinates = coors[id_a]\n",
    "    b_coordinates = coors[id_b]\n",
    "    partial_sum_X = np.power(a_coordinates[0] - b_coordinates[0], 2)\n",
    "    partial_sum_Y = np.power(a_coordinates[1] - b_coordinates[1], 2)\n",
    "    distance = np.sqrt(partial_sum_X + partial_sum_Y)\n",
    "    return(distance)"
   ]
  },
  {
   "cell_type": "code",
   "execution_count": 11,
   "metadata": {},
   "outputs": [],
   "source": [
    "def evaluate_paths(paths, cities):\n",
    "    distances = []\n",
    "    for path in paths:\n",
    "        distances.append(cities_distance(path, cities))\n",
    "    return np.array(distances)"
   ]
  },
  {
   "cell_type": "code",
   "execution_count": 12,
   "metadata": {},
   "outputs": [],
   "source": [
    "def swapMutation(pop):\n",
    "    pos_to_swap = np.random.choice(range(0,len(pop)), size = 2, replace = False)\n",
    "    pop[pos_to_swap[0]], pop[pos_to_swap[1]] = pop[pos_to_swap[1]], pop[pos_to_swap[0]]\n",
    "    return pop"
   ]
  },
  {
   "cell_type": "code",
   "execution_count": 24,
   "metadata": {},
   "outputs": [],
   "source": [
    "def particleSwarmOptimization(path_length,\n",
    "                              coors,\n",
    "                              ro=50,\n",
    "                              number_of_iterations = 1000,\n",
    "                              decrement_factor = 0.975,\n",
    "                              inertia_weight = 0.9,\n",
    "                              wait_interval = 50):\n",
    "\n",
    "    cities = coors\n",
    "    #iteration counter\n",
    "    t = 0\n",
    "    #Initialization\n",
    "    pop = createPopParticles(popSize= ro, particle_length=path_length)\n",
    "    best_pop = pop\n",
    "    vel = createPopVelocities(popSize= ro, particle_length=path_length)\n",
    "    paths = generateSantasPathFromParticlesPop(pop)\n",
    "    distances = evaluate_paths(paths, cities)\n",
    "    best_distances = distances\n",
    "    #Initialize support variables where best results will be stored\n",
    "    best_iteration = t\n",
    "    best_particle_index = np.argsort(distances)[0]\n",
    "    best_particle = pop[best_particle_index]\n",
    "    global_min_distance = distances[best_particle_index]\n",
    "    c1 = 2 #cognitive param\n",
    "    c2 = 2 #social param\n",
    "    r1 = np.random.uniform(low = 0, high = 1)\n",
    "    r2 = np.random.uniform(low = 0, high = 1)\n",
    "    \n",
    "    result = [[t,global_min_distance]]\n",
    "    for t in range(1,number_of_iterations + 1):\n",
    "        if t % 10 == 0:\n",
    "            print(\"Iteration: {}, minimum distance so far: {}\".format(t, global_min_distance))\n",
    "        inertia_weight = inertia_weight * decrement_factor\n",
    "        if inertia_weight < 0.4:\n",
    "            inertia_weight = 0.4\n",
    "        vel = inertia_weight * vel\n",
    "        vel = vel +  c1 * r1 * (best_pop - pop)\n",
    "        vel =  vel + c2 * r2 * (best_particle - pop)\n",
    "        pop = pop + vel\n",
    "        elements_to_mutate = np.random.choice(range(0,ro), size = round(ro/10), replace=False)\n",
    "        #print(elements_to_mutate)\n",
    "        for el in elements_to_mutate:            \n",
    "            pop[el] = swapMutation(pop[el])\n",
    "        #Compute new path and the related distances\n",
    "        paths = generateSantasPathFromParticlesPop(pop)\n",
    "        distances = evaluate_paths(paths, cities)\n",
    "        #Find which paths lead to an improved distance and update the corresponding values\n",
    "        distance_comparison = distances < best_distances\n",
    "        best_distances[distance_comparison] = distances[distance_comparison]\n",
    "        best_pop[distance_comparison] = pop[distance_comparison]\n",
    "        #Update global best results if necessary\n",
    "        current_iteration_best_index = np.argsort(distances)[0]\n",
    "        current_min_distance = distances[current_iteration_best_index]\n",
    "        if current_min_distance < global_min_distance:\n",
    "            best_iteration = t\n",
    "            best_particle = pop[current_iteration_best_index]\n",
    "            global_min_distance = current_min_distance\n",
    "        elif t > best_iteration + wait_interval:\n",
    "            break\n",
    "        result.append([t,global_min_distance]) \n",
    "    return result"
   ]
  },
  {
   "cell_type": "code",
   "execution_count": 25,
   "metadata": {},
   "outputs": [],
   "source": [
    "cities = pd.read_csv('cities.csv')\n",
    "coors = cities[['X', 'Y']]"
   ]
  },
  {
   "cell_type": "code",
   "execution_count": 26,
   "metadata": {},
   "outputs": [
    {
     "name": "stdout",
     "output_type": "stream",
     "text": [
      "Iteration: 10\n",
      "Iteration: 20\n",
      "Iteration: 30\n",
      "Iteration: 40\n",
      "Iteration: 50\n",
      "Iteration: 60\n",
      "Iteration: 70\n",
      "Iteration: 80\n",
      "Iteration: 90\n",
      "Iteration: 100\n",
      "Iteration: 110\n",
      "Iteration: 120\n",
      "Iteration: 130\n",
      "Iteration: 140\n",
      "Iteration: 150\n",
      "Iteration: 160\n",
      "Iteration: 170\n",
      "Iteration: 180\n",
      "Iteration: 190\n",
      "Iteration: 200\n",
      "Iteration: 210\n",
      "Iteration: 220\n",
      "Iteration: 230\n",
      "Iteration: 240\n",
      "Iteration: 250\n",
      "Iteration: 260\n",
      "Iteration: 270\n",
      "Iteration: 280\n",
      "Iteration: 290\n",
      "Iteration: 300\n",
      "Iteration: 310\n",
      "Iteration: 320\n",
      "Iteration: 330\n",
      "Iteration: 340\n",
      "Iteration: 350\n",
      "Iteration: 360\n",
      "Iteration: 370\n",
      "Iteration: 380\n",
      "Iteration: 390\n",
      "Iteration: 400\n",
      "Iteration: 410\n",
      "Iteration: 420\n",
      "Iteration: 430\n",
      "Iteration: 440\n",
      "Iteration: 450\n",
      "Iteration: 460\n",
      "Iteration: 470\n",
      "Iteration: 480\n",
      "Iteration: 490\n",
      "Iteration: 500\n",
      "Iteration: 510\n",
      "Iteration: 520\n",
      "Iteration: 530\n",
      "Iteration: 540\n",
      "Iteration: 550\n",
      "Iteration: 560\n",
      "Iteration: 570\n",
      "Iteration: 580\n",
      "Iteration: 590\n",
      "Iteration: 600\n",
      "Iteration: 610\n",
      "Iteration: 620\n",
      "Iteration: 630\n",
      "Iteration: 640\n",
      "Iteration: 650\n",
      "Iteration: 660\n",
      "Iteration: 670\n",
      "Iteration: 680\n",
      "Iteration: 690\n",
      "Iteration: 700\n",
      "Iteration: 710\n",
      "Iteration: 720\n",
      "Iteration: 730\n",
      "Iteration: 740\n",
      "Iteration: 750\n",
      "Iteration: 760\n",
      "Iteration: 770\n",
      "Iteration: 780\n",
      "Iteration: 790\n",
      "Iteration: 800\n",
      "Iteration: 810\n",
      "Iteration: 820\n",
      "Iteration: 830\n",
      "Iteration: 840\n",
      "Iteration: 850\n",
      "Iteration: 860\n",
      "Iteration: 870\n"
     ]
    }
   ],
   "source": [
    "res = particleSwarmOptimization(len(coors)-1,\n",
    "                              coors)"
   ]
  },
  {
   "cell_type": "code",
   "execution_count": 27,
   "metadata": {},
   "outputs": [
    {
     "name": "stdout",
     "output_type": "stream",
     "text": [
      "[869, 445100209.5926085]\n"
     ]
    }
   ],
   "source": [
    "print(res[-1])"
   ]
  },
  {
   "cell_type": "code",
   "execution_count": null,
   "metadata": {},
   "outputs": [],
   "source": []
  }
 ],
 "metadata": {
  "kernelspec": {
   "display_name": "Python 3",
   "language": "python",
   "name": "python3"
  },
  "language_info": {
   "codemirror_mode": {
    "name": "ipython",
    "version": 3
   },
   "file_extension": ".py",
   "mimetype": "text/x-python",
   "name": "python",
   "nbconvert_exporter": "python",
   "pygments_lexer": "ipython3",
   "version": "3.6.6"
  }
 },
 "nbformat": 4,
 "nbformat_minor": 2
}
