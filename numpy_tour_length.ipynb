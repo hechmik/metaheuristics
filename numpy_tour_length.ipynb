{
 "cells": [
  {
   "cell_type": "code",
   "execution_count": 1,
   "metadata": {},
   "outputs": [],
   "source": [
    "import math\n",
    "import numpy as np\n",
    "import pandas as pd\n",
    "import timeit"
   ]
  },
  {
   "cell_type": "code",
   "execution_count": 2,
   "metadata": {},
   "outputs": [],
   "source": [
    "citiesnp = np.genfromtxt('cities.csv', delimiter=',', skip_header = 1) # load as numpy array"
   ]
  },
  {
   "cell_type": "code",
   "execution_count": 3,
   "metadata": {},
   "outputs": [],
   "source": [
    "def not_prime(n):\n",
    "    if n == 2:\n",
    "        return False\n",
    "    if n % 2 == 0 or n <= 1:\n",
    "        return True\n",
    "\n",
    "    sqr = int(math.sqrt(n)) + 1\n",
    "\n",
    "    for divisor in range(3, sqr, 2):\n",
    "        if n % divisor == 0:\n",
    "            return True\n",
    "    return False"
   ]
  },
  {
   "cell_type": "code",
   "execution_count": 4,
   "metadata": {},
   "outputs": [],
   "source": [
    "np_not_prime = np.vectorize(not_prime)"
   ]
  },
  {
   "cell_type": "code",
   "execution_count": 5,
   "metadata": {},
   "outputs": [],
   "source": [
    "nums = np.arange(0,len(citiesnp))"
   ]
  },
  {
   "cell_type": "code",
   "execution_count": 6,
   "metadata": {},
   "outputs": [],
   "source": [
    "not_primes_list = nums[np_not_prime(nums)]"
   ]
  },
  {
   "cell_type": "code",
   "execution_count": 7,
   "metadata": {},
   "outputs": [],
   "source": [
    "def np_total_length(r, c):\n",
    "    r = np.concatenate(([0], r))\n",
    "    c = c[r, :]\n",
    "    cs = np.roll(c, -1, axis =0)\n",
    "    d = np.sqrt((c[:,1] - cs[:,1])**2 + (c[:,2] - cs[:,2])**2)\n",
    "    m = np.concatenate((np.arange(1, len(c)+1)[np.newaxis,:],\n",
    "                        cs[:, 0][np.newaxis,:],\n",
    "                        d[np.newaxis,:]))\n",
    "    p = m[:, np.arange(9, len(c), 10)]\n",
    "    sel = p[0,][np_not_prime(p[1,])].astype(int)\n",
    "    m[:, sel-1] *= 1.1\n",
    "    \n",
    "    return np.sum(m[2])"
   ]
  },
  {
   "cell_type": "code",
   "execution_count": 8,
   "metadata": {},
   "outputs": [],
   "source": [
    "def np_total_length2(r, c):\n",
    "    r = np.concatenate(([0], r))\n",
    "    c = c[r, :]\n",
    "    cs = np.roll(c, -1, axis =0)\n",
    "    d = np.sqrt(np.power(c[:,1] - cs[:,1], 2) + np.power(c[:,2] - cs[:,2], 2))\n",
    "    m = np.concatenate((np.arange(1, len(c)+1)[np.newaxis,:],\n",
    "                        cs[:, 0][np.newaxis,:],\n",
    "                        d[np.newaxis,:]))    \n",
    "    p = m[:, np.arange(9, len(c), 10)]\n",
    "    sel = p[0,][np_not_prime(p[1,])].astype(int)\n",
    "    m[:, sel-1] *= 1.1\n",
    "    \n",
    "    return np.sum(m[2])"
   ]
  },
  {
   "cell_type": "code",
   "execution_count": 9,
   "metadata": {},
   "outputs": [],
   "source": [
    "def np_total_length3(r, c):\n",
    "    r = np.concatenate(([0], r))\n",
    "    c = c[r, :]\n",
    "    cs = np.roll(c, -1, axis =0)\n",
    "    d = np.sqrt(np.power(c[:,1] - cs[:,1], 2) + np.power(c[:,2] - cs[:,2], 2))\n",
    "    m = np.concatenate((np.arange(1, len(c)+1),\n",
    "                        cs[:, 0],\n",
    "                        d)).reshape(len(c), 3, order='F')  \n",
    "    p = m[np.arange(9, len(c), 10), ]\n",
    "    sel = p[:,0][np_not_prime(p[:,1])].astype(int)\n",
    "    m[sel-1] *= 1.1\n",
    "    \n",
    "    return np.sum(m[:, 2])"
   ]
  },
  {
   "cell_type": "code",
   "execution_count": 10,
   "metadata": {},
   "outputs": [],
   "source": [
    "def np_total_length4(r, c, black_list):\n",
    "    r = np.concatenate(([0], r))\n",
    "    c = c[r, :]\n",
    "    cs = np.roll(c, -1, axis =0)\n",
    "    d = np.sqrt((c[:,1] - cs[:,1])**2 + (c[:,2] - cs[:,2])**2)\n",
    "    m = np.concatenate((np.arange(1, len(c)+1)[np.newaxis,:],\n",
    "                        cs[:, 0][np.newaxis,:],\n",
    "                        d[np.newaxis,:]))\n",
    "    p = m[:, np.arange(9, len(c), 10)]\n",
    "    sel = p[0,][np.isin(p[1,], black_list)].astype(int)\n",
    "    m[:, sel-1] *= 1.1\n",
    "    \n",
    "    return np.sum(m[2])"
   ]
  },
  {
   "cell_type": "code",
   "execution_count": 11,
   "metadata": {},
   "outputs": [],
   "source": [
    "cities_sub = citiesnp[:26]\n",
    "np.random.seed(3)\n",
    "r = np.random.permutation(range(1,26))"
   ]
  },
  {
   "cell_type": "code",
   "execution_count": 12,
   "metadata": {},
   "outputs": [
    {
     "data": {
      "text/plain": [
       "60566.12398696876"
      ]
     },
     "execution_count": 12,
     "metadata": {},
     "output_type": "execute_result"
    }
   ],
   "source": [
    "np_total_length(r, cities_sub)"
   ]
  },
  {
   "cell_type": "code",
   "execution_count": 13,
   "metadata": {},
   "outputs": [
    {
     "data": {
      "text/plain": [
       "60566.12398696876"
      ]
     },
     "execution_count": 13,
     "metadata": {},
     "output_type": "execute_result"
    }
   ],
   "source": [
    "np_total_length4(r, cities_sub, not_primes_list)"
   ]
  },
  {
   "cell_type": "markdown",
   "metadata": {},
   "source": [
    "# Performance"
   ]
  },
  {
   "cell_type": "code",
   "execution_count": 14,
   "metadata": {},
   "outputs": [],
   "source": [
    "np.random.seed(444)\n",
    "r = np.random.permutation(range(1, len(citiesnp)))"
   ]
  },
  {
   "cell_type": "code",
   "execution_count": 15,
   "metadata": {
    "scrolled": true
   },
   "outputs": [
    {
     "data": {
      "text/plain": [
       "447590935.07957524"
      ]
     },
     "execution_count": 15,
     "metadata": {},
     "output_type": "execute_result"
    }
   ],
   "source": [
    "np_total_length(r, citiesnp)"
   ]
  },
  {
   "cell_type": "code",
   "execution_count": 16,
   "metadata": {},
   "outputs": [
    {
     "data": {
      "text/plain": [
       "447590935.07957524"
      ]
     },
     "execution_count": 16,
     "metadata": {},
     "output_type": "execute_result"
    }
   ],
   "source": [
    "np_total_length2(r, citiesnp)"
   ]
  },
  {
   "cell_type": "code",
   "execution_count": 17,
   "metadata": {
    "scrolled": true
   },
   "outputs": [
    {
     "data": {
      "text/plain": [
       "447590935.07957524"
      ]
     },
     "execution_count": 17,
     "metadata": {},
     "output_type": "execute_result"
    }
   ],
   "source": [
    "np_total_length3(r, citiesnp)"
   ]
  },
  {
   "cell_type": "code",
   "execution_count": 18,
   "metadata": {
    "scrolled": true
   },
   "outputs": [
    {
     "data": {
      "text/plain": [
       "447590935.07957524"
      ]
     },
     "execution_count": 18,
     "metadata": {},
     "output_type": "execute_result"
    }
   ],
   "source": [
    "np_total_length4(r, citiesnp, not_primes_list)"
   ]
  },
  {
   "cell_type": "markdown",
   "metadata": {},
   "source": [
    "Previous fastest, numpy version 1:"
   ]
  },
  {
   "cell_type": "code",
   "execution_count": 19,
   "metadata": {
    "scrolled": true
   },
   "outputs": [
    {
     "data": {
      "text/plain": [
       "68.2871757880933"
      ]
     },
     "execution_count": 19,
     "metadata": {},
     "output_type": "execute_result"
    }
   ],
   "source": [
    "timeit.timeit('np_total_length(r, citiesnp)', number=1000, globals=globals())"
   ]
  },
  {
   "cell_type": "markdown",
   "metadata": {},
   "source": [
    "New Numpy Version 4:"
   ]
  },
  {
   "cell_type": "code",
   "execution_count": 20,
   "metadata": {},
   "outputs": [
    {
     "data": {
      "text/plain": [
       "38.493459967004455"
      ]
     },
     "execution_count": 20,
     "metadata": {},
     "output_type": "execute_result"
    }
   ],
   "source": [
    "timeit.timeit('np_total_length4(r, citiesnp, not_primes_list)', number=1000, globals=globals())"
   ]
  }
 ],
 "metadata": {
  "kernelspec": {
   "display_name": "Python 3",
   "language": "python",
   "name": "python3"
  },
  "language_info": {
   "codemirror_mode": {
    "name": "ipython",
    "version": 3
   },
   "file_extension": ".py",
   "mimetype": "text/x-python",
   "name": "python",
   "nbconvert_exporter": "python",
   "pygments_lexer": "ipython3",
   "version": "3.6.8"
  }
 },
 "nbformat": 4,
 "nbformat_minor": 2
}
