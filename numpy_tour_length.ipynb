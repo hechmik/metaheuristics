{
 "cells": [
  {
   "cell_type": "code",
   "execution_count": 1,
   "metadata": {},
   "outputs": [],
   "source": [
    "import math\n",
    "import numpy as np\n",
    "import pandas as pd\n",
    "import timeit"
   ]
  },
  {
   "cell_type": "code",
   "execution_count": 2,
   "metadata": {},
   "outputs": [],
   "source": [
    "citiesnp = np.genfromtxt('cities.csv', delimiter=',', skip_header = 1) # load as numpy array"
   ]
  },
  {
   "cell_type": "code",
   "execution_count": 3,
   "metadata": {},
   "outputs": [],
   "source": [
    "def not_prime(n):\n",
    "    if n == 2:\n",
    "        return False\n",
    "    if n % 2 == 0 or n <= 1:\n",
    "        return True\n",
    "\n",
    "    sqr = int(math.sqrt(n)) + 1\n",
    "\n",
    "    for divisor in range(3, sqr, 2):\n",
    "        if n % divisor == 0:\n",
    "            return True\n",
    "    return False"
   ]
  },
  {
   "cell_type": "code",
   "execution_count": 4,
   "metadata": {},
   "outputs": [],
   "source": [
    "np_not_prime = np.vectorize(not_prime)"
   ]
  },
  {
   "cell_type": "code",
   "execution_count": 5,
   "metadata": {},
   "outputs": [],
   "source": [
    "def np_total_length(c, r):\n",
    "    r = np.concatenate(([0], r))\n",
    "    c = c[r, :]\n",
    "    cs = np.roll(c, -1, axis =0)\n",
    "    d = np.sqrt((c[:,1] - cs[:,1])**2 + (c[:,2] - cs[:,2])**2)\n",
    "    m = np.concatenate((np.arange(1, len(c)+1)[np.newaxis,:],\n",
    "                        cs[:, 0][np.newaxis,:],\n",
    "                        d[np.newaxis,:]))\n",
    "    p = m[:, np.arange(9, len(c), 10)]\n",
    "    sel = p[0,][np_not_prime(p[1,])].astype(int)\n",
    "    m[:, sel-1] *= 1.1\n",
    "    \n",
    "    return np.sum(m[2])"
   ]
  },
  {
   "cell_type": "code",
   "execution_count": 6,
   "metadata": {},
   "outputs": [],
   "source": [
    "def np_total_length2(c, r):\n",
    "    r = np.concatenate(([0], r))\n",
    "    c = c[r, :]\n",
    "    cs = np.roll(c, -1, axis =0)\n",
    "    d = np.sqrt(np.power(c[:,1] - cs[:,1], 2) + np.power(c[:,2] - cs[:,2], 2))\n",
    "    m = np.concatenate((np.arange(1, len(c)+1)[np.newaxis,:],\n",
    "                        cs[:, 0][np.newaxis,:],\n",
    "                        d[np.newaxis,:]))    \n",
    "    p = m[:, np.arange(9, len(c), 10)]\n",
    "    sel = p[0,][np_not_prime(p[1,])].astype(int)\n",
    "    m[:, sel-1] *= 1.1\n",
    "    \n",
    "    return np.sum(m[2])"
   ]
  },
  {
   "cell_type": "code",
   "execution_count": 7,
   "metadata": {},
   "outputs": [],
   "source": [
    "def np_total_length3(c, r):\n",
    "    r = np.concatenate(([0], r))\n",
    "    c = c[r, :]\n",
    "    cs = np.roll(c, -1, axis =0)\n",
    "    d = np.sqrt(np.power(c[:,1] - cs[:,1], 2) + np.power(c[:,2] - cs[:,2], 2))\n",
    "    m = np.concatenate((np.arange(1, len(c)+1),\n",
    "                        cs[:, 0],\n",
    "                        d)).reshape(len(c), 3, order='F')  \n",
    "    p = m[np.arange(9, len(c), 10), ]\n",
    "    sel = p[:,0][np_not_prime(p[:,1])].astype(int)\n",
    "    m[sel-1] *= 1.1\n",
    "    \n",
    "    return np.sum(m[:, 2])"
   ]
  },
  {
   "cell_type": "markdown",
   "metadata": {},
   "source": [
    "Best performing old funcion:"
   ]
  },
  {
   "cell_type": "code",
   "execution_count": 8,
   "metadata": {},
   "outputs": [],
   "source": [
    "def total_length_mod(coors, route):\n",
    "    route = np.concatenate(([0], route, [0]))   \n",
    "    df = coors.copy()\n",
    "    df = df.loc[route].reset_index()\n",
    "    df = df.rename(columns = {'index' : 'CityId'})\n",
    "    df['dist'] = np.sqrt((df.X - df.X.shift())**2 + (df.Y - df.Y.shift())**2)\n",
    "    df = df.drop(0)\n",
    "    idx = (df.index % 10 == 0)\n",
    "    idx = df.loc[idx].CityId.apply(not_prime)\n",
    "    idx = idx.index[idx.values]\n",
    "    df.loc[idx, 'dist'] = df.loc[idx, 'dist'] + df.loc[idx, 'dist'] / 10\n",
    "    # print(df)\n",
    "    return np.sum(df['dist'])"
   ]
  },
  {
   "cell_type": "code",
   "execution_count": 9,
   "metadata": {},
   "outputs": [],
   "source": [
    "def total_length_mod2(coors, route):\n",
    "    route = np.concatenate(([0], route, [0]))   \n",
    "    df = coors.copy()\n",
    "    df = df.loc[route].reset_index()\n",
    "    df = df.rename(columns = {'index' : 'CityId'})\n",
    "    df['dist'] = np.sqrt(\n",
    "        np.power(df.X - df.X.shift(), 2) + np.power(df.Y - df.Y.shift(), 2))\n",
    "    df = df.drop(0)\n",
    "    idx = (df.index % 10 == 0)\n",
    "    idx = df.loc[idx].CityId.apply(not_prime)\n",
    "    idx = idx.index[idx.values]\n",
    "    df.loc[idx, 'dist'] *= 1.1\n",
    "    # print(df)\n",
    "    return np.sum(df['dist'])"
   ]
  },
  {
   "cell_type": "markdown",
   "metadata": {},
   "source": [
    "# Performance"
   ]
  },
  {
   "cell_type": "code",
   "execution_count": 10,
   "metadata": {},
   "outputs": [],
   "source": [
    "cities = pd.read_csv('cities.csv')\n",
    "coors = cities[['X', 'Y']]"
   ]
  },
  {
   "cell_type": "code",
   "execution_count": 11,
   "metadata": {},
   "outputs": [],
   "source": [
    "np.random.seed(3)\n",
    "idx = np.random.permutation(range(1, len(citiesnp)))"
   ]
  },
  {
   "cell_type": "code",
   "execution_count": 12,
   "metadata": {
    "scrolled": true
   },
   "outputs": [
    {
     "data": {
      "text/plain": [
       "447277748.2547363"
      ]
     },
     "execution_count": 12,
     "metadata": {},
     "output_type": "execute_result"
    }
   ],
   "source": [
    "np_total_length(citiesnp, idx)"
   ]
  },
  {
   "cell_type": "code",
   "execution_count": 13,
   "metadata": {},
   "outputs": [
    {
     "data": {
      "text/plain": [
       "447277748.2547363"
      ]
     },
     "execution_count": 13,
     "metadata": {},
     "output_type": "execute_result"
    }
   ],
   "source": [
    "np_total_length2(citiesnp, idx)"
   ]
  },
  {
   "cell_type": "code",
   "execution_count": 14,
   "metadata": {},
   "outputs": [
    {
     "data": {
      "text/plain": [
       "447277748.2547363"
      ]
     },
     "execution_count": 14,
     "metadata": {},
     "output_type": "execute_result"
    }
   ],
   "source": [
    "np_total_length3(citiesnp, idx)"
   ]
  },
  {
   "cell_type": "code",
   "execution_count": 15,
   "metadata": {},
   "outputs": [
    {
     "data": {
      "text/plain": [
       "447277748.2547363"
      ]
     },
     "execution_count": 15,
     "metadata": {},
     "output_type": "execute_result"
    }
   ],
   "source": [
    "total_length_mod(coors, idx)"
   ]
  },
  {
   "cell_type": "code",
   "execution_count": 16,
   "metadata": {
    "scrolled": true
   },
   "outputs": [
    {
     "data": {
      "text/plain": [
       "447277748.2547363"
      ]
     },
     "execution_count": 16,
     "metadata": {},
     "output_type": "execute_result"
    }
   ],
   "source": [
    "total_length_mod2(coors, idx)"
   ]
  },
  {
   "cell_type": "markdown",
   "metadata": {},
   "source": [
    "Numpy Version 1:"
   ]
  },
  {
   "cell_type": "code",
   "execution_count": 17,
   "metadata": {
    "scrolled": true
   },
   "outputs": [
    {
     "data": {
      "text/plain": [
       "81.53103981200414"
      ]
     },
     "execution_count": 17,
     "metadata": {},
     "output_type": "execute_result"
    }
   ],
   "source": [
    "timeit.timeit('np_total_length(citiesnp, idx)', number=1000, globals=globals())"
   ]
  },
  {
   "cell_type": "markdown",
   "metadata": {},
   "source": [
    "Numpy Version 2:"
   ]
  },
  {
   "cell_type": "code",
   "execution_count": 18,
   "metadata": {},
   "outputs": [
    {
     "data": {
      "text/plain": [
       "102.64210112508697"
      ]
     },
     "execution_count": 18,
     "metadata": {},
     "output_type": "execute_result"
    }
   ],
   "source": [
    "timeit.timeit('np_total_length2(citiesnp, idx)', number=1000, globals=globals())"
   ]
  },
  {
   "cell_type": "markdown",
   "metadata": {},
   "source": [
    "Numpy Version 3:"
   ]
  },
  {
   "cell_type": "code",
   "execution_count": 19,
   "metadata": {},
   "outputs": [
    {
     "data": {
      "text/plain": [
       "101.16836628269107"
      ]
     },
     "execution_count": 19,
     "metadata": {},
     "output_type": "execute_result"
    }
   ],
   "source": [
    "timeit.timeit('np_total_length3(citiesnp, idx)', number=1000, globals=globals())"
   ]
  },
  {
   "cell_type": "markdown",
   "metadata": {},
   "source": [
    "Old Version 1:"
   ]
  },
  {
   "cell_type": "code",
   "execution_count": 20,
   "metadata": {},
   "outputs": [
    {
     "data": {
      "text/plain": [
       "173.67243493152182"
      ]
     },
     "execution_count": 20,
     "metadata": {},
     "output_type": "execute_result"
    }
   ],
   "source": [
    "timeit.timeit('total_length_mod(coors, idx)', number=1000, globals=globals())"
   ]
  },
  {
   "cell_type": "markdown",
   "metadata": {},
   "source": [
    "Old Version 2:"
   ]
  },
  {
   "cell_type": "code",
   "execution_count": 21,
   "metadata": {},
   "outputs": [
    {
     "data": {
      "text/plain": [
       "175.5334068998916"
      ]
     },
     "execution_count": 21,
     "metadata": {},
     "output_type": "execute_result"
    }
   ],
   "source": [
    "timeit.timeit('total_length_mod2(coors, idx)', number=1000, globals=globals())"
   ]
  }
 ],
 "metadata": {
  "kernelspec": {
   "display_name": "Python 3",
   "language": "python",
   "name": "python3"
  },
  "language_info": {
   "codemirror_mode": {
    "name": "ipython",
    "version": 3
   },
   "file_extension": ".py",
   "mimetype": "text/x-python",
   "name": "python",
   "nbconvert_exporter": "python",
   "pygments_lexer": "ipython3",
   "version": "3.6.8"
  }
 },
 "nbformat": 4,
 "nbformat_minor": 2
}
