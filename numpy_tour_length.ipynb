{
 "cells": [
  {
   "cell_type": "code",
   "execution_count": 1,
   "metadata": {},
   "outputs": [],
   "source": [
    "import math\n",
    "import numpy as np\n",
    "import pandas as pd\n",
    "import timeit"
   ]
  },
  {
   "cell_type": "code",
   "execution_count": 2,
   "metadata": {},
   "outputs": [],
   "source": [
    "citiesnp = np.genfromtxt('cities.csv', delimiter=',', skip_header = 1) # load as numpy array"
   ]
  },
  {
   "cell_type": "code",
   "execution_count": 3,
   "metadata": {},
   "outputs": [],
   "source": [
    "def not_prime(n):\n",
    "    if n == 2:\n",
    "        return False\n",
    "    if n % 2 == 0 or n <= 1:\n",
    "        return True\n",
    "\n",
    "    sqr = int(math.sqrt(n)) + 1\n",
    "\n",
    "    for divisor in range(3, sqr, 2):\n",
    "        if n % divisor == 0:\n",
    "            return True\n",
    "    return False"
   ]
  },
  {
   "cell_type": "code",
   "execution_count": 4,
   "metadata": {},
   "outputs": [],
   "source": [
    "def is_prime(n):\n",
    "    if n == 2:\n",
    "        return True\n",
    "    if n % 2 == 0 or n <= 1:\n",
    "        return False\n",
    "\n",
    "    sqr = int(math.sqrt(n)) + 1\n",
    "\n",
    "    for divisor in range(3, sqr, 2):\n",
    "        if n % divisor == 0:\n",
    "            return False\n",
    "    return True"
   ]
  },
  {
   "cell_type": "code",
   "execution_count": 5,
   "metadata": {},
   "outputs": [],
   "source": [
    "np_not_prime = np.vectorize(not_prime)"
   ]
  },
  {
   "cell_type": "code",
   "execution_count": 6,
   "metadata": {},
   "outputs": [],
   "source": [
    "np_prime = np.vectorize(is_prime)"
   ]
  },
  {
   "cell_type": "code",
   "execution_count": 7,
   "metadata": {},
   "outputs": [],
   "source": [
    "nums = np.arange(0,len(citiesnp))"
   ]
  },
  {
   "cell_type": "code",
   "execution_count": 8,
   "metadata": {},
   "outputs": [],
   "source": [
    "not_primes_list = nums[np_not_prime(nums)]"
   ]
  },
  {
   "cell_type": "code",
   "execution_count": 9,
   "metadata": {},
   "outputs": [],
   "source": [
    "primes_list = nums[np_prime(nums)]"
   ]
  },
  {
   "cell_type": "code",
   "execution_count": 10,
   "metadata": {},
   "outputs": [],
   "source": [
    "not_primes_bool = np_not_prime(nums)"
   ]
  },
  {
   "cell_type": "code",
   "execution_count": 11,
   "metadata": {},
   "outputs": [],
   "source": [
    "def np_total_length(r, c):\n",
    "    r = np.concatenate(([0], r))\n",
    "    c = c[r, :]\n",
    "    cs = np.roll(c, -1, axis =0)\n",
    "    d = np.sqrt((c[:,1] - cs[:,1])**2 + (c[:,2] - cs[:,2])**2)\n",
    "    m = np.concatenate((np.arange(1, len(c)+1)[np.newaxis,:],\n",
    "                        cs[:, 0][np.newaxis,:],\n",
    "                        d[np.newaxis,:]))\n",
    "    p = m[:, np.arange(9, len(c), 10)]\n",
    "    sel = p[0,][np_not_prime(p[1,])].astype(int)\n",
    "    m[:, sel-1] *= 1.1\n",
    "    \n",
    "    return np.sum(m[2])"
   ]
  },
  {
   "cell_type": "code",
   "execution_count": 12,
   "metadata": {},
   "outputs": [],
   "source": [
    "def np_total_length2(r, c):\n",
    "    r = np.concatenate(([0], r))\n",
    "    c = c[r, :]\n",
    "    cs = np.roll(c, -1, axis =0)\n",
    "    d = np.sqrt(np.power(c[:,1] - cs[:,1], 2) + np.power(c[:,2] - cs[:,2], 2))\n",
    "    m = np.concatenate((np.arange(1, len(c)+1)[np.newaxis,:],\n",
    "                        cs[:, 0][np.newaxis,:],\n",
    "                        d[np.newaxis,:]))    \n",
    "    p = m[:, np.arange(9, len(c), 10)]\n",
    "    sel = p[0,][np_not_prime(p[1,])].astype(int)\n",
    "    m[:, sel-1] *= 1.1\n",
    "    \n",
    "    return np.sum(m[2])"
   ]
  },
  {
   "cell_type": "code",
   "execution_count": 13,
   "metadata": {},
   "outputs": [],
   "source": [
    "def np_total_length3(r, c):\n",
    "    r = np.concatenate(([0], r))\n",
    "    c = c[r, :]\n",
    "    cs = np.roll(c, -1, axis =0)\n",
    "    d = np.sqrt(np.power(c[:,1] - cs[:,1], 2) + np.power(c[:,2] - cs[:,2], 2))\n",
    "    m = np.concatenate((np.arange(1, len(c)+1),\n",
    "                        cs[:, 0],\n",
    "                        d)).reshape(len(c), 3, order='F')  \n",
    "    p = m[np.arange(9, len(c), 10), ]\n",
    "    sel = p[:,0][np_not_prime(p[:,1])].astype(int)\n",
    "    m[sel-1] *= 1.1\n",
    "    \n",
    "    return np.sum(m[:, 2])"
   ]
  },
  {
   "cell_type": "code",
   "execution_count": 14,
   "metadata": {},
   "outputs": [],
   "source": [
    "def np_total_length4(r, c):\n",
    "    r = np.concatenate(([0], r))\n",
    "    c = c[r, :]\n",
    "    cs = np.roll(c, -1, axis =0)\n",
    "    d = np.sqrt((c[:,1] - cs[:,1])**2 + (c[:,2] - cs[:,2])**2)\n",
    "    m = np.concatenate((np.arange(1, len(c)+1)[np.newaxis,:],\n",
    "                        cs[:, 0][np.newaxis,:],\n",
    "                        d[np.newaxis,:]))\n",
    "    p = m[:, np.arange(9, len(c), 10)]\n",
    "    sel = p[0,][np.isin(p[1,], not_primes_list, assume_unique=True)].astype(int)\n",
    "    m[:, sel-1] *= 1.1\n",
    "    \n",
    "    return np.sum(m[2])"
   ]
  },
  {
   "cell_type": "code",
   "execution_count": 15,
   "metadata": {},
   "outputs": [],
   "source": [
    "def np_total_length5(r, c):\n",
    "    r = np.concatenate(([0], r))\n",
    "    c = c[r, :]\n",
    "    cs = np.roll(c, -1, axis =0)\n",
    "    d = np.sqrt((c[:,1] - cs[:,1])**2 + (c[:,2] - cs[:,2])**2)\n",
    "    m = np.concatenate((np.arange(1, len(c)+1)[np.newaxis,:],\n",
    "                        cs[:, 0][np.newaxis,:],\n",
    "                        d[np.newaxis,:]))\n",
    "    p = m[:, np.arange(9, len(c), 10)]\n",
    "    sel = p[0,][np.isin(p[1,], primes_list, invert=True)].astype(int)\n",
    "    m[:, sel-1] *= 1.1\n",
    "    \n",
    "    return np.sum(m[2])"
   ]
  },
  {
   "cell_type": "code",
   "execution_count": 16,
   "metadata": {},
   "outputs": [],
   "source": [
    "def np_total_length6(r, c):\n",
    "    r = np.concatenate(([0], r))\n",
    "    c = c[r, :]\n",
    "    cs = np.roll(c, -1, axis =0)\n",
    "    d = np.sqrt((c[:,1] - cs[:,1])**2 + (c[:,2] - cs[:,2])**2)\n",
    "    m = np.concatenate((np.arange(1, len(c)+1)[np.newaxis,:],\n",
    "                        cs[:, 0][np.newaxis,:],\n",
    "                        d[np.newaxis,:]))\n",
    "    p = m[:, np.arange(9, len(c), 10)]\n",
    "    sel = p[0,][np.isin(p[1,], primes_list, assume_unique=True, invert=True)].astype(int)\n",
    "    m[:, sel-1] *= 1.1\n",
    "    \n",
    "    return np.sum(m[2])"
   ]
  },
  {
   "cell_type": "code",
   "execution_count": 17,
   "metadata": {},
   "outputs": [],
   "source": [
    "def np_total_length7(r, c):\n",
    "    r = np.concatenate(([0], r))\n",
    "    c = c[r, :]\n",
    "    cs = np.roll(c, -1, axis =0)\n",
    "    d = np.sqrt((c[:,1] - cs[:,1])**2 + (c[:,2] - cs[:,2])**2)\n",
    "    m = np.concatenate((np.arange(1, len(c)+1)[np.newaxis,:],\n",
    "                        cs[:, 0][np.newaxis,:],\n",
    "                        d[np.newaxis,:]))\n",
    "    p = m[:, np.arange(9, len(c), 10)]\n",
    "    sel = p[0,][not_primes_bool[p[1,].astype(int)]].astype(int)\n",
    "    m[:, sel-1] *= 1.1\n",
    "    \n",
    "    return np.sum(m[2])"
   ]
  },
  {
   "cell_type": "code",
   "execution_count": 18,
   "metadata": {},
   "outputs": [],
   "source": [
    "def np_total_length8(r, c):\n",
    "    r = np.concatenate(([0], r))\n",
    "    c = c[r, :]\n",
    "    cs = np.roll(c, -1, axis =0)\n",
    "    cid = cs[:,0].astype(int)\n",
    "    d = np.sqrt((c[:,1] - cs[:,1])**2 + (c[:,2] - cs[:,2])**2)\n",
    "    idx = np.arange(9, len(c), 10)\n",
    "    pc = cid[idx]\n",
    "    sel = (idx+1)[not_primes_bool[pc]]\n",
    "    d[sel-1] *= 1.1\n",
    "    \n",
    "    return np.sum(d)"
   ]
  },
  {
   "cell_type": "code",
   "execution_count": 19,
   "metadata": {},
   "outputs": [],
   "source": [
    "def np_total_length9(r, c):    \n",
    "    r = np.concatenate(([0], r))\n",
    "    c = c[r, :]\n",
    "    cs = np.roll(c, -1, axis =0)\n",
    "    cid = cs[:,0].astype(int)\n",
    "    d = np.sqrt((c[:,1] - cs[:,1])**2 + (c[:,2] - cs[:,2])**2)\n",
    "    idx = np.arange(9, len(c), 10)\n",
    "    pc = cid[idx]\n",
    "    sel = (idx+1)[np.isin(pc, primes_list, invert=True)]\n",
    "    d[sel-1] *= 1.1\n",
    "    \n",
    "    return np.sum(d)"
   ]
  },
  {
   "cell_type": "code",
   "execution_count": 20,
   "metadata": {},
   "outputs": [],
   "source": [
    "def np_total_length10(r, c):    \n",
    "    r = np.concatenate(([0], r))\n",
    "    c = c[r, :]\n",
    "    cs = np.roll(c, -1, axis =0)\n",
    "    cid = cs[:,0].astype(int)\n",
    "    d = np.sqrt((c[:,1] - cs[:,1])**2 + (c[:,2] - cs[:,2])**2)\n",
    "    idx = np.arange(9, len(c), 10)\n",
    "    pc = cid[idx]\n",
    "    sel = (idx+1)[np.isin(pc, primes_list, assume_unique=True, invert=True)]\n",
    "    d[sel-1] *= 1.1\n",
    "    \n",
    "    return np.sum(d)"
   ]
  },
  {
   "cell_type": "code",
   "execution_count": 21,
   "metadata": {},
   "outputs": [],
   "source": [
    "cities_sub = citiesnp[:26]\n",
    "np.random.seed(3)\n",
    "r = np.random.permutation(range(1,26))"
   ]
  },
  {
   "cell_type": "code",
   "execution_count": 22,
   "metadata": {},
   "outputs": [
    {
     "data": {
      "text/plain": [
       "60566.12398696876"
      ]
     },
     "execution_count": 22,
     "metadata": {},
     "output_type": "execute_result"
    }
   ],
   "source": [
    "np_total_length(r, cities_sub)"
   ]
  },
  {
   "cell_type": "code",
   "execution_count": 23,
   "metadata": {},
   "outputs": [
    {
     "data": {
      "text/plain": [
       "60566.12398696876"
      ]
     },
     "execution_count": 23,
     "metadata": {},
     "output_type": "execute_result"
    }
   ],
   "source": [
    "np_total_length4(r, cities_sub)"
   ]
  },
  {
   "cell_type": "code",
   "execution_count": 24,
   "metadata": {},
   "outputs": [
    {
     "data": {
      "text/plain": [
       "60566.12398696876"
      ]
     },
     "execution_count": 24,
     "metadata": {},
     "output_type": "execute_result"
    }
   ],
   "source": [
    "np_total_length5(r, cities_sub)"
   ]
  },
  {
   "cell_type": "code",
   "execution_count": 25,
   "metadata": {},
   "outputs": [
    {
     "data": {
      "text/plain": [
       "60566.12398696876"
      ]
     },
     "execution_count": 25,
     "metadata": {},
     "output_type": "execute_result"
    }
   ],
   "source": [
    "np_total_length6(r, cities_sub)"
   ]
  },
  {
   "cell_type": "code",
   "execution_count": 26,
   "metadata": {},
   "outputs": [
    {
     "data": {
      "text/plain": [
       "60566.12398696876"
      ]
     },
     "execution_count": 26,
     "metadata": {},
     "output_type": "execute_result"
    }
   ],
   "source": [
    "np_total_length7(r, cities_sub)"
   ]
  },
  {
   "cell_type": "code",
   "execution_count": 27,
   "metadata": {
    "scrolled": true
   },
   "outputs": [
    {
     "data": {
      "text/plain": [
       "60566.12398696876"
      ]
     },
     "execution_count": 27,
     "metadata": {},
     "output_type": "execute_result"
    }
   ],
   "source": [
    "np_total_length8(r, cities_sub)"
   ]
  },
  {
   "cell_type": "code",
   "execution_count": 28,
   "metadata": {
    "scrolled": true
   },
   "outputs": [
    {
     "data": {
      "text/plain": [
       "60566.12398696876"
      ]
     },
     "execution_count": 28,
     "metadata": {},
     "output_type": "execute_result"
    }
   ],
   "source": [
    "np_total_length9(r, cities_sub)"
   ]
  },
  {
   "cell_type": "code",
   "execution_count": 29,
   "metadata": {
    "scrolled": true
   },
   "outputs": [
    {
     "data": {
      "text/plain": [
       "60566.12398696876"
      ]
     },
     "execution_count": 29,
     "metadata": {},
     "output_type": "execute_result"
    }
   ],
   "source": [
    "np_total_length10(r, cities_sub)"
   ]
  },
  {
   "cell_type": "markdown",
   "metadata": {},
   "source": [
    "# Performance"
   ]
  },
  {
   "cell_type": "code",
   "execution_count": 30,
   "metadata": {},
   "outputs": [],
   "source": [
    "np.random.seed(640)\n",
    "r = np.random.permutation(range(1, len(citiesnp)))"
   ]
  },
  {
   "cell_type": "code",
   "execution_count": 31,
   "metadata": {
    "scrolled": false
   },
   "outputs": [
    {
     "data": {
      "text/plain": [
       "447574455.97996193"
      ]
     },
     "execution_count": 31,
     "metadata": {},
     "output_type": "execute_result"
    }
   ],
   "source": [
    "np_total_length(r, citiesnp)"
   ]
  },
  {
   "cell_type": "code",
   "execution_count": 32,
   "metadata": {},
   "outputs": [
    {
     "data": {
      "text/plain": [
       "447574455.97996193"
      ]
     },
     "execution_count": 32,
     "metadata": {},
     "output_type": "execute_result"
    }
   ],
   "source": [
    "np_total_length2(r, citiesnp)"
   ]
  },
  {
   "cell_type": "code",
   "execution_count": 33,
   "metadata": {
    "scrolled": true
   },
   "outputs": [
    {
     "data": {
      "text/plain": [
       "447574455.97996193"
      ]
     },
     "execution_count": 33,
     "metadata": {},
     "output_type": "execute_result"
    }
   ],
   "source": [
    "np_total_length3(r, citiesnp)"
   ]
  },
  {
   "cell_type": "code",
   "execution_count": 34,
   "metadata": {
    "scrolled": true
   },
   "outputs": [
    {
     "data": {
      "text/plain": [
       "447574455.97996193"
      ]
     },
     "execution_count": 34,
     "metadata": {},
     "output_type": "execute_result"
    }
   ],
   "source": [
    "np_total_length4(r, citiesnp)"
   ]
  },
  {
   "cell_type": "code",
   "execution_count": 35,
   "metadata": {
    "scrolled": true
   },
   "outputs": [
    {
     "data": {
      "text/plain": [
       "447574455.97996193"
      ]
     },
     "execution_count": 35,
     "metadata": {},
     "output_type": "execute_result"
    }
   ],
   "source": [
    "np_total_length5(r, citiesnp)"
   ]
  },
  {
   "cell_type": "code",
   "execution_count": 36,
   "metadata": {
    "scrolled": false
   },
   "outputs": [
    {
     "data": {
      "text/plain": [
       "447574455.97996193"
      ]
     },
     "execution_count": 36,
     "metadata": {},
     "output_type": "execute_result"
    }
   ],
   "source": [
    "np_total_length6(r, citiesnp)"
   ]
  },
  {
   "cell_type": "code",
   "execution_count": 37,
   "metadata": {
    "scrolled": true
   },
   "outputs": [
    {
     "data": {
      "text/plain": [
       "447574455.97996193"
      ]
     },
     "execution_count": 37,
     "metadata": {},
     "output_type": "execute_result"
    }
   ],
   "source": [
    "np_total_length7(r, citiesnp)"
   ]
  },
  {
   "cell_type": "code",
   "execution_count": 38,
   "metadata": {},
   "outputs": [
    {
     "data": {
      "text/plain": [
       "447574455.97996193"
      ]
     },
     "execution_count": 38,
     "metadata": {},
     "output_type": "execute_result"
    }
   ],
   "source": [
    "np_total_length8(r, citiesnp)"
   ]
  },
  {
   "cell_type": "code",
   "execution_count": 39,
   "metadata": {},
   "outputs": [
    {
     "data": {
      "text/plain": [
       "447574455.97996193"
      ]
     },
     "execution_count": 39,
     "metadata": {},
     "output_type": "execute_result"
    }
   ],
   "source": [
    "np_total_length9(r, citiesnp)"
   ]
  },
  {
   "cell_type": "code",
   "execution_count": 40,
   "metadata": {},
   "outputs": [
    {
     "data": {
      "text/plain": [
       "447574455.97996193"
      ]
     },
     "execution_count": 40,
     "metadata": {},
     "output_type": "execute_result"
    }
   ],
   "source": [
    "np_total_length10(r, citiesnp)"
   ]
  },
  {
   "cell_type": "markdown",
   "metadata": {},
   "source": [
    "Numpy Version 4:"
   ]
  },
  {
   "cell_type": "code",
   "execution_count": 41,
   "metadata": {},
   "outputs": [
    {
     "data": {
      "text/plain": [
       "141.20975914124048"
      ]
     },
     "execution_count": 41,
     "metadata": {},
     "output_type": "execute_result"
    }
   ],
   "source": [
    "timeit.timeit('np_total_length4(r, citiesnp)', number=4000, globals=globals())"
   ]
  },
  {
   "cell_type": "markdown",
   "metadata": {},
   "source": [
    "Numpy Version 5:"
   ]
  },
  {
   "cell_type": "code",
   "execution_count": 42,
   "metadata": {
    "scrolled": true
   },
   "outputs": [
    {
     "data": {
      "text/plain": [
       "117.1706407438148"
      ]
     },
     "execution_count": 42,
     "metadata": {},
     "output_type": "execute_result"
    }
   ],
   "source": [
    "timeit.timeit('np_total_length5(r, citiesnp)', number=4000, globals=globals())"
   ]
  },
  {
   "cell_type": "markdown",
   "metadata": {},
   "source": [
    "Numpy Version 6:"
   ]
  },
  {
   "cell_type": "code",
   "execution_count": 43,
   "metadata": {
    "scrolled": true
   },
   "outputs": [
    {
     "data": {
      "text/plain": [
       "112.97548344606571"
      ]
     },
     "execution_count": 43,
     "metadata": {},
     "output_type": "execute_result"
    }
   ],
   "source": [
    "timeit.timeit('np_total_length6(r, citiesnp)', number=4000, globals=globals())"
   ]
  },
  {
   "cell_type": "markdown",
   "metadata": {},
   "source": [
    "Numpy Version 7:"
   ]
  },
  {
   "cell_type": "code",
   "execution_count": 44,
   "metadata": {
    "scrolled": true
   },
   "outputs": [
    {
     "data": {
      "text/plain": [
       "102.49364594987651"
      ]
     },
     "execution_count": 44,
     "metadata": {},
     "output_type": "execute_result"
    }
   ],
   "source": [
    "timeit.timeit('np_total_length7(r, citiesnp)', number=4000, globals=globals())"
   ]
  },
  {
   "cell_type": "markdown",
   "metadata": {},
   "source": [
    "Numpy Version 8:"
   ]
  },
  {
   "cell_type": "code",
   "execution_count": 45,
   "metadata": {
    "scrolled": true
   },
   "outputs": [
    {
     "data": {
      "text/plain": [
       "83.87042281564942"
      ]
     },
     "execution_count": 45,
     "metadata": {},
     "output_type": "execute_result"
    }
   ],
   "source": [
    "timeit.timeit('np_total_length8(r, citiesnp)', number=4000, globals=globals())"
   ]
  },
  {
   "cell_type": "markdown",
   "metadata": {},
   "source": [
    "Numpy Version 9:"
   ]
  },
  {
   "cell_type": "code",
   "execution_count": 46,
   "metadata": {
    "scrolled": false
   },
   "outputs": [
    {
     "data": {
      "text/plain": [
       "99.56262517376638"
      ]
     },
     "execution_count": 46,
     "metadata": {},
     "output_type": "execute_result"
    }
   ],
   "source": [
    "timeit.timeit('np_total_length9(r, citiesnp)', number=4000, globals=globals())"
   ]
  },
  {
   "cell_type": "markdown",
   "metadata": {},
   "source": [
    "Numpy Version 10:"
   ]
  },
  {
   "cell_type": "code",
   "execution_count": 47,
   "metadata": {
    "scrolled": false
   },
   "outputs": [
    {
     "data": {
      "text/plain": [
       "93.61056134736202"
      ]
     },
     "execution_count": 47,
     "metadata": {},
     "output_type": "execute_result"
    }
   ],
   "source": [
    "timeit.timeit('np_total_length10(r, citiesnp)', number=4000, globals=globals())"
   ]
  }
 ],
 "metadata": {
  "kernelspec": {
   "display_name": "Python 3",
   "language": "python",
   "name": "python3"
  },
  "language_info": {
   "codemirror_mode": {
    "name": "ipython",
    "version": 3
   },
   "file_extension": ".py",
   "mimetype": "text/x-python",
   "name": "python",
   "nbconvert_exporter": "python",
   "pygments_lexer": "ipython3",
   "version": "3.6.8"
  }
 },
 "nbformat": 4,
 "nbformat_minor": 2
}
