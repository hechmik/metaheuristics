{
 "cells": [
  {
   "cell_type": "code",
   "execution_count": 5,
   "metadata": {},
   "outputs": [],
   "source": [
    "import pandas as pd\n",
    "import numpy as np"
   ]
  },
  {
   "cell_type": "markdown",
   "metadata": {},
   "source": [
    "# Load dataset"
   ]
  },
  {
   "cell_type": "code",
   "execution_count": 11,
   "metadata": {},
   "outputs": [
    {
     "data": {
      "text/html": [
       "<div>\n",
       "<style scoped>\n",
       "    .dataframe tbody tr th:only-of-type {\n",
       "        vertical-align: middle;\n",
       "    }\n",
       "\n",
       "    .dataframe tbody tr th {\n",
       "        vertical-align: top;\n",
       "    }\n",
       "\n",
       "    .dataframe thead th {\n",
       "        text-align: right;\n",
       "    }\n",
       "</style>\n",
       "<table border=\"1\" class=\"dataframe\">\n",
       "  <thead>\n",
       "    <tr style=\"text-align: right;\">\n",
       "      <th></th>\n",
       "      <th>CityId</th>\n",
       "      <th>X</th>\n",
       "      <th>Y</th>\n",
       "    </tr>\n",
       "  </thead>\n",
       "  <tbody>\n",
       "    <tr>\n",
       "      <th>0</th>\n",
       "      <td>0</td>\n",
       "      <td>316.836739</td>\n",
       "      <td>2202.340707</td>\n",
       "    </tr>\n",
       "    <tr>\n",
       "      <th>1</th>\n",
       "      <td>1</td>\n",
       "      <td>4377.405972</td>\n",
       "      <td>336.602082</td>\n",
       "    </tr>\n",
       "    <tr>\n",
       "      <th>2</th>\n",
       "      <td>2</td>\n",
       "      <td>3454.158198</td>\n",
       "      <td>2820.053011</td>\n",
       "    </tr>\n",
       "    <tr>\n",
       "      <th>3</th>\n",
       "      <td>3</td>\n",
       "      <td>4688.099298</td>\n",
       "      <td>2935.898056</td>\n",
       "    </tr>\n",
       "    <tr>\n",
       "      <th>4</th>\n",
       "      <td>4</td>\n",
       "      <td>1010.696952</td>\n",
       "      <td>3236.750989</td>\n",
       "    </tr>\n",
       "  </tbody>\n",
       "</table>\n",
       "</div>"
      ],
      "text/plain": [
       "   CityId            X            Y\n",
       "0       0   316.836739  2202.340707\n",
       "1       1  4377.405972   336.602082\n",
       "2       2  3454.158198  2820.053011\n",
       "3       3  4688.099298  2935.898056\n",
       "4       4  1010.696952  3236.750989"
      ]
     },
     "execution_count": 11,
     "metadata": {},
     "output_type": "execute_result"
    }
   ],
   "source": [
    "cities = pd.read_csv(\"cities.csv\")\n",
    "cities.head()"
   ]
  },
  {
   "cell_type": "code",
   "execution_count": 35,
   "metadata": {},
   "outputs": [
    {
     "data": {
      "text/plain": [
       "0    316.836739\n",
       "Name: X, dtype: float64"
      ]
     },
     "execution_count": 35,
     "metadata": {},
     "output_type": "execute_result"
    }
   ],
   "source": [
    "cities[cities.CityId==0]['X']"
   ]
  },
  {
   "cell_type": "markdown",
   "metadata": {},
   "source": [
    "# Function for checking if a number is prime"
   ]
  },
  {
   "cell_type": "code",
   "execution_count": 4,
   "metadata": {},
   "outputs": [],
   "source": [
    "import math\n",
    "\n",
    "def is_prime(n):\n",
    "    if n == 2:\n",
    "        return True\n",
    "    if n % 2 == 0 or n <= 1:\n",
    "        return False\n",
    "\n",
    "    sqr = int(math.sqrt(n)) + 1\n",
    "\n",
    "    for divisor in range(3, sqr, 2):\n",
    "        if n % divisor == 0:\n",
    "            return False\n",
    "    return True"
   ]
  },
  {
   "cell_type": "markdown",
   "metadata": {},
   "source": [
    "# Functions for computing the distance"
   ]
  },
  {
   "cell_type": "code",
   "execution_count": 86,
   "metadata": {},
   "outputs": [],
   "source": [
    "def euclidean_dist(id_a, id_b):\n",
    "    a_coordinates = cities[cities.CityId==id_a].values.tolist()[0]\n",
    "    b_coordinates = cities[cities.CityId==id_b].values.tolist()[0]\n",
    "    partial_sum_X = np.power(a_coordinates[0] - b_coordinates[0], 2)\n",
    "    partial_sum_Y = np.power(a_coordinates[1] - b_coordinates[1], 2)\n",
    "    distance = np.sqrt(partial_sum_X + partial_sum_Y)\n",
    "    return(distance)"
   ]
  },
  {
   "cell_type": "markdown",
   "metadata": {},
   "source": [
    "Test the function"
   ]
  },
  {
   "cell_type": "code",
   "execution_count": 126,
   "metadata": {},
   "outputs": [
    {
     "data": {
      "text/plain": [
       "1.4142135623730951"
      ]
     },
     "execution_count": 126,
     "metadata": {},
     "output_type": "execute_result"
    }
   ],
   "source": [
    "euclidean_dist(0,1)"
   ]
  },
  {
   "cell_type": "code",
   "execution_count": 155,
   "metadata": {},
   "outputs": [],
   "source": [
    "def cities_distance(cities_path):\n",
    "    distance = 0\n",
    "    for index in range(1, len(cities_path)):\n",
    "        city_a = cities_path[index - 1]\n",
    "        city_b = cities_path[index]\n",
    "        a_b_dist = euclidean_dist(city_a, city_b)        \n",
    "        if (index % 10 == 0 & is_prime(city_b) == False):\n",
    "            print(\"I'm not prime and index multiple of 10!\")\n",
    "            distance = distance + a_b_dist * 1.1 \n",
    "        else:\n",
    "            distance = distance + a_b_dist\n",
    "        print(\"Index {}, a_b_distance: {}, overall_distance: {}\".format(index, a_b_dist, distance))\n",
    "    return(distance)"
   ]
  },
  {
   "cell_type": "markdown",
   "metadata": {},
   "source": [
    "# Debug"
   ]
  },
  {
   "cell_type": "code",
   "execution_count": 156,
   "metadata": {},
   "outputs": [],
   "source": [
    "cities_x = [1,2,3,4,5,6,7,8,9,10, 6]\n",
    "cities_y = [1,2,3,4,0,1,2,3,4,5, 5]\n",
    "cities_id = [0, 1,2,3,4,5,6,7,8,9, 11]\n",
    "test_seq = [0,1,2,3,4,5,6,7,8,9, 11]"
   ]
  },
  {
   "cell_type": "code",
   "execution_count": 157,
   "metadata": {},
   "outputs": [],
   "source": [
    "# Create a zipped list of tuples from above lists\n",
    "zippedList =  list(zip(cities_id, cities_x, cities_y))\n",
    "cities = pd.DataFrame(zippedList, columns = ['CityId' , 'X', 'Y'])"
   ]
  },
  {
   "cell_type": "code",
   "execution_count": 158,
   "metadata": {},
   "outputs": [
    {
     "data": {
      "text/html": [
       "<div>\n",
       "<style scoped>\n",
       "    .dataframe tbody tr th:only-of-type {\n",
       "        vertical-align: middle;\n",
       "    }\n",
       "\n",
       "    .dataframe tbody tr th {\n",
       "        vertical-align: top;\n",
       "    }\n",
       "\n",
       "    .dataframe thead th {\n",
       "        text-align: right;\n",
       "    }\n",
       "</style>\n",
       "<table border=\"1\" class=\"dataframe\">\n",
       "  <thead>\n",
       "    <tr style=\"text-align: right;\">\n",
       "      <th></th>\n",
       "      <th>CityId</th>\n",
       "      <th>X</th>\n",
       "      <th>Y</th>\n",
       "    </tr>\n",
       "  </thead>\n",
       "  <tbody>\n",
       "    <tr>\n",
       "      <th>0</th>\n",
       "      <td>0</td>\n",
       "      <td>1</td>\n",
       "      <td>1</td>\n",
       "    </tr>\n",
       "    <tr>\n",
       "      <th>1</th>\n",
       "      <td>1</td>\n",
       "      <td>2</td>\n",
       "      <td>2</td>\n",
       "    </tr>\n",
       "    <tr>\n",
       "      <th>2</th>\n",
       "      <td>2</td>\n",
       "      <td>3</td>\n",
       "      <td>3</td>\n",
       "    </tr>\n",
       "    <tr>\n",
       "      <th>3</th>\n",
       "      <td>3</td>\n",
       "      <td>4</td>\n",
       "      <td>4</td>\n",
       "    </tr>\n",
       "    <tr>\n",
       "      <th>4</th>\n",
       "      <td>4</td>\n",
       "      <td>5</td>\n",
       "      <td>0</td>\n",
       "    </tr>\n",
       "    <tr>\n",
       "      <th>5</th>\n",
       "      <td>5</td>\n",
       "      <td>6</td>\n",
       "      <td>1</td>\n",
       "    </tr>\n",
       "    <tr>\n",
       "      <th>6</th>\n",
       "      <td>6</td>\n",
       "      <td>7</td>\n",
       "      <td>2</td>\n",
       "    </tr>\n",
       "    <tr>\n",
       "      <th>7</th>\n",
       "      <td>7</td>\n",
       "      <td>8</td>\n",
       "      <td>3</td>\n",
       "    </tr>\n",
       "    <tr>\n",
       "      <th>8</th>\n",
       "      <td>8</td>\n",
       "      <td>9</td>\n",
       "      <td>4</td>\n",
       "    </tr>\n",
       "    <tr>\n",
       "      <th>9</th>\n",
       "      <td>9</td>\n",
       "      <td>10</td>\n",
       "      <td>5</td>\n",
       "    </tr>\n",
       "    <tr>\n",
       "      <th>10</th>\n",
       "      <td>11</td>\n",
       "      <td>6</td>\n",
       "      <td>5</td>\n",
       "    </tr>\n",
       "  </tbody>\n",
       "</table>\n",
       "</div>"
      ],
      "text/plain": [
       "    CityId   X  Y\n",
       "0        0   1  1\n",
       "1        1   2  2\n",
       "2        2   3  3\n",
       "3        3   4  4\n",
       "4        4   5  0\n",
       "5        5   6  1\n",
       "6        6   7  2\n",
       "7        7   8  3\n",
       "8        8   9  4\n",
       "9        9  10  5\n",
       "10      11   6  5"
      ]
     },
     "execution_count": 158,
     "metadata": {},
     "output_type": "execute_result"
    }
   ],
   "source": [
    "cities"
   ]
  },
  {
   "cell_type": "code",
   "execution_count": 159,
   "metadata": {},
   "outputs": [
    {
     "name": "stdout",
     "output_type": "stream",
     "text": [
      "Index 1, a_b_distance: 1.4142135623730951, overall_distance: 1.4142135623730951\n",
      "Index 2, a_b_distance: 1.4142135623730951, overall_distance: 2.8284271247461903\n",
      "Index 3, a_b_distance: 1.4142135623730951, overall_distance: 4.242640687119286\n",
      "Index 4, a_b_distance: 1.4142135623730951, overall_distance: 5.656854249492381\n",
      "Index 5, a_b_distance: 1.4142135623730951, overall_distance: 7.0710678118654755\n",
      "Index 6, a_b_distance: 1.4142135623730951, overall_distance: 8.485281374238571\n",
      "Index 7, a_b_distance: 1.4142135623730951, overall_distance: 9.899494936611667\n",
      "Index 8, a_b_distance: 1.4142135623730951, overall_distance: 11.313708498984763\n",
      "Index 9, a_b_distance: 1.4142135623730951, overall_distance: 12.727922061357859\n",
      "I'm not prime and index multiple of 10!\n",
      "Index 10, a_b_distance: 4.47213595499958, overall_distance: 17.6472716118574\n"
     ]
    },
    {
     "data": {
      "text/plain": [
       "17.6472716118574"
      ]
     },
     "execution_count": 159,
     "metadata": {},
     "output_type": "execute_result"
    }
   ],
   "source": [
    "cities_distance(test_seq)"
   ]
  },
  {
   "cell_type": "code",
   "execution_count": null,
   "metadata": {},
   "outputs": [],
   "source": []
  }
 ],
 "metadata": {
  "kernelspec": {
   "display_name": "Python 3",
   "language": "python",
   "name": "python3"
  },
  "language_info": {
   "codemirror_mode": {
    "name": "ipython",
    "version": 3
   },
   "file_extension": ".py",
   "mimetype": "text/x-python",
   "name": "python",
   "nbconvert_exporter": "python",
   "pygments_lexer": "ipython3",
   "version": "3.6.6"
  }
 },
 "nbformat": 4,
 "nbformat_minor": 2
}
