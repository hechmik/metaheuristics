{
 "cells": [
  {
   "cell_type": "markdown",
   "metadata": {},
   "source": [
    "# Steps:\n",
    "\n",
    "1. Clustering on cities through K-means;\n",
    "2. GA on each cluster: obtain provinces (use normal total length);\n",
    "3. GA for sorting custers: obtain candidate trace as concatenation of cluster routes (use normal total length);\n",
    "4. SA on on obtained candidate trace, with special mutation and fitness func for primes.\n",
    "\n",
    "# Imports"
   ]
  },
  {
   "cell_type": "code",
   "execution_count": 1,
   "metadata": {},
   "outputs": [],
   "source": [
    "from datetime import datetime\n",
    "import json\n",
    "import numpy as np"
   ]
  },
  {
   "cell_type": "code",
   "execution_count": 2,
   "metadata": {},
   "outputs": [],
   "source": [
    "cities = np.genfromtxt('cities.csv', delimiter=',', skip_header = 1)"
   ]
  },
  {
   "cell_type": "markdown",
   "metadata": {},
   "source": [
    "# Clustering"
   ]
  },
  {
   "cell_type": "code",
   "execution_count": 3,
   "metadata": {},
   "outputs": [],
   "source": [
    "from sklearn.cluster import KMeans"
   ]
  },
  {
   "cell_type": "markdown",
   "metadata": {},
   "source": [
    "We partition the cities in 1000 clusters, using k-means."
   ]
  },
  {
   "cell_type": "code",
   "execution_count": 4,
   "metadata": {},
   "outputs": [],
   "source": [
    "n = 1000"
   ]
  },
  {
   "cell_type": "markdown",
   "metadata": {},
   "source": [
    "We have run the following code and saved the clusters as a txt file, so we just import it now"
   ]
  },
  {
   "cell_type": "code",
   "execution_count": null,
   "metadata": {},
   "outputs": [],
   "source": [
    "# kmeans = KMeans(n_clusters=n, random_state=0)\n",
    "# kmeans.fit(cities[:, 1:3])"
   ]
  },
  {
   "cell_type": "code",
   "execution_count": 5,
   "metadata": {},
   "outputs": [],
   "source": [
    "clusters = np.genfromtxt('files/1000subsets.txt', skip_header = 0).astype(int)"
   ]
  },
  {
   "cell_type": "code",
   "execution_count": 6,
   "metadata": {},
   "outputs": [
    {
     "data": {
      "text/plain": [
       "array([894, 654, 614, ..., 263, 305,  80])"
      ]
     },
     "execution_count": 6,
     "metadata": {},
     "output_type": "execute_result"
    }
   ],
   "source": [
    "clusters"
   ]
  },
  {
   "cell_type": "markdown",
   "metadata": {},
   "source": [
    "We add the information regarding the cluster to the cities array."
   ]
  },
  {
   "cell_type": "code",
   "execution_count": 7,
   "metadata": {},
   "outputs": [],
   "source": [
    "kcities = np.concatenate((cities, clusters[:, np.newaxis]), 1)"
   ]
  },
  {
   "cell_type": "code",
   "execution_count": 8,
   "metadata": {},
   "outputs": [],
   "source": [
    "subs = [0]*n\n",
    "for i in range(n):\n",
    "    subs[i] = kcities[kcities[:, 3] == i][:, :3]"
   ]
  },
  {
   "cell_type": "code",
   "execution_count": 9,
   "metadata": {},
   "outputs": [],
   "source": [
    "subs = np.array(subs)"
   ]
  },
  {
   "cell_type": "code",
   "execution_count": 10,
   "metadata": {},
   "outputs": [
    {
     "data": {
      "text/plain": [
       "array([230, 118, 121, 168,  89, 163, 310, 288, 277, 156, 289, 228, 172,\n",
       "       273, 151, 156, 261, 236, 190, 234, 183,  73, 242, 222, 228, 161,\n",
       "       244, 282, 265, 198, 138, 288, 268, 181, 274, 158, 160, 203, 127,\n",
       "       152, 216, 313, 222, 192, 218, 145, 241, 296, 151, 137])"
      ]
     },
     "execution_count": 10,
     "metadata": {},
     "output_type": "execute_result"
    }
   ],
   "source": [
    "lens = np.array([len(subs[i]) for i in range(n)])\n",
    "lens[:50]"
   ]
  },
  {
   "cell_type": "code",
   "execution_count": 11,
   "metadata": {},
   "outputs": [
    {
     "data": {
      "text/plain": [
       "197769"
      ]
     },
     "execution_count": 11,
     "metadata": {},
     "output_type": "execute_result"
    }
   ],
   "source": [
    "sum(lens)"
   ]
  },
  {
   "cell_type": "markdown",
   "metadata": {},
   "source": [
    "# Running GA in each cluster"
   ]
  },
  {
   "cell_type": "code",
   "execution_count": 12,
   "metadata": {},
   "outputs": [],
   "source": [
    "from ga import GA, route_fitness, shift_mutation, roulette_selection2\n",
    "from ga import two_point_crossover2, total_length_loop, total_length_w_penalties, not_prime"
   ]
  },
  {
   "cell_type": "code",
   "execution_count": 13,
   "metadata": {},
   "outputs": [],
   "source": [
    "a = [0]*n\n",
    "b = [0]*n\n",
    "c = [0]*n\n",
    "d = [0]*n\n",
    "e = [0]*n"
   ]
  },
  {
   "cell_type": "markdown",
   "metadata": {},
   "source": [
    "After running the following..."
   ]
  },
  {
   "cell_type": "code",
   "execution_count": null,
   "metadata": {},
   "outputs": [],
   "source": [
    "# np.random.seed(4)\n",
    "# start = datetime.now()\n",
    "# startl = datetime.now()\n",
    "# p = 0 \n",
    "# for i in range(n):\n",
    "#     if i % 100 == 0:\n",
    "#         print('\\nStart Loop {} at {}'.format(i, startl))\n",
    "#     a[i], b[i], c[i], d[i], e[i] = GA(subs[i], np.inf, 20, 6, route_fitness, [shift_mutation], 0.1,\n",
    "#                        roulette_selection2, cross_fun=two_point_crossover2, max_no_change = 500,\n",
    "#                                      pop_include_zero=True, length_fun = total_length_loop)\n",
    "#     if (i % (99 + p) == 0) and i > 0:\n",
    "#         p += 100\n",
    "#         endl = datetime.now()\n",
    "#         print('End loop {} at {}: {} seconds'.format(i, endl, (endl-startl).total_seconds()))\n",
    "#         startl = datetime.now()\n",
    "# end = datetime.now()\n",
    "# print('\\nTotal time: {}'.format((end-start).total_seconds()))"
   ]
  },
  {
   "cell_type": "markdown",
   "metadata": {},
   "source": [
    "We have created a list of lists, each consisting of the city ids in each cluster:"
   ]
  },
  {
   "cell_type": "code",
   "execution_count": null,
   "metadata": {},
   "outputs": [],
   "source": [
    "# c_ids = [el[:,0] for el in subs]"
   ]
  },
  {
   "cell_type": "markdown",
   "metadata": {},
   "source": [
    "Running the algorithm we have created a list 'e'. Each element e[i] in this list is the best route found by running GA on subs[i]. We now order each list c_ids[i] by e[i] in order to obtain the routes specified by their city ids. "
   ]
  },
  {
   "cell_type": "code",
   "execution_count": null,
   "metadata": {},
   "outputs": [],
   "source": [
    "# routes = []\n",
    "# for i in range(n):\n",
    "#     routes.append(c_ids[i][e[i]])"
   ]
  },
  {
   "cell_type": "markdown",
   "metadata": {},
   "source": [
    "We can now concatenate these routes in order to find a route on the full set of cities."
   ]
  },
  {
   "cell_type": "code",
   "execution_count": null,
   "metadata": {},
   "outputs": [],
   "source": [
    "# full_route = np.concatenate(routes)"
   ]
  },
  {
   "cell_type": "markdown",
   "metadata": {},
   "source": [
    "We order the route so that it starts and ends from 0."
   ]
  },
  {
   "cell_type": "code",
   "execution_count": null,
   "metadata": {},
   "outputs": [],
   "source": [
    "# zi = np.where(full_route == 0)[0][0]"
   ]
  },
  {
   "cell_type": "code",
   "execution_count": null,
   "metadata": {},
   "outputs": [],
   "source": [
    "# full_route = np.concatenate((full_route[zi:], full_route[:zi]))"
   ]
  },
  {
   "cell_type": "code",
   "execution_count": null,
   "metadata": {},
   "outputs": [],
   "source": [
    "# full_route = full_route.astype(int)"
   ]
  },
  {
   "cell_type": "code",
   "execution_count": null,
   "metadata": {},
   "outputs": [],
   "source": [
    "# np.savetxt('files/8291272_after_kmeans.txt', full_route)"
   ]
  },
  {
   "cell_type": "markdown",
   "metadata": {},
   "source": [
    "We load the saved file containing this route:"
   ]
  },
  {
   "cell_type": "code",
   "execution_count": 14,
   "metadata": {},
   "outputs": [],
   "source": [
    "full_route = np.genfromtxt('files/8291272_after_kmeans.txt').astype(int)"
   ]
  },
  {
   "cell_type": "markdown",
   "metadata": {},
   "source": [
    "As a check, we can see that the length of the full route is correct."
   ]
  },
  {
   "cell_type": "code",
   "execution_count": 15,
   "metadata": {},
   "outputs": [
    {
     "data": {
      "text/plain": [
       "197769"
      ]
     },
     "execution_count": 15,
     "metadata": {},
     "output_type": "execute_result"
    }
   ],
   "source": [
    "len(full_route)"
   ]
  },
  {
   "cell_type": "markdown",
   "metadata": {},
   "source": [
    "Also, every city in the path is the id of a city:"
   ]
  },
  {
   "cell_type": "code",
   "execution_count": 16,
   "metadata": {},
   "outputs": [
    {
     "data": {
      "text/plain": [
       "True"
      ]
     },
     "execution_count": 16,
     "metadata": {},
     "output_type": "execute_result"
    }
   ],
   "source": [
    "all(np.isin(full_route, cities[:,0])) "
   ]
  },
  {
   "cell_type": "markdown",
   "metadata": {},
   "source": [
    "... and every city is in the path:"
   ]
  },
  {
   "cell_type": "code",
   "execution_count": 17,
   "metadata": {},
   "outputs": [
    {
     "data": {
      "text/plain": [
       "True"
      ]
     },
     "execution_count": 17,
     "metadata": {},
     "output_type": "execute_result"
    }
   ],
   "source": [
    "all(np.isin(cities[:,0], full_route)) "
   ]
  },
  {
   "cell_type": "markdown",
   "metadata": {},
   "source": [
    "The total length through this route:"
   ]
  },
  {
   "cell_type": "code",
   "execution_count": 18,
   "metadata": {},
   "outputs": [
    {
     "data": {
      "text/plain": [
       "8214645.568977318"
      ]
     },
     "execution_count": 18,
     "metadata": {},
     "output_type": "execute_result"
    }
   ],
   "source": [
    "total_length_loop(full_route, cities)"
   ]
  },
  {
   "cell_type": "markdown",
   "metadata": {},
   "source": [
    "Let us now see what would be the length of this route if we penalize every 10th step not starting from a prime city."
   ]
  },
  {
   "cell_type": "markdown",
   "metadata": {},
   "source": [
    "We create a masking list for non-prime number:"
   ]
  },
  {
   "cell_type": "code",
   "execution_count": 19,
   "metadata": {},
   "outputs": [],
   "source": [
    "np_not_prime = np.vectorize(not_prime)\n",
    "nums = np.arange(0,len(cities))\n",
    "not_primes_bool = np_not_prime(nums)"
   ]
  },
  {
   "cell_type": "markdown",
   "metadata": {},
   "source": [
    "We now use the list to find the total length, where we penalize each 10th step originating from a city that is not prime."
   ]
  },
  {
   "cell_type": "code",
   "execution_count": 20,
   "metadata": {},
   "outputs": [
    {
     "data": {
      "text/plain": [
       "8291272.454521399"
      ]
     },
     "execution_count": 20,
     "metadata": {},
     "output_type": "execute_result"
    }
   ],
   "source": [
    "total_length_w_penalties(full_route, cities, not_primes_bool)"
   ]
  },
  {
   "cell_type": "markdown",
   "metadata": {},
   "source": [
    "#### Save subroutes as json"
   ]
  },
  {
   "cell_type": "markdown",
   "metadata": {},
   "source": [
    "We also save the subroutes as a json file:"
   ]
  },
  {
   "cell_type": "code",
   "execution_count": null,
   "metadata": {},
   "outputs": [],
   "source": [
    "# routes_dict = dict()\n",
    "# for i in range(len(routes)):\n",
    "#     routes_dict[i] = list(routes[i])"
   ]
  },
  {
   "cell_type": "code",
   "execution_count": null,
   "metadata": {},
   "outputs": [],
   "source": [
    "# with open('files/1000_subroutes_2.json', 'w') as fp:\n",
    "#     json.dump(routes_dict, fp)"
   ]
  },
  {
   "cell_type": "markdown",
   "metadata": {},
   "source": [
    "# Running GA to find order of subroutes"
   ]
  },
  {
   "cell_type": "markdown",
   "metadata": {},
   "source": [
    "Reload routes in case::"
   ]
  },
  {
   "cell_type": "code",
   "execution_count": 21,
   "metadata": {},
   "outputs": [],
   "source": [
    "with open('files/1000_subroutes_2.json', 'r') as fp:\n",
    "    loaded_json = json.load(fp)"
   ]
  },
  {
   "cell_type": "code",
   "execution_count": 22,
   "metadata": {},
   "outputs": [],
   "source": [
    "json_routes = [loaded_json[str(i)] for i in range(1000)]"
   ]
  },
  {
   "cell_type": "code",
   "execution_count": 23,
   "metadata": {},
   "outputs": [
    {
     "data": {
      "text/plain": [
       "197769"
      ]
     },
     "execution_count": 23,
     "metadata": {},
     "output_type": "execute_result"
    }
   ],
   "source": [
    "full_json_route = np.concatenate(json_routes)\n",
    "len(full_json_route)"
   ]
  },
  {
   "cell_type": "code",
   "execution_count": 24,
   "metadata": {},
   "outputs": [
    {
     "data": {
      "text/plain": [
       "179270"
      ]
     },
     "execution_count": 24,
     "metadata": {},
     "output_type": "execute_result"
    }
   ],
   "source": [
    "# delete 0 ecc\n",
    "zij = np.where(full_json_route == 0)[0][0]\n",
    "zij"
   ]
  },
  {
   "cell_type": "code",
   "execution_count": 25,
   "metadata": {},
   "outputs": [
    {
     "data": {
      "text/plain": [
       "197769"
      ]
     },
     "execution_count": 25,
     "metadata": {},
     "output_type": "execute_result"
    }
   ],
   "source": [
    "full_json_route = np.concatenate((full_json_route[zij:], full_json_route[:zij])) # reorder full route as if starting from 0 to 0, and delete 0s\n",
    "len(full_json_route) # the 0 will be added during length computation"
   ]
  },
  {
   "cell_type": "code",
   "execution_count": 26,
   "metadata": {},
   "outputs": [
    {
     "data": {
      "text/plain": [
       "8291272.454521399"
      ]
     },
     "execution_count": 26,
     "metadata": {},
     "output_type": "execute_result"
    }
   ],
   "source": [
    "total_length_w_penalties(full_json_route.astype(int), cities, not_primes_bool)"
   ]
  },
  {
   "cell_type": "code",
   "execution_count": 27,
   "metadata": {},
   "outputs": [],
   "source": [
    "routes = json_routes"
   ]
  },
  {
   "cell_type": "markdown",
   "metadata": {},
   "source": [
    "We now apply GA for ordering the clusters:"
   ]
  },
  {
   "cell_type": "code",
   "execution_count": 28,
   "metadata": {},
   "outputs": [],
   "source": [
    "for i in range(len(routes)):\n",
    "    routes[i] = np.array(routes[i]).astype(int)"
   ]
  },
  {
   "cell_type": "code",
   "execution_count": 29,
   "metadata": {},
   "outputs": [],
   "source": [
    "routes = np.array(routes)"
   ]
  },
  {
   "cell_type": "markdown",
   "metadata": {},
   "source": [
    "After running the following ..."
   ]
  },
  {
   "cell_type": "code",
   "execution_count": 30,
   "metadata": {
    "scrolled": true
   },
   "outputs": [],
   "source": [
    "# np.random.seed(4)\n",
    "# s1, s2, s3, s4, s5 = GA(cities, np.inf, 20, 10, subset_fitness, [reverse_mutation, swap_mutation], 0.1,\n",
    "#                         roulette_selection2, cross_fun=two_point_crossover2, max_no_change = 500,\n",
    "#                         pop_include_zero=1, length_fun = total_length_loop,\n",
    "#                         on_subsets= True, subs = routes)"
   ]
  },
  {
   "cell_type": "markdown",
   "metadata": {},
   "source": [
    "We have obtained s5, which is the order of clusters"
   ]
  },
  {
   "cell_type": "code",
   "execution_count": 31,
   "metadata": {},
   "outputs": [],
   "source": [
    "# new_full_route = np.concatenate(routes[s5])"
   ]
  },
  {
   "cell_type": "markdown",
   "metadata": {},
   "source": [
    "We order it so that it starts and end at 0:"
   ]
  },
  {
   "cell_type": "code",
   "execution_count": 32,
   "metadata": {},
   "outputs": [],
   "source": [
    "# zin = np.where(new_full_route == 0)[0][0]\n",
    "# new_full_route = np.concatenate((new_full_route[zin:], new_full_route[:zin]))"
   ]
  },
  {
   "cell_type": "markdown",
   "metadata": {},
   "source": [
    "We save it:"
   ]
  },
  {
   "cell_type": "code",
   "execution_count": 33,
   "metadata": {},
   "outputs": [],
   "source": [
    "# np.savetxt('files/6926557_from_1000_ordered_clusters.txt', new_full_route)"
   ]
  },
  {
   "cell_type": "markdown",
   "metadata": {},
   "source": [
    "We load the route:"
   ]
  },
  {
   "cell_type": "code",
   "execution_count": 34,
   "metadata": {},
   "outputs": [],
   "source": [
    "new_full_route = np.genfromtxt('files/6926557_from_1000_ordered_clusters.txt').astype(int)"
   ]
  },
  {
   "cell_type": "code",
   "execution_count": 35,
   "metadata": {},
   "outputs": [
    {
     "data": {
      "text/plain": [
       "array([     0, 153911,  48908, ...,  81234,  60843,  42251])"
      ]
     },
     "execution_count": 35,
     "metadata": {},
     "output_type": "execute_result"
    }
   ],
   "source": [
    "new_full_route"
   ]
  },
  {
   "cell_type": "code",
   "execution_count": 36,
   "metadata": {},
   "outputs": [
    {
     "data": {
      "text/plain": [
       "6864862.674741199"
      ]
     },
     "execution_count": 36,
     "metadata": {},
     "output_type": "execute_result"
    }
   ],
   "source": [
    "total_length_loop(new_full_route, cities)"
   ]
  },
  {
   "cell_type": "code",
   "execution_count": 37,
   "metadata": {},
   "outputs": [
    {
     "data": {
      "text/plain": [
       "True"
      ]
     },
     "execution_count": 37,
     "metadata": {},
     "output_type": "execute_result"
    }
   ],
   "source": [
    "all(np.isin(new_full_route, cities[:,0])) # every city in the path is the id of a city"
   ]
  },
  {
   "cell_type": "code",
   "execution_count": 38,
   "metadata": {},
   "outputs": [
    {
     "data": {
      "text/plain": [
       "True"
      ]
     },
     "execution_count": 38,
     "metadata": {},
     "output_type": "execute_result"
    }
   ],
   "source": [
    "all(np.isin(cities[:,0], new_full_route)) # every city is in the path"
   ]
  },
  {
   "cell_type": "code",
   "execution_count": 39,
   "metadata": {},
   "outputs": [
    {
     "data": {
      "text/plain": [
       "6864862.674741199"
      ]
     },
     "execution_count": 39,
     "metadata": {},
     "output_type": "execute_result"
    }
   ],
   "source": [
    "total_length_loop(new_full_route, cities)"
   ]
  },
  {
   "cell_type": "code",
   "execution_count": 40,
   "metadata": {
    "scrolled": true
   },
   "outputs": [
    {
     "data": {
      "text/plain": [
       "6926557.37104381"
      ]
     },
     "execution_count": 40,
     "metadata": {},
     "output_type": "execute_result"
    }
   ],
   "source": [
    "total_length_w_penalties(new_full_route[1:], cities, not_primes_bool)"
   ]
  },
  {
   "cell_type": "markdown",
   "metadata": {},
   "source": [
    "# Improving the route by moving prime cities"
   ]
  },
  {
   "cell_type": "markdown",
   "metadata": {},
   "source": [
    "We start from the route with length 6 926 557.37104381"
   ]
  },
  {
   "cell_type": "markdown",
   "metadata": {},
   "source": [
    "Reload route in case:"
   ]
  },
  {
   "cell_type": "code",
   "execution_count": 41,
   "metadata": {},
   "outputs": [],
   "source": [
    "start_route = np.genfromtxt('files/6926557_from_1000_ordered_clusters.txt').astype(int)"
   ]
  },
  {
   "cell_type": "code",
   "execution_count": 42,
   "metadata": {},
   "outputs": [
    {
     "data": {
      "text/plain": [
       "6926557.37104381"
      ]
     },
     "execution_count": 42,
     "metadata": {},
     "output_type": "execute_result"
    }
   ],
   "source": [
    "total_length_w_penalties(start_route, cities, not_primes_bool)"
   ]
  },
  {
   "cell_type": "code",
   "execution_count": 43,
   "metadata": {},
   "outputs": [
    {
     "data": {
      "text/plain": [
       "197768"
      ]
     },
     "execution_count": 43,
     "metadata": {},
     "output_type": "execute_result"
    }
   ],
   "source": [
    "clusters = np.repeat(np.arange(1000), 200)[:len(cities)-1]\n",
    "len(clusters)"
   ]
  },
  {
   "cell_type": "code",
   "execution_count": 44,
   "metadata": {},
   "outputs": [],
   "source": [
    "sorted_cities = cities[start_route[1:]]"
   ]
  },
  {
   "cell_type": "code",
   "execution_count": 45,
   "metadata": {},
   "outputs": [],
   "source": [
    "kscities = np.concatenate((sorted_cities, clusters[:, np.newaxis]), 1)"
   ]
  },
  {
   "cell_type": "code",
   "execution_count": 46,
   "metadata": {},
   "outputs": [
    {
     "data": {
      "text/plain": [
       "989"
      ]
     },
     "execution_count": 46,
     "metadata": {},
     "output_type": "execute_result"
    }
   ],
   "source": [
    "n = len(np.unique(clusters))\n",
    "n"
   ]
  },
  {
   "cell_type": "code",
   "execution_count": 47,
   "metadata": {},
   "outputs": [],
   "source": [
    "subs = [0]*n"
   ]
  },
  {
   "cell_type": "code",
   "execution_count": 48,
   "metadata": {},
   "outputs": [],
   "source": [
    "for i in range(n):\n",
    "    subs[i] = kscities[kscities[:, 3] == i][:, :3]"
   ]
  },
  {
   "cell_type": "code",
   "execution_count": 49,
   "metadata": {},
   "outputs": [
    {
     "data": {
      "text/plain": [
       "array([200, 200, 200, 200, 200, 200, 200, 200, 200, 200, 200, 200, 200,\n",
       "       200, 200, 200, 200, 200, 200, 168])"
      ]
     },
     "execution_count": 49,
     "metadata": {},
     "output_type": "execute_result"
    }
   ],
   "source": [
    "lens = [len(subs[i]) for i in range(n)]\n",
    "np.array(lens[-20:])"
   ]
  },
  {
   "cell_type": "markdown",
   "metadata": {},
   "source": [
    "We apply SA..."
   ]
  },
  {
   "cell_type": "code",
   "execution_count": 50,
   "metadata": {},
   "outputs": [],
   "source": [
    "a = [0]*n\n",
    "b = [0]*n\n",
    "c = [0]*n"
   ]
  },
  {
   "cell_type": "code",
   "execution_count": 51,
   "metadata": {},
   "outputs": [],
   "source": [
    "for i in range(n):\n",
    "    a[i] = np.arange(len(subs[i]))"
   ]
  },
  {
   "cell_type": "code",
   "execution_count": 52,
   "metadata": {},
   "outputs": [
    {
     "data": {
      "text/plain": [
       "array([153911,  48908, 182416, ...,  81234,  60843,  42251])"
      ]
     },
     "execution_count": 52,
     "metadata": {},
     "output_type": "execute_result"
    }
   ],
   "source": [
    "start_route_w0 = start_route[1:]\n",
    "start_route_w0"
   ]
  },
  {
   "cell_type": "code",
   "execution_count": 53,
   "metadata": {},
   "outputs": [
    {
     "data": {
      "text/plain": [
       "6926557.37104381"
      ]
     },
     "execution_count": 53,
     "metadata": {},
     "output_type": "execute_result"
    }
   ],
   "source": [
    "total_length_w_penalties(start_route_w0, cities, not_primes_bool)"
   ]
  },
  {
   "cell_type": "code",
   "execution_count": 54,
   "metadata": {},
   "outputs": [],
   "source": [
    "c_ids = [el[:,0] for el in subs]"
   ]
  },
  {
   "cell_type": "markdown",
   "metadata": {},
   "source": [
    "After running the following..."
   ]
  },
  {
   "cell_type": "code",
   "execution_count": 55,
   "metadata": {},
   "outputs": [],
   "source": [
    "from sa import SA, reverse_primes_mutation, total_length_w_penalties_unordered_straigth"
   ]
  },
  {
   "cell_type": "code",
   "execution_count": 56,
   "metadata": {
    "scrolled": true
   },
   "outputs": [],
   "source": [
    "# np.random.seed(4)\n",
    "# start = datetime.now()\n",
    "# startl = datetime.now()\n",
    "# p = 0\n",
    "# last_v = total_length_w_penalties(start_route_w0, cities, not_primes_bool)\n",
    "# initial_v = last_v\n",
    "# print('Initial distance: {}'.format(last_v))\n",
    "# for i in range(n):\n",
    "#     if (i % 100 == 0) and (i > 0):\n",
    "#         print('\\nStart Loop {} at {}'.format(i, startl))\n",
    "#     \n",
    "#     perm_init = np.arange(len(subs[i]))\n",
    "#     a[i], b[i], c[i] = SA(subs[i], total_length_w_penalties_unordered_straigth, np.inf, reverse_primes_mutation,\n",
    "#                           black_list = not_primes_bool, scale = 10000000, n_to_mute= 10,\n",
    "#                           perm_init = perm_init, maxIterNoChange=1000)\n",
    "#     if ((i % (99 + p) == 0) or (i == n - 1)) and i > 0:\n",
    "#         p += 100\n",
    "#         endl = datetime.now()\n",
    "#         print('End loop {} at {}: {} seconds'.format(i, endl, (endl-startl).total_seconds()))\n",
    "#         startl = datetime.now()\n",
    "#     if i % 10 == 0:\n",
    "#         temp_routes = []\n",
    "#         for j in range(n):\n",
    "#             temp_routes.append(c_ids[j][a[j]])\n",
    "#         temp_full_route = np.concatenate(temp_routes).astype(int)\n",
    "#         temp_full_route = np.concatenate(([0], temp_full_route))\n",
    "#         temp_tot = total_length_w_penalties(temp_full_route[1:], cities, not_primes_bool)\n",
    "#         print('\\nLoop {}, Total distance so far: {}'.format(i, temp_tot))   \n",
    "#         print(all(np.isin(temp_full_route, cities[:,0])), all(np.isin(cities[:,0], temp_full_route)) )\n",
    "#         print('Improvement: {}'.format(temp_tot - last_v))\n",
    "#         print('Total Improvement: {}'.format(temp_tot - initial_v))\n",
    "#         last_v = temp_tot        \n",
    "# end = datetime.now()\n",
    "# print('\\nTotal time: {}'.format((end-start).total_seconds()))"
   ]
  },
  {
   "cell_type": "code",
   "execution_count": 57,
   "metadata": {},
   "outputs": [],
   "source": [
    "# c_ids = [el[:,0] for el in subs]\n",
    "# routes = []\n",
    "# for i in range(n):\n",
    "#     routes.append(c_ids[i][a[i]])\n",
    "# \n",
    "# final_full_route = np.concatenate(routes).astype(int)\n",
    "# final_full_route = np.concatenate(([0], final_full_route))"
   ]
  },
  {
   "cell_type": "code",
   "execution_count": 58,
   "metadata": {},
   "outputs": [],
   "source": [
    "# np.savetxt('files/6794694_after_sa.txt', final_full_route)"
   ]
  },
  {
   "cell_type": "markdown",
   "metadata": {},
   "source": [
    "We have obtained the following route:"
   ]
  },
  {
   "cell_type": "code",
   "execution_count": 59,
   "metadata": {},
   "outputs": [],
   "source": [
    "final_full_route = np.genfromtxt('files/6794694_after_sa.txt').astype(int)"
   ]
  },
  {
   "cell_type": "code",
   "execution_count": 60,
   "metadata": {},
   "outputs": [
    {
     "data": {
      "text/plain": [
       "array([     0, 153911,  48908, ...,  81234,  60843,  42251])"
      ]
     },
     "execution_count": 60,
     "metadata": {},
     "output_type": "execute_result"
    }
   ],
   "source": [
    "final_full_route"
   ]
  },
  {
   "cell_type": "code",
   "execution_count": 61,
   "metadata": {
    "scrolled": true
   },
   "outputs": [
    {
     "data": {
      "text/plain": [
       "6794694.175852176"
      ]
     },
     "execution_count": 61,
     "metadata": {},
     "output_type": "execute_result"
    }
   ],
   "source": [
    "total_length_w_penalties(final_full_route, cities, not_primes_bool)"
   ]
  },
  {
   "cell_type": "markdown",
   "metadata": {},
   "source": [
    "The length of the final route is 6 794 694.175852176"
   ]
  }
 ],
 "metadata": {
  "kernelspec": {
   "display_name": "Python 3",
   "language": "python",
   "name": "python3"
  },
  "language_info": {
   "codemirror_mode": {
    "name": "ipython",
    "version": 3
   },
   "file_extension": ".py",
   "mimetype": "text/x-python",
   "name": "python",
   "nbconvert_exporter": "python",
   "pygments_lexer": "ipython3",
   "version": "3.6.8"
  }
 },
 "nbformat": 4,
 "nbformat_minor": 2
}
