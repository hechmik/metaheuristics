{
 "cells": [
  {
   "cell_type": "markdown",
   "metadata": {},
   "source": [
    "In this notebook all the steps described in the report are run with the Genetic Algorithm. Execution of the full notebook can take a few hours, so that we have saved the outputs of the algorithms as text files that can be loaded instead of running the algorithms again."
   ]
  },
  {
   "cell_type": "markdown",
   "metadata": {},
   "source": [
    "The lines of code used to run the algorithms and saving their outputs are commented out."
   ]
  },
  {
   "cell_type": "markdown",
   "metadata": {},
   "source": [
    "### Note about distance functions:"
   ]
  },
  {
   "cell_type": "code",
   "execution_count": 1,
   "metadata": {},
   "outputs": [],
   "source": [
    "from datetime import datetime\n",
    "import json\n",
    "import numpy as np"
   ]
  },
  {
   "cell_type": "code",
   "execution_count": 2,
   "metadata": {},
   "outputs": [],
   "source": [
    "cities = np.genfromtxt('cities.csv', delimiter=',', skip_header = 1)"
   ]
  },
  {
   "cell_type": "code",
   "execution_count": 3,
   "metadata": {},
   "outputs": [],
   "source": [
    "from santas_path import edp, edp_unordered_straight, total_length_straight, total_length_loop"
   ]
  },
  {
   "cell_type": "markdown",
   "metadata": {},
   "source": [
    "Many distance functions are used in this notebook to compute the length of a tour. We briefly describe their use."
   ]
  },
  {
   "cell_type": "markdown",
   "metadata": {},
   "source": [
    "The function \"edp\", short for Euclidean Distance with Penalties, is the most important distance function in this notebook. It computes the total length of a route through the cities as the Euclidean distance between each step, but each 10th step originating from a non-prime city suffers a 10% penalty. Its implementation takes on imput a route, an array of city ids and their coordinates, and a black list: the city ids related to 10th steps will be compared to this list in order to decide if they should be penalized. In our case, the black list will be a boolean mask, with 1s corresponding to non-prime numbers. The function returns the total length of the route, starting and ending at the city with ID 0. Its implementation assumes that the city ids in the first column of the cities array passed as input correspond to the row index of the city. E.g., the city with ID 0 has index 0, the city with ID 1 has index 1, and so on. If this is not the case, the next function should be used. "
   ]
  },
  {
   "cell_type": "markdown",
   "metadata": {},
   "source": [
    "The function \"edp_unordered_straight\" is the same as edp, except that it does not assume that the cities array in input is well structured as described earlier. Thus, it is useful to apply to inner segments of a route and subsest of the cities dataset. It will be used in the very final step, when SA is applied (see report). It is called \"straight\" because the tour whose distance is computed by the function need not start and end at the same city (in case this is required, the santas_path library also contains a \"edp_unordered_loop\" function). "
   ]
  },
  {
   "cell_type": "markdown",
   "metadata": {},
   "source": [
    "The functions \"total_length_straight\" and \"total_length_loop\" compute the distance of a route through the cities, without penalising 10th steps originating from cities with a non-prime ID. The first function computes the distance on routes starting and ending at different cities, while the second one on routes starting and ending at the same city."
   ]
  },
  {
   "cell_type": "markdown",
   "metadata": {},
   "source": [
    "Note: throughout the notebook, the functions used to compute the distance of a route will take care of adding 0 at the start or at the and of the route during computation, if needed. For this reason, some \"full\" routes in this notebook might not start with 0, or not end with 0, but it will not make a difference. The function \"edp\" was tested on routes from the Kaggle challenge leaderboard in order to make sure of its correctness."
   ]
  },
  {
   "cell_type": "markdown",
   "metadata": {},
   "source": [
    "# Clustering"
   ]
  },
  {
   "cell_type": "markdown",
   "metadata": {},
   "source": [
    "We partition the cities in 1000 clusters using k-means."
   ]
  },
  {
   "cell_type": "code",
   "execution_count": 4,
   "metadata": {},
   "outputs": [],
   "source": [
    "n = 1000"
   ]
  },
  {
   "cell_type": "markdown",
   "metadata": {},
   "source": [
    "We have run the following code and saved the clusters as a txt file, so we can just import it now"
   ]
  },
  {
   "cell_type": "code",
   "execution_count": 5,
   "metadata": {},
   "outputs": [],
   "source": [
    "# from sklearn.cluster import KMeans\n",
    "# kmeans = KMeans(n_clusters=n, random_state=0)\n",
    "# start = datetime.now()\n",
    "# kmeans.fit(cities[:, 1:3])\n",
    "# end = datetime.now()\n",
    "# (end-start).total_seconds() / 60\n",
    "# np.savetxt('files/1000subsets.txt', kmeans.labels_) "
   ]
  },
  {
   "cell_type": "code",
   "execution_count": 6,
   "metadata": {},
   "outputs": [],
   "source": [
    "clusters = np.genfromtxt('files/1000subsets.txt', skip_header = 0).astype(int)"
   ]
  },
  {
   "cell_type": "code",
   "execution_count": 7,
   "metadata": {},
   "outputs": [
    {
     "data": {
      "text/plain": [
       "array([894, 654, 614, ..., 263, 305,  80])"
      ]
     },
     "execution_count": 7,
     "metadata": {},
     "output_type": "execute_result"
    }
   ],
   "source": [
    "clusters"
   ]
  },
  {
   "cell_type": "markdown",
   "metadata": {},
   "source": [
    "We add the information regarding the cluster to the cities array."
   ]
  },
  {
   "cell_type": "code",
   "execution_count": 8,
   "metadata": {},
   "outputs": [],
   "source": [
    "kcities = np.concatenate((cities, clusters[:, np.newaxis]), 1)"
   ]
  },
  {
   "cell_type": "code",
   "execution_count": 9,
   "metadata": {},
   "outputs": [
    {
     "data": {
      "text/plain": [
       "array([[0.00000000e+00, 3.16836739e+02, 2.20234071e+03, 8.94000000e+02],\n",
       "       [1.00000000e+00, 4.37740597e+03, 3.36602082e+02, 6.54000000e+02],\n",
       "       [2.00000000e+00, 3.45415820e+03, 2.82005301e+03, 6.14000000e+02],\n",
       "       [3.00000000e+00, 4.68809930e+03, 2.93589806e+03, 5.26000000e+02],\n",
       "       [4.00000000e+00, 1.01069695e+03, 3.23675099e+03, 1.90000000e+01]])"
      ]
     },
     "execution_count": 9,
     "metadata": {},
     "output_type": "execute_result"
    }
   ],
   "source": [
    "kcities[:5]"
   ]
  },
  {
   "cell_type": "markdown",
   "metadata": {},
   "source": [
    "We create a list of clusters (\"subsets\")"
   ]
  },
  {
   "cell_type": "code",
   "execution_count": 10,
   "metadata": {},
   "outputs": [],
   "source": [
    "subs = [0]*n\n",
    "for i in range(n):\n",
    "    subs[i] = kcities[kcities[:, 3] == i][:, :3]"
   ]
  },
  {
   "cell_type": "code",
   "execution_count": 11,
   "metadata": {},
   "outputs": [],
   "source": [
    "subs = np.array(subs)"
   ]
  },
  {
   "cell_type": "markdown",
   "metadata": {},
   "source": [
    "First rows of the cluster 0:"
   ]
  },
  {
   "cell_type": "code",
   "execution_count": 12,
   "metadata": {},
   "outputs": [
    {
     "data": {
      "text/plain": [
       "array([[ 363.        ,  359.17708865, 2894.43630611],\n",
       "       [ 649.        ,  404.28160286, 2897.62661906],\n",
       "       [1305.        ,  421.01277961, 2886.92349504],\n",
       "       [1890.        ,  444.20103667, 2908.49426528],\n",
       "       [9018.        ,  419.39723055, 2864.27279966]])"
      ]
     },
     "execution_count": 12,
     "metadata": {},
     "output_type": "execute_result"
    }
   ],
   "source": [
    "subs[0][:5]"
   ]
  },
  {
   "cell_type": "markdown",
   "metadata": {},
   "source": [
    "The following are the sizes of some of the clusters:"
   ]
  },
  {
   "cell_type": "code",
   "execution_count": 13,
   "metadata": {
    "scrolled": true
   },
   "outputs": [
    {
     "data": {
      "text/plain": [
       "array([230, 118, 121, 168,  89, 163, 310, 288, 277, 156, 289, 228, 172,\n",
       "       273, 151, 156, 261, 236, 190, 234, 183,  73, 242, 222, 228, 161,\n",
       "       244, 282, 265, 198, 138, 288, 268, 181, 274, 158, 160, 203, 127,\n",
       "       152, 216, 313, 222, 192, 218, 145, 241, 296, 151, 137])"
      ]
     },
     "execution_count": 13,
     "metadata": {},
     "output_type": "execute_result"
    }
   ],
   "source": [
    "lens = np.array([len(subs[i]) for i in range(n)])\n",
    "lens[:50]"
   ]
  },
  {
   "cell_type": "markdown",
   "metadata": {},
   "source": [
    "The smallest cluster has only 12 cities:"
   ]
  },
  {
   "cell_type": "code",
   "execution_count": 14,
   "metadata": {},
   "outputs": [
    {
     "data": {
      "text/plain": [
       "12"
      ]
     },
     "execution_count": 14,
     "metadata": {},
     "output_type": "execute_result"
    }
   ],
   "source": [
    "np.min(lens)"
   ]
  },
  {
   "cell_type": "markdown",
   "metadata": {},
   "source": [
    "The largest cluster consists of 407 cities:"
   ]
  },
  {
   "cell_type": "code",
   "execution_count": 15,
   "metadata": {},
   "outputs": [
    {
     "data": {
      "text/plain": [
       "407"
      ]
     },
     "execution_count": 15,
     "metadata": {},
     "output_type": "execute_result"
    }
   ],
   "source": [
    "np.max(lens)"
   ]
  },
  {
   "cell_type": "markdown",
   "metadata": {},
   "source": [
    "The median cluster size is 201:"
   ]
  },
  {
   "cell_type": "code",
   "execution_count": 16,
   "metadata": {},
   "outputs": [
    {
     "data": {
      "text/plain": [
       "201.0"
      ]
     },
     "execution_count": 16,
     "metadata": {},
     "output_type": "execute_result"
    }
   ],
   "source": [
    "np.median(lens)"
   ]
  },
  {
   "cell_type": "markdown",
   "metadata": {},
   "source": [
    "The size of the union of the clusters is 197769, as expected."
   ]
  },
  {
   "cell_type": "code",
   "execution_count": 17,
   "metadata": {},
   "outputs": [
    {
     "data": {
      "text/plain": [
       "197769"
      ]
     },
     "execution_count": 17,
     "metadata": {},
     "output_type": "execute_result"
    }
   ],
   "source": [
    "sum(lens)"
   ]
  },
  {
   "cell_type": "markdown",
   "metadata": {},
   "source": [
    "# Running GA in each cluster"
   ]
  },
  {
   "cell_type": "code",
   "execution_count": 18,
   "metadata": {},
   "outputs": [],
   "source": [
    "from ga import GA, route_fitness, shift_mutation, roulette_selection, two_point_crossover, pop_gen"
   ]
  },
  {
   "cell_type": "markdown",
   "metadata": {},
   "source": [
    "For later comparison, we compute the average total length and average edp of a random route through all the cities:"
   ]
  },
  {
   "cell_type": "code",
   "execution_count": 19,
   "metadata": {},
   "outputs": [],
   "source": [
    "# generate 100 random routes\n",
    "np.random.seed(4)\n",
    "random_routes = pop_gen(len(cities), 100, include_zero=True)"
   ]
  },
  {
   "cell_type": "markdown",
   "metadata": {},
   "source": [
    "Average total distance of a random route:"
   ]
  },
  {
   "cell_type": "code",
   "execution_count": 20,
   "metadata": {},
   "outputs": [
    {
     "data": {
      "text/plain": [
       "442919388.5838148"
      ]
     },
     "execution_count": 20,
     "metadata": {},
     "output_type": "execute_result"
    }
   ],
   "source": [
    "rand_lengths = np.apply_along_axis(total_length_loop, 1, random_routes, c = cities)\n",
    "np.mean(rand_lengths)"
   ]
  },
  {
   "cell_type": "markdown",
   "metadata": {},
   "source": [
    "To calculate the edp distance, we create a boolean mask  for non-prime number: every city_id such that \"not_primes_bool[city_id] = True\" will be penalized."
   ]
  },
  {
   "cell_type": "code",
   "execution_count": 21,
   "metadata": {},
   "outputs": [],
   "source": [
    "from santas_path import not_prime"
   ]
  },
  {
   "cell_type": "code",
   "execution_count": 22,
   "metadata": {},
   "outputs": [],
   "source": [
    "np_not_prime = np.vectorize(not_prime)\n",
    "nums = np.arange(0, len(cities))\n",
    "not_primes_bool = np_not_prime(nums)"
   ]
  },
  {
   "cell_type": "markdown",
   "metadata": {},
   "source": [
    "Average edp distance of a random route:"
   ]
  },
  {
   "cell_type": "code",
   "execution_count": 23,
   "metadata": {},
   "outputs": [],
   "source": [
    "np.random.seed(4)\n",
    "random_routes = pop_gen(len(cities), 100, include_zero=False)"
   ]
  },
  {
   "cell_type": "code",
   "execution_count": 24,
   "metadata": {},
   "outputs": [
    {
     "data": {
      "text/plain": [
       "447106962.3408601"
      ]
     },
     "execution_count": 24,
     "metadata": {},
     "output_type": "execute_result"
    }
   ],
   "source": [
    "rand_edps = np.apply_along_axis(edp, 1, random_routes, c = cities, black_list = not_primes_bool)\n",
    "np.mean(rand_edps)"
   ]
  },
  {
   "cell_type": "markdown",
   "metadata": {},
   "source": [
    "We now initialize the permutations in each cluster. We want to find the best permutation of cities inside each cluster, where a permutation inside a cluster is a permutation of the range of the size of the cluster, i.e., it is an ordering of cities."
   ]
  },
  {
   "cell_type": "code",
   "execution_count": 25,
   "metadata": {},
   "outputs": [],
   "source": [
    "subs_perms = [0]*n\n",
    "for i in range(n):\n",
    "    subs_perms[i] = np.arange(len(subs[i]))"
   ]
  },
  {
   "cell_type": "markdown",
   "metadata": {},
   "source": [
    "We create a list of lists, each consisting of the city ids in each cluster:"
   ]
  },
  {
   "cell_type": "code",
   "execution_count": 26,
   "metadata": {},
   "outputs": [],
   "source": [
    "c_ids = [el[:,0] for el in subs]"
   ]
  },
  {
   "cell_type": "markdown",
   "metadata": {},
   "source": [
    "We can find the route inside each cluster (as a sequence of city ids) as follows:"
   ]
  },
  {
   "cell_type": "code",
   "execution_count": 27,
   "metadata": {},
   "outputs": [],
   "source": [
    "start_routes = []\n",
    "for i in range(n):\n",
    "    start_routes.append(c_ids[i][subs_perms[i]])"
   ]
  },
  {
   "cell_type": "markdown",
   "metadata": {},
   "source": [
    "In order to make a comparison with the total distance of the route that we will soon find by using GA to find an optimal permutation inside each cluster, we concatenate all the routes inside each cluster as they are at the moment, that is, just ordered by their city id."
   ]
  },
  {
   "cell_type": "code",
   "execution_count": 28,
   "metadata": {},
   "outputs": [],
   "source": [
    "start_route = np.concatenate(start_routes).astype(int)"
   ]
  },
  {
   "cell_type": "markdown",
   "metadata": {},
   "source": [
    "The total length of the route obtained by clustering the cities, but without ordering the cities within each cluster, or without ordering the clusters, is the following, which is already a significant improvement over a random path."
   ]
  },
  {
   "cell_type": "code",
   "execution_count": 29,
   "metadata": {},
   "outputs": [
    {
     "data": {
      "text/plain": [
       "13139371.401815962"
      ]
     },
     "execution_count": 29,
     "metadata": {},
     "output_type": "execute_result"
    }
   ],
   "source": [
    "total_length_loop(start_route, cities)"
   ]
  },
  {
   "cell_type": "markdown",
   "metadata": {},
   "source": [
    "We now run GA inside each cluster in order to find the best permutation of cities in each \"province\". As described in the report, at this stage we treat this problem as a standard TSP problem."
   ]
  },
  {
   "cell_type": "code",
   "execution_count": 30,
   "metadata": {
    "scrolled": true
   },
   "outputs": [],
   "source": [
    "# np.random.seed(4)\n",
    "# start = datetime.now()\n",
    "# startl = datetime.now()\n",
    "# p = 0 \n",
    "# initial_dist = total_length_loop(start_route, cities)\n",
    "# last_dist = initial_dist\n",
    "# print('Initial distance: {}'.format(last_dist))\n",
    "# for i in range(n):\n",
    "#     if i % 100 == 0:\n",
    "#         print('\\nStart Loop {} at {}'.format(i, startl))\n",
    "#     subs_perms[i] = GA(subs[i], np.inf, 30, 10, route_fitness, [shift_mutation], 0.1,\n",
    "#                                       sel_fun=roulette_selection, cross_fun=two_point_crossover,\n",
    "#                                       max_no_change = 500, length_fun = total_length_straight)\n",
    "#     if (i % (99 + p) == 0) and i > 0:\n",
    "#         p += 100\n",
    "#         endl = datetime.now()\n",
    "#         print('End loop {} at {}: {} seconds'.format(i, endl, (endl-startl).total_seconds()))\n",
    "#         startl = datetime.now()\n",
    "#         temp_routes = []\n",
    "#         for j in range(n):\n",
    "#             temp_routes.append(c_ids[j][subs_perms[j]])\n",
    "#         temp_full_route = np.concatenate(temp_routes).astype(int)\n",
    "#         temp_tot = total_length_loop(temp_full_route, cities)\n",
    "#         print('Total distance so far: {}'.format(temp_tot))\n",
    "#         if all(np.isin(temp_full_route, cities[:,0])) and all(np.isin(cities[:,0], temp_full_route)):\n",
    "#             print(\"Checked: the path goes through all cities\")\n",
    "#         print('Improvement: {}'.format(temp_tot - last_dist))\n",
    "#         print('Total Improvement: {}'.format(temp_tot - initial_dist))\n",
    "#         last_dist = temp_tot    \n",
    "#         \n",
    "# end = datetime.now()\n",
    "# print('\\nTotal time: {}'.format((end-start).total_seconds()))"
   ]
  },
  {
   "cell_type": "markdown",
   "metadata": {},
   "source": [
    "Running the algorithm we have updated the list 'subs_perms' of permutations inside each cluster. Each element subs_perms[i] in this list is the best permutation found by running GA on subs[i]. We now order each list c_ids[i] by subs_perms[i] in order to obtain the routes as specified by the city ids."
   ]
  },
  {
   "cell_type": "code",
   "execution_count": 31,
   "metadata": {},
   "outputs": [],
   "source": [
    "# routes = []\n",
    "# for i in range(n):\n",
    "#     routes.append(c_ids[i][subs_perms[i]])"
   ]
  },
  {
   "cell_type": "markdown",
   "metadata": {},
   "source": [
    "We can now concatenate these routes in order to find a route on the full set of cities."
   ]
  },
  {
   "cell_type": "code",
   "execution_count": 32,
   "metadata": {},
   "outputs": [],
   "source": [
    "# full_route = np.concatenate(routes)"
   ]
  },
  {
   "cell_type": "markdown",
   "metadata": {},
   "source": [
    "We order the route so that it starts and ends at 0."
   ]
  },
  {
   "cell_type": "code",
   "execution_count": 33,
   "metadata": {},
   "outputs": [],
   "source": [
    "# zi = np.where(full_route == 0)[0][0]"
   ]
  },
  {
   "cell_type": "code",
   "execution_count": 34,
   "metadata": {},
   "outputs": [],
   "source": [
    "# full_route = np.concatenate((full_route[zi:], full_route[:zi]))"
   ]
  },
  {
   "cell_type": "code",
   "execution_count": 35,
   "metadata": {},
   "outputs": [],
   "source": [
    "# full_route = full_route.astype(int)"
   ]
  },
  {
   "cell_type": "markdown",
   "metadata": {},
   "source": [
    "We save this route so that we do not have to run the algorithm again:"
   ]
  },
  {
   "cell_type": "code",
   "execution_count": 36,
   "metadata": {},
   "outputs": [],
   "source": [
    "# np.savetxt('files/full_route_GA_in_clusts.txt', full_route)"
   ]
  },
  {
   "cell_type": "markdown",
   "metadata": {},
   "source": [
    "We load the saved file containing this route:"
   ]
  },
  {
   "cell_type": "code",
   "execution_count": 37,
   "metadata": {},
   "outputs": [],
   "source": [
    "full_route = np.genfromtxt('files/full_route_GA_in_clusts.txt').astype(int)"
   ]
  },
  {
   "cell_type": "code",
   "execution_count": 38,
   "metadata": {},
   "outputs": [],
   "source": [
    "cities = np.genfromtxt('cities.csv', delimiter=',', skip_header = 1)"
   ]
  },
  {
   "cell_type": "markdown",
   "metadata": {},
   "source": [
    "As a check, we can see that the length of the full route is correct."
   ]
  },
  {
   "cell_type": "code",
   "execution_count": 39,
   "metadata": {},
   "outputs": [
    {
     "data": {
      "text/plain": [
       "197769"
      ]
     },
     "execution_count": 39,
     "metadata": {},
     "output_type": "execute_result"
    }
   ],
   "source": [
    "len(full_route)"
   ]
  },
  {
   "cell_type": "markdown",
   "metadata": {},
   "source": [
    "Also, every city in the path is the id of a city:"
   ]
  },
  {
   "cell_type": "code",
   "execution_count": 40,
   "metadata": {},
   "outputs": [
    {
     "data": {
      "text/plain": [
       "True"
      ]
     },
     "execution_count": 40,
     "metadata": {},
     "output_type": "execute_result"
    }
   ],
   "source": [
    "all(np.isin(full_route, cities[:,0])) "
   ]
  },
  {
   "cell_type": "markdown",
   "metadata": {},
   "source": [
    "... and every city id is in the path:"
   ]
  },
  {
   "cell_type": "code",
   "execution_count": 41,
   "metadata": {},
   "outputs": [
    {
     "data": {
      "text/plain": [
       "True"
      ]
     },
     "execution_count": 41,
     "metadata": {},
     "output_type": "execute_result"
    }
   ],
   "source": [
    "all(np.isin(cities[:,0], full_route)) "
   ]
  },
  {
   "cell_type": "markdown",
   "metadata": {},
   "source": [
    "The total length through this route:"
   ]
  },
  {
   "cell_type": "code",
   "execution_count": 42,
   "metadata": {},
   "outputs": [
    {
     "data": {
      "text/plain": [
       "7805290.363298486"
      ]
     },
     "execution_count": 42,
     "metadata": {},
     "output_type": "execute_result"
    }
   ],
   "source": [
    "total_length_loop(full_route, cities)"
   ]
  },
  {
   "cell_type": "markdown",
   "metadata": {},
   "source": [
    "Finding the best permutation of cities inside each cluster has improved the total length of the route from ~13 139 371 to ~7 805 290"
   ]
  },
  {
   "cell_type": "markdown",
   "metadata": {},
   "source": [
    "Let us now see what would be the length of this route if we penalized every 10th step not starting from a prime city:"
   ]
  },
  {
   "cell_type": "code",
   "execution_count": 43,
   "metadata": {},
   "outputs": [
    {
     "data": {
      "text/plain": [
       "7878150.9519051965"
      ]
     },
     "execution_count": 43,
     "metadata": {},
     "output_type": "execute_result"
    }
   ],
   "source": [
    "edp(full_route, cities, not_primes_bool)"
   ]
  },
  {
   "cell_type": "markdown",
   "metadata": {},
   "source": [
    "For comparison, the edp distance of the start_route, before finding a better route in each cluster, is the following:"
   ]
  },
  {
   "cell_type": "code",
   "execution_count": 44,
   "metadata": {},
   "outputs": [
    {
     "data": {
      "text/plain": [
       "13261882.759004043"
      ]
     },
     "execution_count": 44,
     "metadata": {},
     "output_type": "execute_result"
    }
   ],
   "source": [
    "edp(start_route, cities, not_primes_bool)"
   ]
  },
  {
   "cell_type": "markdown",
   "metadata": {},
   "source": [
    "#### Save subroutes as json"
   ]
  },
  {
   "cell_type": "markdown",
   "metadata": {},
   "source": [
    "We also save the subroutes as a json file:"
   ]
  },
  {
   "cell_type": "code",
   "execution_count": 45,
   "metadata": {},
   "outputs": [],
   "source": [
    "# routes_dict = dict()\n",
    "# for i in range(len(routes)):\n",
    "#     routes_dict[i] = list(routes[i])"
   ]
  },
  {
   "cell_type": "code",
   "execution_count": 46,
   "metadata": {},
   "outputs": [],
   "source": [
    "# with open('files/subroutes_GA_in_clusts.json', 'w') as fp:\n",
    "#     json.dump(routes_dict, fp)"
   ]
  },
  {
   "cell_type": "markdown",
   "metadata": {},
   "source": [
    "# Running GA to find order of subroutes"
   ]
  },
  {
   "cell_type": "markdown",
   "metadata": {},
   "source": [
    "We now have 1000 clusters and an optimal route inside each cluster. Now we want to apply GA to find the best way to order these 1000 clusters."
   ]
  },
  {
   "cell_type": "markdown",
   "metadata": {},
   "source": [
    "We reload the routes saved in the previous step:"
   ]
  },
  {
   "cell_type": "code",
   "execution_count": 47,
   "metadata": {},
   "outputs": [],
   "source": [
    "with open('files/subroutes_GA_in_clusts.json', 'r') as fp:\n",
    "    loaded_json = json.load(fp)"
   ]
  },
  {
   "cell_type": "code",
   "execution_count": 48,
   "metadata": {},
   "outputs": [],
   "source": [
    "routes = [loaded_json[str(i)] for i in range(1000)]"
   ]
  },
  {
   "cell_type": "code",
   "execution_count": 49,
   "metadata": {},
   "outputs": [],
   "source": [
    "for i in range(len(routes)):\n",
    "    routes[i] = np.array(routes[i]).astype(int)"
   ]
  },
  {
   "cell_type": "code",
   "execution_count": 50,
   "metadata": {},
   "outputs": [],
   "source": [
    "routes = np.array(routes)"
   ]
  },
  {
   "cell_type": "markdown",
   "metadata": {},
   "source": [
    "We now apply GA for ordering the clusters."
   ]
  },
  {
   "cell_type": "code",
   "execution_count": 51,
   "metadata": {},
   "outputs": [],
   "source": [
    "from ga import subset_fitness"
   ]
  },
  {
   "cell_type": "code",
   "execution_count": 52,
   "metadata": {
    "scrolled": true
   },
   "outputs": [],
   "source": [
    "# np.random.seed(4)\n",
    "# start = datetime.now()\n",
    "# clusts_perm = GA(cities, np.inf, 30, 10, subset_fitness, [shift_mutation], 0.1,\n",
    "#                         roulette_selection, cross_fun=two_point_crossover, max_no_change = 500,\n",
    "#                         length_fun = total_length_loop, on_subsets= True, subs = routes, verbose = True)\n",
    "# end = datetime.now()\n",
    "# (end-start).total_seconds() / 60"
   ]
  },
  {
   "cell_type": "markdown",
   "metadata": {},
   "source": [
    "We have obtained clusts_perm, which is the order of clusters"
   ]
  },
  {
   "cell_type": "code",
   "execution_count": 53,
   "metadata": {},
   "outputs": [],
   "source": [
    "# new_full_route = np.concatenate(routes[clusts_perm])"
   ]
  },
  {
   "cell_type": "markdown",
   "metadata": {},
   "source": [
    "We order it so that it starts and ends at 0:"
   ]
  },
  {
   "cell_type": "code",
   "execution_count": 54,
   "metadata": {},
   "outputs": [],
   "source": [
    "# zin = np.where(new_full_route == 0)[0][0]\n",
    "# new_full_route = np.concatenate((new_full_route[zin:], new_full_route[:zin]))"
   ]
  },
  {
   "cell_type": "markdown",
   "metadata": {},
   "source": [
    "We save the route so we do not need to run the algorithm again:"
   ]
  },
  {
   "cell_type": "code",
   "execution_count": 55,
   "metadata": {},
   "outputs": [],
   "source": [
    "# np.savetxt('files/route_after_clust_ordering.txt', new_full_route)"
   ]
  },
  {
   "cell_type": "markdown",
   "metadata": {},
   "source": [
    "We load the route:"
   ]
  },
  {
   "cell_type": "code",
   "execution_count": 56,
   "metadata": {},
   "outputs": [],
   "source": [
    "new_full_route = np.genfromtxt('files/route_after_clust_ordering.txt').astype(int)"
   ]
  },
  {
   "cell_type": "code",
   "execution_count": 57,
   "metadata": {},
   "outputs": [],
   "source": [
    "cities = np.genfromtxt('cities.csv', delimiter=',', skip_header = 1)"
   ]
  },
  {
   "cell_type": "code",
   "execution_count": 58,
   "metadata": {},
   "outputs": [
    {
     "data": {
      "text/plain": [
       "array([     0, 161041,  97580, ...,  25100, 195889,  69414])"
      ]
     },
     "execution_count": 58,
     "metadata": {},
     "output_type": "execute_result"
    }
   ],
   "source": [
    "new_full_route"
   ]
  },
  {
   "cell_type": "markdown",
   "metadata": {},
   "source": [
    "The total length through this route, starting and ending at 0, is the following:"
   ]
  },
  {
   "cell_type": "code",
   "execution_count": 59,
   "metadata": {},
   "outputs": [
    {
     "data": {
      "text/plain": [
       "6726045.709191153"
      ]
     },
     "execution_count": 59,
     "metadata": {},
     "output_type": "execute_result"
    }
   ],
   "source": [
    "total_length_loop(new_full_route, cities)"
   ]
  },
  {
   "cell_type": "markdown",
   "metadata": {},
   "source": [
    "We permform the usual checks.\n",
    "Every city in the path is the id of a city..."
   ]
  },
  {
   "cell_type": "code",
   "execution_count": 60,
   "metadata": {},
   "outputs": [
    {
     "data": {
      "text/plain": [
       "True"
      ]
     },
     "execution_count": 60,
     "metadata": {},
     "output_type": "execute_result"
    }
   ],
   "source": [
    "all(np.isin(new_full_route, cities[:,0]))"
   ]
  },
  {
   "cell_type": "markdown",
   "metadata": {},
   "source": [
    "... and every city is in the path"
   ]
  },
  {
   "cell_type": "code",
   "execution_count": 61,
   "metadata": {},
   "outputs": [
    {
     "data": {
      "text/plain": [
       "True"
      ]
     },
     "execution_count": 61,
     "metadata": {},
     "output_type": "execute_result"
    }
   ],
   "source": [
    "all(np.isin(cities[:,0], new_full_route))"
   ]
  },
  {
   "cell_type": "markdown",
   "metadata": {},
   "source": [
    "The total distance considering penalties is not very different:"
   ]
  },
  {
   "cell_type": "code",
   "execution_count": 62,
   "metadata": {
    "scrolled": true
   },
   "outputs": [
    {
     "data": {
      "text/plain": [
       "6788202.383675191"
      ]
     },
     "execution_count": 62,
     "metadata": {},
     "output_type": "execute_result"
    }
   ],
   "source": [
    "edp(new_full_route[1:], cities, not_primes_bool)"
   ]
  },
  {
   "cell_type": "markdown",
   "metadata": {},
   "source": [
    "# Improving the route by moving prime cities"
   ]
  },
  {
   "cell_type": "markdown",
   "metadata": {},
   "source": [
    "We start from the route found in the previous step with length 6 788 202.383675191"
   ]
  },
  {
   "cell_type": "markdown",
   "metadata": {},
   "source": [
    "Reload route:"
   ]
  },
  {
   "cell_type": "code",
   "execution_count": 63,
   "metadata": {},
   "outputs": [],
   "source": [
    "start_route = np.genfromtxt('files/route_after_clust_ordering.txt').astype(int)"
   ]
  },
  {
   "cell_type": "code",
   "execution_count": 64,
   "metadata": {},
   "outputs": [
    {
     "data": {
      "text/plain": [
       "6788202.383675191"
      ]
     },
     "execution_count": 64,
     "metadata": {},
     "output_type": "execute_result"
    }
   ],
   "source": [
    "edp(start_route, cities, not_primes_bool)"
   ]
  },
  {
   "cell_type": "markdown",
   "metadata": {},
   "source": [
    "We sort the cities dataset by the route found in the previous step. "
   ]
  },
  {
   "cell_type": "code",
   "execution_count": 65,
   "metadata": {},
   "outputs": [],
   "source": [
    "sorted_cities = cities[start_route[1:]]"
   ]
  },
  {
   "cell_type": "markdown",
   "metadata": {},
   "source": [
    "We have excluded the first city in the route (i.e., the city with ID 0), as we want the SA to only work on inner segments of the full route."
   ]
  },
  {
   "cell_type": "markdown",
   "metadata": {},
   "source": [
    "We now want to run Simulated Annealing, starting from this route, with a special mutation function that reverses the order of two consecutive cities $c_1$ and $c_2$ with very high probability if $c_1$ is not prime and found at a tenth step, and $c_2$ is prime. We divide the route and the cities dataset in 1000 subsets so that SA can focus on a segment of the route at a time."
   ]
  },
  {
   "cell_type": "markdown",
   "metadata": {},
   "source": [
    "We create 1000 new subsets, each of size 200 (except from the last). "
   ]
  },
  {
   "cell_type": "code",
   "execution_count": 66,
   "metadata": {},
   "outputs": [
    {
     "data": {
      "text/plain": [
       "197768"
      ]
     },
     "execution_count": 66,
     "metadata": {},
     "output_type": "execute_result"
    }
   ],
   "source": [
    "clusters = np.repeat(np.arange(1000), 200)[:len(cities)-1]\n",
    "len(clusters)"
   ]
  },
  {
   "cell_type": "markdown",
   "metadata": {},
   "source": [
    "We add the information about membership in each subset to the cities dataset sorted by the route:"
   ]
  },
  {
   "cell_type": "code",
   "execution_count": 67,
   "metadata": {},
   "outputs": [],
   "source": [
    "kscities = np.concatenate((sorted_cities, clusters[:, np.newaxis]), 1)"
   ]
  },
  {
   "cell_type": "code",
   "execution_count": 68,
   "metadata": {},
   "outputs": [
    {
     "data": {
      "text/plain": [
       "array([[161041.        ,    333.4324635 ,   2215.18812375,\n",
       "             0.        ],\n",
       "       [ 97580.        ,    326.53583468,   2200.95264142,\n",
       "             0.        ],\n",
       "       [  2832.        ,    336.74566244,   2163.50537169,\n",
       "             0.        ],\n",
       "       [ 17097.        ,    331.77859752,   2148.64371451,\n",
       "             0.        ],\n",
       "       [174392.        ,    306.24676402,   2108.66894447,\n",
       "             0.        ]])"
      ]
     },
     "execution_count": 68,
     "metadata": {},
     "output_type": "execute_result"
    }
   ],
   "source": [
    "kscities[:5]"
   ]
  },
  {
   "cell_type": "markdown",
   "metadata": {},
   "source": [
    "There are 989 unique clusters"
   ]
  },
  {
   "cell_type": "code",
   "execution_count": 69,
   "metadata": {},
   "outputs": [
    {
     "data": {
      "text/plain": [
       "989"
      ]
     },
     "execution_count": 69,
     "metadata": {},
     "output_type": "execute_result"
    }
   ],
   "source": [
    "n = len(np.unique(clusters))\n",
    "n"
   ]
  },
  {
   "cell_type": "markdown",
   "metadata": {},
   "source": [
    "We create the list of clusters (\"subsets\"):"
   ]
  },
  {
   "cell_type": "code",
   "execution_count": 70,
   "metadata": {},
   "outputs": [],
   "source": [
    "subs = [0]*n"
   ]
  },
  {
   "cell_type": "code",
   "execution_count": 71,
   "metadata": {},
   "outputs": [],
   "source": [
    "for i in range(n):\n",
    "    subs[i] = kscities[kscities[:, 3] == i][:, :3]"
   ]
  },
  {
   "cell_type": "markdown",
   "metadata": {},
   "source": [
    "The first rows of the first subset:"
   ]
  },
  {
   "cell_type": "code",
   "execution_count": 72,
   "metadata": {},
   "outputs": [
    {
     "data": {
      "text/plain": [
       "array([[161041.        ,    333.4324635 ,   2215.18812375],\n",
       "       [ 97580.        ,    326.53583468,   2200.95264142],\n",
       "       [  2832.        ,    336.74566244,   2163.50537169],\n",
       "       [ 17097.        ,    331.77859752,   2148.64371451],\n",
       "       [174392.        ,    306.24676402,   2108.66894447]])"
      ]
     },
     "execution_count": 72,
     "metadata": {},
     "output_type": "execute_result"
    }
   ],
   "source": [
    "subs[0][:5]"
   ]
  },
  {
   "cell_type": "code",
   "execution_count": 73,
   "metadata": {},
   "outputs": [
    {
     "data": {
      "text/plain": [
       "array([200, 200, 200, 200, 200, 200, 200, 200, 200, 200, 200, 200, 200,\n",
       "       200, 200, 200, 200, 200, 200, 168])"
      ]
     },
     "execution_count": 73,
     "metadata": {},
     "output_type": "execute_result"
    }
   ],
   "source": [
    "lens = [len(subs[i]) for i in range(n)]\n",
    "np.array(lens[-20:])"
   ]
  },
  {
   "cell_type": "markdown",
   "metadata": {},
   "source": [
    "We initialize the permutation on each subset:"
   ]
  },
  {
   "cell_type": "code",
   "execution_count": 74,
   "metadata": {},
   "outputs": [],
   "source": [
    "subs_perm = [0]*n"
   ]
  },
  {
   "cell_type": "code",
   "execution_count": 75,
   "metadata": {},
   "outputs": [],
   "source": [
    "for i in range(n):\n",
    "    subs_perm[i] = np.arange(len(subs[i]))"
   ]
  },
  {
   "cell_type": "code",
   "execution_count": 76,
   "metadata": {},
   "outputs": [],
   "source": [
    "c_ids = [el[:,0] for el in subs]"
   ]
  },
  {
   "cell_type": "markdown",
   "metadata": {},
   "source": [
    "We run SA on each subset, with the described mutation function."
   ]
  },
  {
   "cell_type": "code",
   "execution_count": 77,
   "metadata": {},
   "outputs": [],
   "source": [
    "from sa import SA, reverse_primes_mutation\n",
    "from santas_path import edp_unordered_straight"
   ]
  },
  {
   "cell_type": "code",
   "execution_count": 78,
   "metadata": {
    "scrolled": true
   },
   "outputs": [],
   "source": [
    "# np.random.seed(4)\n",
    "# start = datetime.now()\n",
    "# startl = datetime.now()\n",
    "# p = 0\n",
    "# last_dist = edp(start_route, cities, not_primes_bool)\n",
    "# initial_dist = last_dist\n",
    "# print('Initial distance: {}'.format(last_dist))\n",
    "# for i in range(n):\n",
    "#     if (i % 100 == 0) and (i > 0):\n",
    "#         print('\\nStart Loop {} at {}'.format(i, startl))\n",
    "#     \n",
    "#     perm_init = np.arange(len(subs[i]))\n",
    "#     subs_perm[i] = SA(subs[i], edp_unordered_straight, reverse_primes_mutation,\n",
    "#                           black_list = not_primes_bool, scale = 100000, n_to_mute= 10,\n",
    "#                           maxIter = np.inf, perm_init = perm_init, maxIterNoChange=1000)\n",
    "#     if ((i % (99 + p) == 0) or (i == n - 1)) and i > 0:\n",
    "#         p += 100\n",
    "#         endl = datetime.now()\n",
    "#         print('End loop {} at {}: {} seconds'.format(i, endl, (endl-startl).total_seconds()))\n",
    "#         startl = datetime.now()\n",
    "#     if i % 20 == 0:\n",
    "#         temp_routes = []\n",
    "#         for j in range(n):\n",
    "#             temp_routes.append(c_ids[j][subs_perm[j]])\n",
    "#         temp_full_route = np.concatenate(temp_routes).astype(int)\n",
    "#         temp_full_route = np.concatenate(([0], temp_full_route))\n",
    "#         temp_tot = edp(temp_full_route[1:], cities, not_primes_bool)\n",
    "#         print('\\nLoop {}, Total distance so far: {}'.format(i, temp_tot))   \n",
    "#         if all(np.isin(temp_full_route, cities[:,0])) and all(np.isin(cities[:,0], temp_full_route)):\n",
    "#             print(\"Checked: the path goes through all cities\")\n",
    "#         print('Improvement: {}'.format(temp_tot - last_dist))\n",
    "#         print('Total Improvement: {}'.format(temp_tot - initial_dist))\n",
    "#         last_dist = temp_tot        \n",
    "# end = datetime.now()\n",
    "# print('\\nTotal time: {}'.format((end-start).total_seconds()))"
   ]
  },
  {
   "cell_type": "markdown",
   "metadata": {},
   "source": [
    "Similarly as before, we find the route inside each cluster as specified by the cities ids, and we concatenate it (and add the first city with id 0 at the start) to find the final route."
   ]
  },
  {
   "cell_type": "code",
   "execution_count": 79,
   "metadata": {},
   "outputs": [],
   "source": [
    "# c_ids = [el[:,0] for el in subs]\n",
    "# routes = []\n",
    "# for i in range(n):\n",
    "#     routes.append(c_ids[i][subs_perm[i]])\n",
    "# \n",
    "# final_full_route = np.concatenate(routes).astype(int)\n",
    "# final_full_route = np.concatenate(([0], final_full_route))"
   ]
  },
  {
   "cell_type": "code",
   "execution_count": 80,
   "metadata": {},
   "outputs": [],
   "source": [
    "# np.savetxt('files/final_after_sa.txt', final_full_route)"
   ]
  },
  {
   "cell_type": "markdown",
   "metadata": {},
   "source": [
    "We have thus obtained the following route:"
   ]
  },
  {
   "cell_type": "code",
   "execution_count": 81,
   "metadata": {},
   "outputs": [],
   "source": [
    "final_full_route = np.genfromtxt('files/final_after_sa.txt').astype(int)"
   ]
  },
  {
   "cell_type": "code",
   "execution_count": 82,
   "metadata": {},
   "outputs": [],
   "source": [
    "cities = np.genfromtxt('cities.csv', delimiter=',', skip_header = 1)"
   ]
  },
  {
   "cell_type": "code",
   "execution_count": 83,
   "metadata": {},
   "outputs": [
    {
     "data": {
      "text/plain": [
       "array([     0, 161041,  97580, ..., 144501, 195889,  69414])"
      ]
     },
     "execution_count": 83,
     "metadata": {},
     "output_type": "execute_result"
    }
   ],
   "source": [
    "final_full_route"
   ]
  },
  {
   "cell_type": "code",
   "execution_count": 84,
   "metadata": {},
   "outputs": [
    {
     "data": {
      "text/plain": [
       "6618859.716599304"
      ]
     },
     "execution_count": 84,
     "metadata": {},
     "output_type": "execute_result"
    }
   ],
   "source": [
    "total_length_loop(final_full_route, cities)"
   ]
  },
  {
   "cell_type": "code",
   "execution_count": 85,
   "metadata": {
    "scrolled": false
   },
   "outputs": [
    {
     "data": {
      "text/plain": [
       "6679052.190203142"
      ]
     },
     "execution_count": 85,
     "metadata": {},
     "output_type": "execute_result"
    }
   ],
   "source": [
    "edp(final_full_route, cities, not_primes_bool)"
   ]
  },
  {
   "cell_type": "markdown",
   "metadata": {},
   "source": [
    "The edp of the final route is 6 679 052.190203142"
   ]
  },
  {
   "cell_type": "markdown",
   "metadata": {},
   "source": [
    "# No Clustering "
   ]
  },
  {
   "cell_type": "code",
   "execution_count": 86,
   "metadata": {
    "scrolled": true
   },
   "outputs": [
    {
     "name": "stdout",
     "output_type": "stream",
     "text": [
      "Iter 0, ItNoChange 0, Best 445901367.318844\n",
      "Iter 1000, ItNoChange 31, Best 444264042.46257126\n",
      "Iter 2000, ItNoChange 31, Best 444250435.2917634\n",
      "Iter 3000, ItNoChange 4, Best 444222143.5938322\n",
      "Iter 4000, ItNoChange 72, Best 444184727.3995493\n",
      "Iter 5000, ItNoChange 137, Best 444175067.2122146\n",
      "\n",
      "Total time: 4313.435948\n"
     ]
    }
   ],
   "source": [
    "np.random.seed(4)\n",
    "start = datetime.now()\n",
    "no_clust_route = GA(cities, 6000, 20, 10, route_fitness, [shift_mutation], 0.1,\n",
    "              sel_fun=roulette_selection, cross_fun=two_point_crossover,\n",
    "              max_no_change = 500, pop_inlcude_zero = False, verbose = True,\n",
    "              length_fun = edp, black_list = not_primes_bool)\n",
    "end = datetime.now()\n",
    "\n",
    "print('\\nTotal time: {}'.format((end-start).total_seconds()))"
   ]
  },
  {
   "cell_type": "code",
   "execution_count": 87,
   "metadata": {},
   "outputs": [
    {
     "data": {
      "text/plain": [
       "array([101535,  22710,  72327, ..., 174326,  39315,  46604])"
      ]
     },
     "execution_count": 87,
     "metadata": {},
     "output_type": "execute_result"
    }
   ],
   "source": [
    "no_clust_route"
   ]
  },
  {
   "cell_type": "code",
   "execution_count": 88,
   "metadata": {},
   "outputs": [],
   "source": [
    "cities = np.genfromtxt('cities.csv', delimiter=',', skip_header = 1)"
   ]
  },
  {
   "cell_type": "code",
   "execution_count": 90,
   "metadata": {},
   "outputs": [
    {
     "data": {
      "text/plain": [
       "440272671.9725418"
      ]
     },
     "execution_count": 90,
     "metadata": {},
     "output_type": "execute_result"
    }
   ],
   "source": [
    "total_length_loop(no_clust_route, cities)"
   ]
  },
  {
   "cell_type": "code",
   "execution_count": 91,
   "metadata": {
    "scrolled": false
   },
   "outputs": [
    {
     "data": {
      "text/plain": [
       "444162148.6409465"
      ]
     },
     "execution_count": 91,
     "metadata": {},
     "output_type": "execute_result"
    }
   ],
   "source": [
    "edp(no_clust_route, cities, not_primes_bool)"
   ]
  }
 ],
 "metadata": {
  "kernelspec": {
   "display_name": "Python 3",
   "language": "python",
   "name": "python3"
  },
  "language_info": {
   "codemirror_mode": {
    "name": "ipython",
    "version": 3
   },
   "file_extension": ".py",
   "mimetype": "text/x-python",
   "name": "python",
   "nbconvert_exporter": "python",
   "pygments_lexer": "ipython3",
   "version": "3.6.8"
  }
 },
 "nbformat": 4,
 "nbformat_minor": 2
}
