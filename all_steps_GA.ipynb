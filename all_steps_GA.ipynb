{
 "cells": [
  {
   "cell_type": "markdown",
   "metadata": {},
   "source": [
    "# Steps:\n",
    "\n",
    "1. Clustering on cities through K-means;\n",
    "2. GA on each cluster: obtain provinces (use normal total length);\n",
    "3. GA for sorting custers: obtain candidate trace as concatenation of cluster routes (use normal total length);\n",
    "4. SA on on obtained candidate trace, with special mutation and fitness func for primes.\n",
    "\n",
    "# Imports"
   ]
  },
  {
   "cell_type": "code",
   "execution_count": 1,
   "metadata": {},
   "outputs": [],
   "source": [
    "from datetime import datetime\n",
    "import json\n",
    "import numpy as np"
   ]
  },
  {
   "cell_type": "code",
   "execution_count": 2,
   "metadata": {},
   "outputs": [],
   "source": [
    "cities = np.genfromtxt('cities.csv', delimiter=',', skip_header = 1)"
   ]
  },
  {
   "cell_type": "markdown",
   "metadata": {},
   "source": [
    "# Clustering"
   ]
  },
  {
   "cell_type": "code",
   "execution_count": 3,
   "metadata": {},
   "outputs": [],
   "source": [
    "from sklearn.cluster import KMeans"
   ]
  },
  {
   "cell_type": "markdown",
   "metadata": {},
   "source": [
    "We partition the cities in 1000 clusters, using k-means."
   ]
  },
  {
   "cell_type": "code",
   "execution_count": 4,
   "metadata": {},
   "outputs": [],
   "source": [
    "n = 1000"
   ]
  },
  {
   "cell_type": "markdown",
   "metadata": {},
   "source": [
    "We have run the following code and saved the clusters as a txt file, so we just import it now"
   ]
  },
  {
   "cell_type": "code",
   "execution_count": 5,
   "metadata": {},
   "outputs": [],
   "source": [
    "# kmeans = KMeans(n_clusters=n, random_state=0)\n",
    "# kmeans.fit(cities[:, 1:3])"
   ]
  },
  {
   "cell_type": "code",
   "execution_count": 6,
   "metadata": {},
   "outputs": [],
   "source": [
    "clusters = np.genfromtxt('files/1000subsets.txt', skip_header = 0).astype(int)"
   ]
  },
  {
   "cell_type": "code",
   "execution_count": 7,
   "metadata": {},
   "outputs": [
    {
     "data": {
      "text/plain": [
       "array([894, 654, 614, ..., 263, 305,  80])"
      ]
     },
     "execution_count": 7,
     "metadata": {},
     "output_type": "execute_result"
    }
   ],
   "source": [
    "clusters"
   ]
  },
  {
   "cell_type": "markdown",
   "metadata": {},
   "source": [
    "We add the information regarding the cluster to the cities array."
   ]
  },
  {
   "cell_type": "code",
   "execution_count": 8,
   "metadata": {},
   "outputs": [],
   "source": [
    "kcities = np.concatenate((cities, clusters[:, np.newaxis]), 1)"
   ]
  },
  {
   "cell_type": "code",
   "execution_count": 9,
   "metadata": {},
   "outputs": [],
   "source": [
    "subs = [0]*n\n",
    "for i in range(n):\n",
    "    subs[i] = kcities[kcities[:, 3] == i][:, :3]"
   ]
  },
  {
   "cell_type": "code",
   "execution_count": 10,
   "metadata": {},
   "outputs": [],
   "source": [
    "subs = np.array(subs)"
   ]
  },
  {
   "cell_type": "code",
   "execution_count": 11,
   "metadata": {},
   "outputs": [
    {
     "data": {
      "text/plain": [
       "array([230, 118, 121, 168,  89, 163, 310, 288, 277, 156, 289, 228, 172,\n",
       "       273, 151, 156, 261, 236, 190, 234, 183,  73, 242, 222, 228, 161,\n",
       "       244, 282, 265, 198, 138, 288, 268, 181, 274, 158, 160, 203, 127,\n",
       "       152, 216, 313, 222, 192, 218, 145, 241, 296, 151, 137])"
      ]
     },
     "execution_count": 11,
     "metadata": {},
     "output_type": "execute_result"
    }
   ],
   "source": [
    "lens = np.array([len(subs[i]) for i in range(n)])\n",
    "lens[:50]"
   ]
  },
  {
   "cell_type": "code",
   "execution_count": 12,
   "metadata": {},
   "outputs": [
    {
     "data": {
      "text/plain": [
       "197769"
      ]
     },
     "execution_count": 12,
     "metadata": {},
     "output_type": "execute_result"
    }
   ],
   "source": [
    "sum(lens)"
   ]
  },
  {
   "cell_type": "markdown",
   "metadata": {},
   "source": [
    "# Running GA in each cluster"
   ]
  },
  {
   "cell_type": "code",
   "execution_count": 13,
   "metadata": {},
   "outputs": [],
   "source": [
    "from ga import GA, route_fitness, shift_mutation, roulette_selection\n",
    "from ga import two_point_crossover, total_length_loop, edp, not_prime"
   ]
  },
  {
   "cell_type": "code",
   "execution_count": 14,
   "metadata": {},
   "outputs": [],
   "source": [
    "np.random.seed(4)\n",
    "random_perm = np.random.permutation(len(cities))"
   ]
  },
  {
   "cell_type": "code",
   "execution_count": 15,
   "metadata": {},
   "outputs": [
    {
     "data": {
      "text/plain": [
       "442479971.65202415"
      ]
     },
     "execution_count": 15,
     "metadata": {},
     "output_type": "execute_result"
    }
   ],
   "source": [
    "total_length_loop(random_perm, cities)"
   ]
  },
  {
   "cell_type": "code",
   "execution_count": 16,
   "metadata": {},
   "outputs": [],
   "source": [
    "a = [0]*n\n",
    "b = [0]*n\n",
    "c = [0]*n\n",
    "d = [0]*n\n",
    "e = [0]*n"
   ]
  },
  {
   "cell_type": "code",
   "execution_count": 17,
   "metadata": {},
   "outputs": [],
   "source": [
    "for i in range(n):\n",
    "    e[i] = np.arange(len(subs[i]))"
   ]
  },
  {
   "cell_type": "markdown",
   "metadata": {},
   "source": [
    "We have created a list of lists, each consisting of the city ids in each cluster:"
   ]
  },
  {
   "cell_type": "code",
   "execution_count": 18,
   "metadata": {},
   "outputs": [],
   "source": [
    "c_ids = [el[:,0] for el in subs]"
   ]
  },
  {
   "cell_type": "code",
   "execution_count": 19,
   "metadata": {},
   "outputs": [],
   "source": [
    "start_routes = []\n",
    "for i in range(n):\n",
    "    start_routes.append(c_ids[i][e[i]])"
   ]
  },
  {
   "cell_type": "code",
   "execution_count": 20,
   "metadata": {},
   "outputs": [],
   "source": [
    "start_route = np.concatenate(start_routes).astype(int)"
   ]
  },
  {
   "cell_type": "code",
   "execution_count": 21,
   "metadata": {},
   "outputs": [
    {
     "data": {
      "text/plain": [
       "True"
      ]
     },
     "execution_count": 21,
     "metadata": {},
     "output_type": "execute_result"
    }
   ],
   "source": [
    "all(np.isin(start_route, cities[:,0])) "
   ]
  },
  {
   "cell_type": "code",
   "execution_count": 22,
   "metadata": {},
   "outputs": [
    {
     "data": {
      "text/plain": [
       "True"
      ]
     },
     "execution_count": 22,
     "metadata": {},
     "output_type": "execute_result"
    }
   ],
   "source": [
    "all(np.isin(cities[:,0], start_route))"
   ]
  },
  {
   "cell_type": "code",
   "execution_count": 23,
   "metadata": {},
   "outputs": [
    {
     "data": {
      "text/plain": [
       "13139371.401815962"
      ]
     },
     "execution_count": 23,
     "metadata": {},
     "output_type": "execute_result"
    }
   ],
   "source": [
    "total_length_loop(start_route, cities)"
   ]
  },
  {
   "cell_type": "markdown",
   "metadata": {},
   "source": [
    "After running the following..."
   ]
  },
  {
   "cell_type": "code",
   "execution_count": 24,
   "metadata": {
    "scrolled": true
   },
   "outputs": [
    {
     "name": "stdout",
     "output_type": "stream",
     "text": [
      "Initial distance: 13139371.401815962\n",
      "\n",
      "Start Loop 0 at 2019-07-04 11:04:38.290970\n",
      "End loop 99 at 2019-07-04 11:15:13.220641: 634.929671 seconds\n",
      "Total distance so far: 12590740.842975082\n",
      "Checked: the path goes through all cities\n",
      "Improvement: -548630.5588408802\n",
      "Total Improvement: -548630.5588408802\n",
      "\n",
      "Start Loop 100 at 2019-07-04 11:15:13.220641\n",
      "End loop 199 at 2019-07-04 11:25:13.561627: 600.340986 seconds\n",
      "Total distance so far: 12053523.824350068\n",
      "Checked: the path goes through all cities\n",
      "Improvement: -537217.0186250135\n",
      "Total Improvement: -1085847.5774658937\n",
      "\n",
      "Start Loop 200 at 2019-07-04 11:25:13.561627\n",
      "End loop 299 at 2019-07-04 11:36:09.129431: 655.567804 seconds\n",
      "Total distance so far: 11516201.33771347\n",
      "Checked: the path goes through all cities\n",
      "Improvement: -537322.4866365977\n",
      "Total Improvement: -1623170.0641024914\n",
      "\n",
      "Start Loop 300 at 2019-07-04 11:36:09.129431\n",
      "End loop 399 at 2019-07-04 11:45:31.342081: 562.21265 seconds\n",
      "Total distance so far: 10967903.767421352\n",
      "Checked: the path goes through all cities\n",
      "Improvement: -548297.5702921189\n",
      "Total Improvement: -2171467.6343946103\n",
      "\n",
      "Start Loop 400 at 2019-07-04 11:45:31.342081\n",
      "End loop 499 at 2019-07-04 11:54:55.931561: 564.58948 seconds\n",
      "Total distance so far: 10414822.685085038\n",
      "Checked: the path goes through all cities\n",
      "Improvement: -553081.082336314\n",
      "Total Improvement: -2724548.7167309243\n",
      "\n",
      "Start Loop 500 at 2019-07-04 11:54:55.931561\n",
      "End loop 599 at 2019-07-04 12:04:10.982396: 555.050835 seconds\n",
      "Total distance so far: 9869847.865649847\n",
      "Checked: the path goes through all cities\n",
      "Improvement: -544974.8194351904\n",
      "Total Improvement: -3269523.5361661147\n",
      "\n",
      "Start Loop 600 at 2019-07-04 12:04:10.982396\n",
      "End loop 699 at 2019-07-04 12:14:29.871036: 618.88864 seconds\n",
      "Total distance so far: 9343799.48127961\n",
      "Checked: the path goes through all cities\n",
      "Improvement: -526048.3843702376\n",
      "Total Improvement: -3795571.9205363523\n",
      "\n",
      "Start Loop 700 at 2019-07-04 12:14:29.872001\n",
      "End loop 799 at 2019-07-04 12:27:26.012699: 776.140698 seconds\n",
      "Total distance so far: 8826086.627246926\n",
      "Checked: the path goes through all cities\n",
      "Improvement: -517712.8540326841\n",
      "Total Improvement: -4313284.774569036\n",
      "\n",
      "Start Loop 800 at 2019-07-04 12:27:26.012699\n",
      "End loop 899 at 2019-07-04 12:36:48.044905: 562.032206 seconds\n",
      "Total distance so far: 8298360.326352098\n",
      "Checked: the path goes through all cities\n",
      "Improvement: -527726.3008948276\n",
      "Total Improvement: -4841011.075463864\n",
      "\n",
      "Start Loop 900 at 2019-07-04 12:36:48.044905\n",
      "End loop 999 at 2019-07-04 12:46:37.219982: 589.175077 seconds\n",
      "Total distance so far: 7831973.175599159\n",
      "Checked: the path goes through all cities\n",
      "Improvement: -466387.1507529393\n",
      "Total Improvement: -5307398.226216803\n",
      "\n",
      "Total time: 6119.031739\n"
     ]
    }
   ],
   "source": [
    "np.random.seed(4)\n",
    "start = datetime.now()\n",
    "startl = datetime.now()\n",
    "p = 0 \n",
    "initial_dist = total_length_loop(start_route, cities)\n",
    "last_dist = initial_dist\n",
    "print('Initial distance: {}'.format(last_dist))\n",
    "for i in range(n):\n",
    "    if i % 100 == 0:\n",
    "        print('\\nStart Loop {} at {}'.format(i, startl))\n",
    "    a[i], b[i], c[i], d[i], e[i] = GA(subs[i], np.inf, 30, 10, route_fitness, [shift_mutation], 0.1,\n",
    "                                      sel_fun=roulette_selection, cross_fun=two_point_crossover,\n",
    "                                      max_no_change = 500, length_fun = total_length_loop)\n",
    "    if (i % (99 + p) == 0) and i > 0:\n",
    "        p += 100\n",
    "        endl = datetime.now()\n",
    "        print('End loop {} at {}: {} seconds'.format(i, endl, (endl-startl).total_seconds()))\n",
    "        startl = datetime.now()\n",
    "        temp_routes = []\n",
    "        for j in range(n):\n",
    "            temp_routes.append(c_ids[j][e[j]])\n",
    "        temp_full_route = np.concatenate(temp_routes).astype(int)\n",
    "        temp_tot = total_length_loop(temp_full_route, cities)\n",
    "        print('Total distance so far: {}'.format(temp_tot))\n",
    "        if all(np.isin(temp_full_route, cities[:,0])) and all(np.isin(cities[:,0], temp_full_route)):\n",
    "            print(\"Checked: the path goes through all cities\")\n",
    "        print('Improvement: {}'.format(temp_tot - last_dist))\n",
    "        print('Total Improvement: {}'.format(temp_tot - initial_dist))\n",
    "        last_dist = temp_tot    \n",
    "        \n",
    "end = datetime.now()\n",
    "print('\\nTotal time: {}'.format((end-start).total_seconds()))"
   ]
  },
  {
   "cell_type": "markdown",
   "metadata": {},
   "source": [
    "Running the algorithm we have created a list 'e'. Each element e[i] in this list is the best route found by running GA on subs[i]. We now order each list c_ids[i] by e[i] in order to obtain the routes specified by their city ids. "
   ]
  },
  {
   "cell_type": "code",
   "execution_count": 25,
   "metadata": {},
   "outputs": [],
   "source": [
    "routes = []\n",
    "for i in range(n):\n",
    "    routes.append(c_ids[i][e[i]])"
   ]
  },
  {
   "cell_type": "markdown",
   "metadata": {},
   "source": [
    "We can now concatenate these routes in order to find a route on the full set of cities."
   ]
  },
  {
   "cell_type": "code",
   "execution_count": 26,
   "metadata": {},
   "outputs": [],
   "source": [
    "full_route = np.concatenate(routes)"
   ]
  },
  {
   "cell_type": "markdown",
   "metadata": {},
   "source": [
    "We order the route so that it starts and ends at 0."
   ]
  },
  {
   "cell_type": "code",
   "execution_count": 27,
   "metadata": {},
   "outputs": [],
   "source": [
    "zi = np.where(full_route == 0)[0][0]"
   ]
  },
  {
   "cell_type": "code",
   "execution_count": 28,
   "metadata": {},
   "outputs": [],
   "source": [
    "full_route = np.concatenate((full_route[zi:], full_route[:zi]))"
   ]
  },
  {
   "cell_type": "code",
   "execution_count": 29,
   "metadata": {},
   "outputs": [],
   "source": [
    "full_route = full_route.astype(int)"
   ]
  },
  {
   "cell_type": "code",
   "execution_count": 30,
   "metadata": {},
   "outputs": [],
   "source": [
    "np.savetxt('files/full_route_GA_in_clusts.txt', full_route)"
   ]
  },
  {
   "cell_type": "markdown",
   "metadata": {},
   "source": [
    "We load the saved file containing this route:"
   ]
  },
  {
   "cell_type": "code",
   "execution_count": 31,
   "metadata": {},
   "outputs": [],
   "source": [
    "full_route = np.genfromtxt('files/full_route_GA_in_clusts.txt').astype(int)"
   ]
  },
  {
   "cell_type": "markdown",
   "metadata": {},
   "source": [
    "As a check, we can see that the length of the full route is correct."
   ]
  },
  {
   "cell_type": "code",
   "execution_count": 32,
   "metadata": {},
   "outputs": [
    {
     "data": {
      "text/plain": [
       "197769"
      ]
     },
     "execution_count": 32,
     "metadata": {},
     "output_type": "execute_result"
    }
   ],
   "source": [
    "len(full_route)"
   ]
  },
  {
   "cell_type": "markdown",
   "metadata": {},
   "source": [
    "Also, every city in the path is the id of a city:"
   ]
  },
  {
   "cell_type": "code",
   "execution_count": 33,
   "metadata": {},
   "outputs": [
    {
     "data": {
      "text/plain": [
       "True"
      ]
     },
     "execution_count": 33,
     "metadata": {},
     "output_type": "execute_result"
    }
   ],
   "source": [
    "all(np.isin(full_route, cities[:,0])) "
   ]
  },
  {
   "cell_type": "markdown",
   "metadata": {},
   "source": [
    "... and every city is in the path:"
   ]
  },
  {
   "cell_type": "code",
   "execution_count": 34,
   "metadata": {},
   "outputs": [
    {
     "data": {
      "text/plain": [
       "True"
      ]
     },
     "execution_count": 34,
     "metadata": {},
     "output_type": "execute_result"
    }
   ],
   "source": [
    "all(np.isin(cities[:,0], full_route)) "
   ]
  },
  {
   "cell_type": "markdown",
   "metadata": {},
   "source": [
    "The total length through this route:"
   ]
  },
  {
   "cell_type": "code",
   "execution_count": 35,
   "metadata": {},
   "outputs": [
    {
     "data": {
      "text/plain": [
       "7831973.175599158"
      ]
     },
     "execution_count": 35,
     "metadata": {},
     "output_type": "execute_result"
    }
   ],
   "source": [
    "total_length_loop(full_route, cities)"
   ]
  },
  {
   "cell_type": "markdown",
   "metadata": {},
   "source": [
    "Let us now see what would be the length of this route if we penalize every 10th step not starting from a prime city."
   ]
  },
  {
   "cell_type": "markdown",
   "metadata": {},
   "source": [
    "We create a masking list for non-prime number:"
   ]
  },
  {
   "cell_type": "code",
   "execution_count": 36,
   "metadata": {},
   "outputs": [],
   "source": [
    "np_not_prime = np.vectorize(not_prime)\n",
    "nums = np.arange(0, len(cities))\n",
    "not_primes_bool = np_not_prime(nums)"
   ]
  },
  {
   "cell_type": "markdown",
   "metadata": {},
   "source": [
    "We now use the list to find the total length, where we penalize each 10th step originating from a city that is not prime."
   ]
  },
  {
   "cell_type": "code",
   "execution_count": 37,
   "metadata": {},
   "outputs": [
    {
     "data": {
      "text/plain": [
       "7902785.316364356"
      ]
     },
     "execution_count": 37,
     "metadata": {},
     "output_type": "execute_result"
    }
   ],
   "source": [
    "edp(full_route, cities, not_primes_bool)"
   ]
  },
  {
   "cell_type": "markdown",
   "metadata": {},
   "source": [
    "#### Save subroutes as json"
   ]
  },
  {
   "cell_type": "markdown",
   "metadata": {},
   "source": [
    "We also save the subroutes as a json file:"
   ]
  },
  {
   "cell_type": "code",
   "execution_count": 38,
   "metadata": {},
   "outputs": [],
   "source": [
    "routes_dict = dict()\n",
    "for i in range(len(routes)):\n",
    "    routes_dict[i] = list(routes[i])"
   ]
  },
  {
   "cell_type": "code",
   "execution_count": 39,
   "metadata": {},
   "outputs": [],
   "source": [
    "with open('files/subroutes_GA_in_clusts.json', 'w') as fp:\n",
    "    json.dump(routes_dict, fp)"
   ]
  },
  {
   "cell_type": "markdown",
   "metadata": {},
   "source": [
    "# Running GA to find order of subroutes"
   ]
  },
  {
   "cell_type": "markdown",
   "metadata": {},
   "source": [
    "Reload routes:"
   ]
  },
  {
   "cell_type": "code",
   "execution_count": 40,
   "metadata": {},
   "outputs": [],
   "source": [
    "with open('files/subroutes_GA_in_clusts.json', 'r') as fp:\n",
    "    loaded_json = json.load(fp)"
   ]
  },
  {
   "cell_type": "code",
   "execution_count": 41,
   "metadata": {},
   "outputs": [],
   "source": [
    "json_routes = [loaded_json[str(i)] for i in range(1000)]"
   ]
  },
  {
   "cell_type": "code",
   "execution_count": 42,
   "metadata": {},
   "outputs": [
    {
     "data": {
      "text/plain": [
       "197769"
      ]
     },
     "execution_count": 42,
     "metadata": {},
     "output_type": "execute_result"
    }
   ],
   "source": [
    "full_json_route = np.concatenate(json_routes)\n",
    "len(full_json_route)"
   ]
  },
  {
   "cell_type": "code",
   "execution_count": 43,
   "metadata": {},
   "outputs": [
    {
     "data": {
      "text/plain": [
       "179193"
      ]
     },
     "execution_count": 43,
     "metadata": {},
     "output_type": "execute_result"
    }
   ],
   "source": [
    "# delete 0 ecc\n",
    "zij = np.where(full_json_route == 0)[0][0]\n",
    "zij"
   ]
  },
  {
   "cell_type": "code",
   "execution_count": 44,
   "metadata": {},
   "outputs": [
    {
     "data": {
      "text/plain": [
       "197769"
      ]
     },
     "execution_count": 44,
     "metadata": {},
     "output_type": "execute_result"
    }
   ],
   "source": [
    "full_json_route = np.concatenate((full_json_route[zij:], full_json_route[:zij])) # reorder full route as if starting from 0 to 0, and delete 0s\n",
    "len(full_json_route) # the 0 will be added during length computation"
   ]
  },
  {
   "cell_type": "code",
   "execution_count": 45,
   "metadata": {},
   "outputs": [
    {
     "data": {
      "text/plain": [
       "7902785.316364356"
      ]
     },
     "execution_count": 45,
     "metadata": {},
     "output_type": "execute_result"
    }
   ],
   "source": [
    "edp(full_json_route.astype(int), cities, not_primes_bool)"
   ]
  },
  {
   "cell_type": "code",
   "execution_count": 46,
   "metadata": {},
   "outputs": [],
   "source": [
    "routes = json_routes"
   ]
  },
  {
   "cell_type": "markdown",
   "metadata": {},
   "source": [
    "We now apply GA for ordering the clusters:"
   ]
  },
  {
   "cell_type": "code",
   "execution_count": 47,
   "metadata": {},
   "outputs": [],
   "source": [
    "for i in range(len(routes)):\n",
    "    routes[i] = np.array(routes[i]).astype(int)"
   ]
  },
  {
   "cell_type": "code",
   "execution_count": 48,
   "metadata": {},
   "outputs": [],
   "source": [
    "routes = np.array(routes)"
   ]
  },
  {
   "cell_type": "markdown",
   "metadata": {},
   "source": [
    "After running the following ..."
   ]
  },
  {
   "cell_type": "code",
   "execution_count": 49,
   "metadata": {},
   "outputs": [],
   "source": [
    "from ga import GA, subset_fitness, swap_mutation, reverse_mutation\n",
    "from ga import two_point_crossover, total_length_loop, edp, not_prime"
   ]
  },
  {
   "cell_type": "code",
   "execution_count": 50,
   "metadata": {
    "scrolled": true
   },
   "outputs": [
    {
     "name": "stdout",
     "output_type": "stream",
     "text": [
      "Iter 0, ItNoChange 0, Best 7761197.5345714465\n",
      "Iter 1000, ItNoChange 3, Best 7236799.774131638\n",
      "Iter 2000, ItNoChange 6, Best 7058641.832748582\n",
      "Iter 3000, ItNoChange 0, Best 6952621.101843127\n",
      "Iter 4000, ItNoChange 67, Best 6894611.406067888\n",
      "Iter 5000, ItNoChange 42, Best 6853382.471679553\n",
      "Iter 6000, ItNoChange 9, Best 6826968.39273542\n",
      "Iter 7000, ItNoChange 0, Best 6798967.361847972\n"
     ]
    }
   ],
   "source": [
    "np.random.seed(4)\n",
    "s1, s2, s3, s4, s5 = GA(cities, np.inf, 30, 10, subset_fitness, [shift_mutation], 0.1,\n",
    "                        roulette_selection, cross_fun=two_point_crossover, max_no_change = 500,\n",
    "                        length_fun = total_length_loop, on_subsets= True, subs = routes, verbose = True)"
   ]
  },
  {
   "cell_type": "markdown",
   "metadata": {},
   "source": [
    "We have obtained s5, which is the order of clusters"
   ]
  },
  {
   "cell_type": "code",
   "execution_count": 51,
   "metadata": {},
   "outputs": [],
   "source": [
    "new_full_route = np.concatenate(routes[s5])"
   ]
  },
  {
   "cell_type": "markdown",
   "metadata": {},
   "source": [
    "We order it so that it starts and end at 0:"
   ]
  },
  {
   "cell_type": "code",
   "execution_count": 52,
   "metadata": {},
   "outputs": [],
   "source": [
    "zin = np.where(new_full_route == 0)[0][0]\n",
    "new_full_route = np.concatenate((new_full_route[zin:], new_full_route[:zin]))"
   ]
  },
  {
   "cell_type": "markdown",
   "metadata": {},
   "source": [
    "We save it:"
   ]
  },
  {
   "cell_type": "code",
   "execution_count": 53,
   "metadata": {},
   "outputs": [],
   "source": [
    "np.savetxt('files/route_after_clust_ordering.txt', new_full_route)"
   ]
  },
  {
   "cell_type": "markdown",
   "metadata": {},
   "source": [
    "We load the route:"
   ]
  },
  {
   "cell_type": "code",
   "execution_count": 54,
   "metadata": {},
   "outputs": [],
   "source": [
    "new_full_route = np.genfromtxt('files/route_after_clust_ordering.txt').astype(int)"
   ]
  },
  {
   "cell_type": "code",
   "execution_count": 55,
   "metadata": {},
   "outputs": [
    {
     "data": {
      "text/plain": [
       "array([     0,  42251,  12492, ..., 144501,  52086,  78934])"
      ]
     },
     "execution_count": 55,
     "metadata": {},
     "output_type": "execute_result"
    }
   ],
   "source": [
    "new_full_route"
   ]
  },
  {
   "cell_type": "code",
   "execution_count": 56,
   "metadata": {},
   "outputs": [
    {
     "data": {
      "text/plain": [
       "6781586.220064791"
      ]
     },
     "execution_count": 56,
     "metadata": {},
     "output_type": "execute_result"
    }
   ],
   "source": [
    "total_length_loop(new_full_route, cities)"
   ]
  },
  {
   "cell_type": "code",
   "execution_count": 57,
   "metadata": {},
   "outputs": [
    {
     "data": {
      "text/plain": [
       "True"
      ]
     },
     "execution_count": 57,
     "metadata": {},
     "output_type": "execute_result"
    }
   ],
   "source": [
    "all(np.isin(new_full_route, cities[:,0])) # every city in the path is the id of a city"
   ]
  },
  {
   "cell_type": "code",
   "execution_count": 58,
   "metadata": {},
   "outputs": [
    {
     "data": {
      "text/plain": [
       "True"
      ]
     },
     "execution_count": 58,
     "metadata": {},
     "output_type": "execute_result"
    }
   ],
   "source": [
    "all(np.isin(cities[:,0], new_full_route)) # every city is in the path"
   ]
  },
  {
   "cell_type": "code",
   "execution_count": 59,
   "metadata": {},
   "outputs": [
    {
     "data": {
      "text/plain": [
       "6781586.220064791"
      ]
     },
     "execution_count": 59,
     "metadata": {},
     "output_type": "execute_result"
    }
   ],
   "source": [
    "total_length_loop(new_full_route, cities)"
   ]
  },
  {
   "cell_type": "code",
   "execution_count": 60,
   "metadata": {
    "scrolled": true
   },
   "outputs": [
    {
     "data": {
      "text/plain": [
       "6847216.556585729"
      ]
     },
     "execution_count": 60,
     "metadata": {},
     "output_type": "execute_result"
    }
   ],
   "source": [
    "edp(new_full_route[1:], cities, not_primes_bool)"
   ]
  },
  {
   "cell_type": "code",
   "execution_count": 61,
   "metadata": {},
   "outputs": [],
   "source": [
    "from sa import plot_SA"
   ]
  },
  {
   "cell_type": "code",
   "execution_count": 62,
   "metadata": {},
   "outputs": [
    {
     "data": {
      "image/png": "[encoded data removed]",
      "text/plain": [
       "<Figure size 720x432 with 1 Axes>"
      ]
     },
     "metadata": {
      "needs_background": "light"
     },
     "output_type": "display_data"
    }
   ],
   "source": [
    "plot_SA(s2, s3, 10)"
   ]
  },
  {
   "cell_type": "markdown",
   "metadata": {},
   "source": [
    "# Improving the route by moving prime cities"
   ]
  },
  {
   "cell_type": "markdown",
   "metadata": {},
   "source": [
    "We start from the route with length 6 847 216.556585729"
   ]
  },
  {
   "cell_type": "markdown",
   "metadata": {},
   "source": [
    "Reload route in case:"
   ]
  },
  {
   "cell_type": "code",
   "execution_count": 79,
   "metadata": {},
   "outputs": [],
   "source": [
    "start_route = np.genfromtxt('files/route_after_clust_ordering.txt').astype(int)"
   ]
  },
  {
   "cell_type": "code",
   "execution_count": 80,
   "metadata": {},
   "outputs": [
    {
     "data": {
      "text/plain": [
       "6847216.556585729"
      ]
     },
     "execution_count": 80,
     "metadata": {},
     "output_type": "execute_result"
    }
   ],
   "source": [
    "edp(start_route, cities, not_primes_bool)"
   ]
  },
  {
   "cell_type": "code",
   "execution_count": 65,
   "metadata": {},
   "outputs": [
    {
     "data": {
      "text/plain": [
       "197768"
      ]
     },
     "execution_count": 65,
     "metadata": {},
     "output_type": "execute_result"
    }
   ],
   "source": [
    "clusters = np.repeat(np.arange(1000), 200)[:len(cities)-1]\n",
    "len(clusters)"
   ]
  },
  {
   "cell_type": "code",
   "execution_count": 66,
   "metadata": {},
   "outputs": [],
   "source": [
    "sorted_cities = cities[start_route[1:]]"
   ]
  },
  {
   "cell_type": "code",
   "execution_count": 67,
   "metadata": {},
   "outputs": [],
   "source": [
    "kscities = np.concatenate((sorted_cities, clusters[:, np.newaxis]), 1)"
   ]
  },
  {
   "cell_type": "code",
   "execution_count": 68,
   "metadata": {},
   "outputs": [
    {
     "data": {
      "text/plain": [
       "989"
      ]
     },
     "execution_count": 68,
     "metadata": {},
     "output_type": "execute_result"
    }
   ],
   "source": [
    "n = len(np.unique(clusters))\n",
    "n"
   ]
  },
  {
   "cell_type": "code",
   "execution_count": 69,
   "metadata": {},
   "outputs": [],
   "source": [
    "subs = [0]*n"
   ]
  },
  {
   "cell_type": "code",
   "execution_count": 70,
   "metadata": {},
   "outputs": [],
   "source": [
    "for i in range(n):\n",
    "    subs[i] = kscities[kscities[:, 3] == i][:, :3]"
   ]
  },
  {
   "cell_type": "code",
   "execution_count": 71,
   "metadata": {},
   "outputs": [
    {
     "data": {
      "text/plain": [
       "array([200, 200, 200, 200, 200, 200, 200, 200, 200, 200, 200, 200, 200,\n",
       "       200, 200, 200, 200, 200, 200, 168])"
      ]
     },
     "execution_count": 71,
     "metadata": {},
     "output_type": "execute_result"
    }
   ],
   "source": [
    "lens = [len(subs[i]) for i in range(n)]\n",
    "np.array(lens[-20:])"
   ]
  },
  {
   "cell_type": "markdown",
   "metadata": {},
   "source": [
    "We apply SA..."
   ]
  },
  {
   "cell_type": "code",
   "execution_count": 72,
   "metadata": {},
   "outputs": [],
   "source": [
    "a = [0]*n\n",
    "b = [0]*n\n",
    "c = [0]*n"
   ]
  },
  {
   "cell_type": "code",
   "execution_count": 73,
   "metadata": {},
   "outputs": [],
   "source": [
    "for i in range(n):\n",
    "    a[i] = np.arange(len(subs[i]))"
   ]
  },
  {
   "cell_type": "code",
   "execution_count": 74,
   "metadata": {},
   "outputs": [
    {
     "data": {
      "text/plain": [
       "array([ 42251,  12492, 151736, ..., 144501,  52086,  78934])"
      ]
     },
     "execution_count": 74,
     "metadata": {},
     "output_type": "execute_result"
    }
   ],
   "source": [
    "start_route_w0 = start_route[1:]\n",
    "start_route_w0"
   ]
  },
  {
   "cell_type": "code",
   "execution_count": 75,
   "metadata": {},
   "outputs": [
    {
     "data": {
      "text/plain": [
       "6847216.556585729"
      ]
     },
     "execution_count": 75,
     "metadata": {},
     "output_type": "execute_result"
    }
   ],
   "source": [
    "edp(start_route_w0, cities, not_primes_bool)"
   ]
  },
  {
   "cell_type": "code",
   "execution_count": 76,
   "metadata": {},
   "outputs": [],
   "source": [
    "c_ids = [el[:,0] for el in subs]"
   ]
  },
  {
   "cell_type": "markdown",
   "metadata": {},
   "source": [
    "After running the following..."
   ]
  },
  {
   "cell_type": "code",
   "execution_count": 77,
   "metadata": {},
   "outputs": [],
   "source": [
    "from sa import SA, reverse_primes_mutation, swap_primes_mutation, edp_unordered_straight"
   ]
  },
  {
   "cell_type": "code",
   "execution_count": 78,
   "metadata": {
    "scrolled": true
   },
   "outputs": [
    {
     "name": "stdout",
     "output_type": "stream",
     "text": [
      "Initial distance: 6847216.556585729\n",
      "\n",
      "Loop 0, Total distance so far: 6846991.741012709\n",
      "Checked: the path goes through all cities\n",
      "Improvement: -224.81557301990688\n",
      "Total Improvement: -224.81557301990688\n",
      "\n",
      "Loop 10, Total distance so far: 6845743.75211204\n",
      "Checked: the path goes through all cities\n",
      "Improvement: -1247.988900668919\n",
      "Total Improvement: -1472.804473688826\n",
      "\n",
      "Loop 20, Total distance so far: 6844127.708496815\n",
      "Checked: the path goes through all cities\n",
      "Improvement: -1616.0436152257025\n",
      "Total Improvement: -3088.8480889145285\n",
      "\n",
      "Loop 30, Total distance so far: 6843488.9039969705\n",
      "Checked: the path goes through all cities\n",
      "Improvement: -638.8044998440892\n",
      "Total Improvement: -3727.6525887586176\n",
      "\n",
      "Loop 40, Total distance so far: 6842552.491430253\n",
      "Checked: the path goes through all cities\n",
      "Improvement: -936.4125667177141\n",
      "Total Improvement: -4664.065155476332\n",
      "\n",
      "Loop 50, Total distance so far: 6841350.400196226\n",
      "Checked: the path goes through all cities\n",
      "Improvement: -1202.0912340264767\n",
      "Total Improvement: -5866.156389502808\n",
      "\n",
      "Loop 60, Total distance so far: 6839666.9627020005\n",
      "Checked: the path goes through all cities\n",
      "Improvement: -1683.4374942258\n",
      "Total Improvement: -7549.5938837286085\n",
      "\n",
      "Loop 70, Total distance so far: 6838764.609700153\n",
      "Checked: the path goes through all cities\n",
      "Improvement: -902.3530018478632\n",
      "Total Improvement: -8451.946885576472\n",
      "\n",
      "Loop 80, Total distance so far: 6837771.82537191\n",
      "Checked: the path goes through all cities\n",
      "Improvement: -992.7843282427639\n",
      "Total Improvement: -9444.731213819236\n",
      "\n",
      "Loop 90, Total distance so far: 6836422.494636936\n",
      "Checked: the path goes through all cities\n",
      "Improvement: -1349.3307349737734\n",
      "Total Improvement: -10794.061948793009\n",
      "End loop 99 at 2019-07-04 13:58:02.851958: 207.881087 seconds\n",
      "\n",
      "Start Loop 100 at 2019-07-04 13:58:02.851958\n",
      "\n",
      "Loop 100, Total distance so far: 6835104.793576287\n",
      "Checked: the path goes through all cities\n",
      "Improvement: -1317.7010606490076\n",
      "Total Improvement: -12111.763009442016\n",
      "\n",
      "Loop 110, Total distance so far: 6833387.600870663\n",
      "Checked: the path goes through all cities\n",
      "Improvement: -1717.1927056238055\n",
      "Total Improvement: -13828.955715065822\n",
      "\n",
      "Loop 120, Total distance so far: 6832017.202610396\n",
      "Checked: the path goes through all cities\n",
      "Improvement: -1370.3982602674514\n",
      "Total Improvement: -15199.353975333273\n",
      "\n",
      "Loop 130, Total distance so far: 6831120.17514487\n",
      "Checked: the path goes through all cities\n",
      "Improvement: -897.0274655260146\n",
      "Total Improvement: -16096.381440859288\n",
      "\n",
      "Loop 140, Total distance so far: 6830042.233238904\n",
      "Checked: the path goes through all cities\n",
      "Improvement: -1077.9419059660286\n",
      "Total Improvement: -17174.323346825317\n",
      "\n",
      "Loop 150, Total distance so far: 6828909.930716135\n",
      "Checked: the path goes through all cities\n",
      "Improvement: -1132.3025227691978\n",
      "Total Improvement: -18306.625869594514\n",
      "\n",
      "Loop 160, Total distance so far: 6827634.0792963635\n",
      "Checked: the path goes through all cities\n",
      "Improvement: -1275.8514197710901\n",
      "Total Improvement: -19582.477289365605\n",
      "\n",
      "Loop 170, Total distance so far: 6826503.19108808\n",
      "Checked: the path goes through all cities\n",
      "Improvement: -1130.8882082831115\n",
      "Total Improvement: -20713.365497648716\n",
      "\n",
      "Loop 180, Total distance so far: 6825154.119029934\n",
      "Checked: the path goes through all cities\n",
      "Improvement: -1349.0720581468195\n",
      "Total Improvement: -22062.437555795535\n",
      "\n",
      "Loop 190, Total distance so far: 6824012.04742587\n",
      "Checked: the path goes through all cities\n",
      "Improvement: -1142.0716040637344\n",
      "Total Improvement: -23204.50915985927\n",
      "End loop 199 at 2019-07-04 14:01:30.173196: 207.321238 seconds\n",
      "\n",
      "Start Loop 200 at 2019-07-04 14:01:30.173196\n",
      "\n",
      "Loop 200, Total distance so far: 6822953.280277828\n",
      "Checked: the path goes through all cities\n",
      "Improvement: -1058.7671480420977\n",
      "Total Improvement: -24263.276307901368\n",
      "\n",
      "Loop 210, Total distance so far: 6822226.222644597\n",
      "Checked: the path goes through all cities\n",
      "Improvement: -727.0576332304627\n",
      "Total Improvement: -24990.33394113183\n",
      "\n",
      "Loop 220, Total distance so far: 6821228.655473221\n",
      "Checked: the path goes through all cities\n",
      "Improvement: -997.5671713761985\n",
      "Total Improvement: -25987.90111250803\n",
      "\n",
      "Loop 230, Total distance so far: 6819846.366122814\n",
      "Checked: the path goes through all cities\n",
      "Improvement: -1382.289350407198\n",
      "Total Improvement: -27370.190462915227\n",
      "\n",
      "Loop 240, Total distance so far: 6818177.988974448\n",
      "Checked: the path goes through all cities\n",
      "Improvement: -1668.377148365602\n",
      "Total Improvement: -29038.56761128083\n",
      "\n",
      "Loop 250, Total distance so far: 6817489.6605624985\n",
      "Checked: the path goes through all cities\n",
      "Improvement: -688.3284119497985\n",
      "Total Improvement: -29726.896023230627\n",
      "\n",
      "Loop 260, Total distance so far: 6815735.0981852785\n",
      "Checked: the path goes through all cities\n",
      "Improvement: -1754.5623772200197\n",
      "Total Improvement: -31481.458400450647\n",
      "\n",
      "Loop 270, Total distance so far: 6814888.796820816\n",
      "Checked: the path goes through all cities\n",
      "Improvement: -846.3013644628227\n",
      "Total Improvement: -32327.75976491347\n",
      "\n",
      "Loop 280, Total distance so far: 6813900.467010003\n",
      "Checked: the path goes through all cities\n",
      "Improvement: -988.3298108130693\n",
      "Total Improvement: -33316.08957572654\n",
      "\n",
      "Loop 290, Total distance so far: 6813041.251937697\n",
      "Checked: the path goes through all cities\n",
      "Improvement: -859.215072305873\n",
      "Total Improvement: -34175.30464803241\n",
      "End loop 299 at 2019-07-04 14:04:50.097602: 199.924406 seconds\n",
      "\n",
      "Start Loop 300 at 2019-07-04 14:04:50.097602\n",
      "\n",
      "Loop 300, Total distance so far: 6811997.000558788\n",
      "Checked: the path goes through all cities\n",
      "Improvement: -1044.2513789087534\n",
      "Total Improvement: -35219.556026941165\n",
      "\n",
      "Loop 310, Total distance so far: 6810855.17032727\n",
      "Checked: the path goes through all cities\n",
      "Improvement: -1141.8302315175533\n",
      "Total Improvement: -36361.38625845872\n",
      "\n",
      "Loop 320, Total distance so far: 6809807.169534884\n",
      "Checked: the path goes through all cities\n",
      "Improvement: -1048.0007923860103\n",
      "Total Improvement: -37409.38705084473\n",
      "\n",
      "Loop 330, Total distance so far: 6809290.817976607\n",
      "Checked: the path goes through all cities\n",
      "Improvement: -516.3515582773834\n",
      "Total Improvement: -37925.73860912211\n",
      "\n",
      "Loop 340, Total distance so far: 6808033.898053473\n",
      "Checked: the path goes through all cities\n",
      "Improvement: -1256.9199231341481\n",
      "Total Improvement: -39182.65853225626\n",
      "\n",
      "Loop 350, Total distance so far: 6806914.659876382\n",
      "Checked: the path goes through all cities\n",
      "Improvement: -1119.2381770908833\n",
      "Total Improvement: -40301.896709347144\n",
      "\n",
      "Loop 360, Total distance so far: 6806068.016730381\n",
      "Checked: the path goes through all cities\n",
      "Improvement: -846.6431460008025\n",
      "Total Improvement: -41148.539855347946\n",
      "\n",
      "Loop 370, Total distance so far: 6804900.283946557\n",
      "Checked: the path goes through all cities\n",
      "Improvement: -1167.7327838242054\n",
      "Total Improvement: -42316.27263917215\n",
      "\n",
      "Loop 380, Total distance so far: 6804110.17711987\n",
      "Checked: the path goes through all cities\n",
      "Improvement: -790.1068266872317\n",
      "Total Improvement: -43106.37946585938\n",
      "\n",
      "Loop 390, Total distance so far: 6803050.1264694985\n",
      "Checked: the path goes through all cities\n",
      "Improvement: -1060.0506503712386\n",
      "Total Improvement: -44166.43011623062\n",
      "End loop 399 at 2019-07-04 14:08:12.063073: 201.965471 seconds\n",
      "\n",
      "Start Loop 400 at 2019-07-04 14:08:12.063073\n",
      "\n",
      "Loop 400, Total distance so far: 6802361.177253531\n",
      "Checked: the path goes through all cities\n",
      "Improvement: -688.9492159672081\n",
      "Total Improvement: -44855.37933219783\n",
      "\n",
      "Loop 410, Total distance so far: 6801054.600886224\n",
      "Checked: the path goes through all cities\n",
      "Improvement: -1306.5763673074543\n",
      "Total Improvement: -46161.955699505284\n",
      "\n",
      "Loop 420, Total distance so far: 6799928.04140595\n",
      "Checked: the path goes through all cities\n",
      "Improvement: -1126.5594802740961\n",
      "Total Improvement: -47288.51517977938\n",
      "\n",
      "Loop 430, Total distance so far: 6798164.092502261\n",
      "Checked: the path goes through all cities\n",
      "Improvement: -1763.948903689161\n",
      "Total Improvement: -49052.46408346854\n",
      "\n",
      "Loop 440, Total distance so far: 6797522.183174439\n",
      "Checked: the path goes through all cities\n",
      "Improvement: -641.9093278218061\n",
      "Total Improvement: -49694.37341129035\n",
      "\n",
      "Loop 450, Total distance so far: 6796577.152983235\n",
      "Checked: the path goes through all cities\n",
      "Improvement: -945.0301912035793\n",
      "Total Improvement: -50639.40360249393\n",
      "\n",
      "Loop 460, Total distance so far: 6795773.279925404\n",
      "Checked: the path goes through all cities\n",
      "Improvement: -803.8730578310788\n",
      "Total Improvement: -51443.276660325006\n"
     ]
    },
    {
     "name": "stdout",
     "output_type": "stream",
     "text": [
      "\n",
      "Loop 470, Total distance so far: 6794029.960401839\n",
      "Checked: the path goes through all cities\n",
      "Improvement: -1743.3195235654712\n",
      "Total Improvement: -53186.59618389048\n",
      "\n",
      "Loop 480, Total distance so far: 6792715.163157975\n",
      "Checked: the path goes through all cities\n",
      "Improvement: -1314.7972438633442\n",
      "Total Improvement: -54501.39342775382\n",
      "\n",
      "Loop 490, Total distance so far: 6791144.660573529\n",
      "Checked: the path goes through all cities\n",
      "Improvement: -1570.5025844462216\n",
      "Total Improvement: -56071.89601220004\n",
      "End loop 499 at 2019-07-04 14:11:34.977244: 202.914171 seconds\n",
      "\n",
      "Start Loop 500 at 2019-07-04 14:11:34.977244\n",
      "\n",
      "Loop 500, Total distance so far: 6790311.3751229625\n",
      "Checked: the path goes through all cities\n",
      "Improvement: -833.28545056656\n",
      "Total Improvement: -56905.1814627666\n",
      "\n",
      "Loop 510, Total distance so far: 6789573.686492283\n",
      "Checked: the path goes through all cities\n",
      "Improvement: -737.6886306796223\n",
      "Total Improvement: -57642.870093446225\n",
      "\n",
      "Loop 520, Total distance so far: 6788802.836660793\n",
      "Checked: the path goes through all cities\n",
      "Improvement: -770.8498314898461\n",
      "Total Improvement: -58413.71992493607\n",
      "\n",
      "Loop 530, Total distance so far: 6787875.90031304\n",
      "Checked: the path goes through all cities\n",
      "Improvement: -926.9363477528095\n",
      "Total Improvement: -59340.65627268888\n",
      "\n",
      "Loop 540, Total distance so far: 6787109.460269317\n",
      "Checked: the path goes through all cities\n",
      "Improvement: -766.4400437232107\n",
      "Total Improvement: -60107.09631641209\n",
      "\n",
      "Loop 550, Total distance so far: 6786382.170016993\n",
      "Checked: the path goes through all cities\n",
      "Improvement: -727.2902523241937\n",
      "Total Improvement: -60834.386568736285\n",
      "\n",
      "Loop 560, Total distance so far: 6785588.977854522\n",
      "Checked: the path goes through all cities\n",
      "Improvement: -793.1921624708921\n",
      "Total Improvement: -61627.57873120718\n"
     ]
    },
    {
     "ename": "KeyboardInterrupt",
     "evalue": "",
     "output_type": "error",
     "traceback": [
      "\u001b[1;31m---------------------------------------------------------------------------\u001b[0m",
      "\u001b[1;31mKeyboardInterrupt\u001b[0m                         Traceback (most recent call last)",
      "\u001b[1;32m<ipython-input-78-000daf905492>\u001b[0m in \u001b[0;36m<module>\u001b[1;34m\u001b[0m\n\u001b[0;32m     13\u001b[0m     a[i], b[i], c[i] = SA(subs[i], edp_unordered_straight, reverse_primes_mutation,\n\u001b[0;32m     14\u001b[0m                           \u001b[0mblack_list\u001b[0m \u001b[1;33m=\u001b[0m \u001b[0mnot_primes_bool\u001b[0m\u001b[1;33m,\u001b[0m \u001b[0mscale\u001b[0m \u001b[1;33m=\u001b[0m \u001b[1;36m100000\u001b[0m\u001b[1;33m,\u001b[0m \u001b[0mn_to_mute\u001b[0m\u001b[1;33m=\u001b[0m \u001b[1;36m10\u001b[0m\u001b[1;33m,\u001b[0m\u001b[1;33m\u001b[0m\u001b[1;33m\u001b[0m\u001b[0m\n\u001b[1;32m---> 15\u001b[1;33m                           maxIter = np.inf,perm_init = perm_init, maxIterNoChange=1000)\n\u001b[0m\u001b[0;32m     16\u001b[0m     \u001b[1;32mif\u001b[0m \u001b[1;33m(\u001b[0m\u001b[1;33m(\u001b[0m\u001b[0mi\u001b[0m \u001b[1;33m%\u001b[0m \u001b[1;33m(\u001b[0m\u001b[1;36m99\u001b[0m \u001b[1;33m+\u001b[0m \u001b[0mp\u001b[0m\u001b[1;33m)\u001b[0m \u001b[1;33m==\u001b[0m \u001b[1;36m0\u001b[0m\u001b[1;33m)\u001b[0m \u001b[1;32mor\u001b[0m \u001b[1;33m(\u001b[0m\u001b[0mi\u001b[0m \u001b[1;33m==\u001b[0m \u001b[0mn\u001b[0m \u001b[1;33m-\u001b[0m \u001b[1;36m1\u001b[0m\u001b[1;33m)\u001b[0m\u001b[1;33m)\u001b[0m \u001b[1;32mand\u001b[0m \u001b[0mi\u001b[0m \u001b[1;33m>\u001b[0m \u001b[1;36m0\u001b[0m\u001b[1;33m:\u001b[0m\u001b[1;33m\u001b[0m\u001b[1;33m\u001b[0m\u001b[0m\n\u001b[0;32m     17\u001b[0m         \u001b[0mp\u001b[0m \u001b[1;33m+=\u001b[0m \u001b[1;36m100\u001b[0m\u001b[1;33m\u001b[0m\u001b[1;33m\u001b[0m\u001b[0m\n",
      "\u001b[1;32m~\\Google Drive\\DriveBicocca\\Bicocca DataScience\\Secondo semestre\\Decision Models\\DecModProject\\metaheuristics\\sa.py\u001b[0m in \u001b[0;36mSA\u001b[1;34m(array, fit_fun, mut_fun, black_list, scale, n_to_mute, maxIter, maxIterNoChange, tmin, alpha, perm_init, t_init, verbose)\u001b[0m\n\u001b[0;32m    160\u001b[0m         \u001b[1;31m# mutate\u001b[0m\u001b[1;33m\u001b[0m\u001b[1;33m\u001b[0m\u001b[1;33m\u001b[0m\u001b[0m\n\u001b[0;32m    161\u001b[0m         \u001b[0mnewperm\u001b[0m \u001b[1;33m=\u001b[0m \u001b[0mmut_fun\u001b[0m\u001b[1;33m(\u001b[0m\u001b[0marray\u001b[0m\u001b[1;33m,\u001b[0m \u001b[0mperm\u001b[0m\u001b[1;33m,\u001b[0m \u001b[0mblack_list\u001b[0m\u001b[1;33m,\u001b[0m \u001b[0mscale\u001b[0m\u001b[1;33m,\u001b[0m \u001b[0mn_to_mute\u001b[0m\u001b[1;33m)\u001b[0m\u001b[1;33m\u001b[0m\u001b[1;33m\u001b[0m\u001b[0m\n\u001b[1;32m--> 162\u001b[1;33m         \u001b[0mdist_new\u001b[0m \u001b[1;33m=\u001b[0m \u001b[0mfit_fun\u001b[0m\u001b[1;33m(\u001b[0m\u001b[0mnewperm\u001b[0m\u001b[1;33m,\u001b[0m \u001b[0marray\u001b[0m\u001b[1;33m,\u001b[0m \u001b[0mblack_list\u001b[0m\u001b[1;33m)\u001b[0m\u001b[1;33m\u001b[0m\u001b[1;33m\u001b[0m\u001b[0m\n\u001b[0m\u001b[0;32m    163\u001b[0m \u001b[1;33m\u001b[0m\u001b[0m\n\u001b[0;32m    164\u001b[0m         \u001b[1;32mif\u001b[0m \u001b[0mdist_new\u001b[0m \u001b[1;33m<=\u001b[0m \u001b[0mbest_dist\u001b[0m\u001b[1;33m:\u001b[0m\u001b[1;33m\u001b[0m\u001b[1;33m\u001b[0m\u001b[0m\n",
      "\u001b[1;32m~\\Google Drive\\DriveBicocca\\Bicocca DataScience\\Secondo semestre\\Decision Models\\DecModProject\\metaheuristics\\sa.py\u001b[0m in \u001b[0;36medp_unordered_straight\u001b[1;34m(r, c, black_list)\u001b[0m\n\u001b[0;32m     45\u001b[0m     \u001b[0mc\u001b[0m \u001b[1;33m=\u001b[0m \u001b[0mnp\u001b[0m\u001b[1;33m.\u001b[0m\u001b[0mconcatenate\u001b[0m\u001b[1;33m(\u001b[0m\u001b[1;33m(\u001b[0m\u001b[0mn_id\u001b[0m\u001b[1;33m,\u001b[0m \u001b[0mc\u001b[0m\u001b[1;33m)\u001b[0m\u001b[1;33m,\u001b[0m \u001b[1;36m1\u001b[0m\u001b[1;33m)\u001b[0m\u001b[1;33m\u001b[0m\u001b[1;33m\u001b[0m\u001b[0m\n\u001b[0;32m     46\u001b[0m     \u001b[0mc\u001b[0m \u001b[1;33m=\u001b[0m \u001b[0mc\u001b[0m\u001b[1;33m[\u001b[0m\u001b[0mr\u001b[0m\u001b[1;33m,\u001b[0m \u001b[1;33m:\u001b[0m\u001b[1;33m]\u001b[0m\u001b[1;33m\u001b[0m\u001b[1;33m\u001b[0m\u001b[0m\n\u001b[1;32m---> 47\u001b[1;33m     \u001b[0mcs\u001b[0m \u001b[1;33m=\u001b[0m \u001b[0mnp\u001b[0m\u001b[1;33m.\u001b[0m\u001b[0mroll\u001b[0m\u001b[1;33m(\u001b[0m\u001b[0mc\u001b[0m\u001b[1;33m,\u001b[0m \u001b[1;33m-\u001b[0m\u001b[1;36m1\u001b[0m\u001b[1;33m,\u001b[0m \u001b[0maxis\u001b[0m\u001b[1;33m=\u001b[0m\u001b[1;36m0\u001b[0m\u001b[1;33m)\u001b[0m\u001b[1;33m[\u001b[0m\u001b[1;33m:\u001b[0m\u001b[1;33m-\u001b[0m\u001b[1;36m1\u001b[0m\u001b[1;33m]\u001b[0m\u001b[1;33m\u001b[0m\u001b[1;33m\u001b[0m\u001b[0m\n\u001b[0m\u001b[0;32m     48\u001b[0m     \u001b[0mc\u001b[0m \u001b[1;33m=\u001b[0m \u001b[0mc\u001b[0m\u001b[1;33m[\u001b[0m\u001b[1;33m:\u001b[0m\u001b[1;33m-\u001b[0m\u001b[1;36m1\u001b[0m\u001b[1;33m]\u001b[0m\u001b[1;33m\u001b[0m\u001b[1;33m\u001b[0m\u001b[0m\n\u001b[0;32m     49\u001b[0m     \u001b[0mcid\u001b[0m \u001b[1;33m=\u001b[0m \u001b[0mc\u001b[0m\u001b[1;33m[\u001b[0m\u001b[1;33m:\u001b[0m\u001b[1;33m,\u001b[0m \u001b[1;36m1\u001b[0m\u001b[1;33m]\u001b[0m\u001b[1;33m.\u001b[0m\u001b[0mastype\u001b[0m\u001b[1;33m(\u001b[0m\u001b[0mint\u001b[0m\u001b[1;33m)\u001b[0m\u001b[1;33m\u001b[0m\u001b[1;33m\u001b[0m\u001b[0m\n",
      "\u001b[1;32m~\\Anaconda3\\lib\\site-packages\\numpy\\core\\numeric.py\u001b[0m in \u001b[0;36mroll\u001b[1;34m(a, shift, axis)\u001b[0m\n\u001b[0;32m   1484\u001b[0m         \u001b[1;32mfor\u001b[0m \u001b[0mindices\u001b[0m \u001b[1;32min\u001b[0m \u001b[0mitertools\u001b[0m\u001b[1;33m.\u001b[0m\u001b[0mproduct\u001b[0m\u001b[1;33m(\u001b[0m\u001b[1;33m*\u001b[0m\u001b[0mrolls\u001b[0m\u001b[1;33m)\u001b[0m\u001b[1;33m:\u001b[0m\u001b[1;33m\u001b[0m\u001b[1;33m\u001b[0m\u001b[0m\n\u001b[0;32m   1485\u001b[0m             \u001b[0marr_index\u001b[0m\u001b[1;33m,\u001b[0m \u001b[0mres_index\u001b[0m \u001b[1;33m=\u001b[0m \u001b[0mzip\u001b[0m\u001b[1;33m(\u001b[0m\u001b[1;33m*\u001b[0m\u001b[0mindices\u001b[0m\u001b[1;33m)\u001b[0m\u001b[1;33m\u001b[0m\u001b[1;33m\u001b[0m\u001b[0m\n\u001b[1;32m-> 1486\u001b[1;33m             \u001b[0mresult\u001b[0m\u001b[1;33m[\u001b[0m\u001b[0mres_index\u001b[0m\u001b[1;33m]\u001b[0m \u001b[1;33m=\u001b[0m \u001b[0ma\u001b[0m\u001b[1;33m[\u001b[0m\u001b[0marr_index\u001b[0m\u001b[1;33m]\u001b[0m\u001b[1;33m\u001b[0m\u001b[1;33m\u001b[0m\u001b[0m\n\u001b[0m\u001b[0;32m   1487\u001b[0m \u001b[1;33m\u001b[0m\u001b[0m\n\u001b[0;32m   1488\u001b[0m         \u001b[1;32mreturn\u001b[0m \u001b[0mresult\u001b[0m\u001b[1;33m\u001b[0m\u001b[1;33m\u001b[0m\u001b[0m\n",
      "\u001b[1;31mKeyboardInterrupt\u001b[0m: "
     ]
    }
   ],
   "source": [
    "np.random.seed(4)\n",
    "start = datetime.now()\n",
    "startl = datetime.now()\n",
    "p = 0\n",
    "last_dist = edp(start_route_w0, cities, not_primes_bool)\n",
    "initial_dist = last_dist\n",
    "print('Initial distance: {}'.format(last_dist))\n",
    "for i in range(n):\n",
    "    if (i % 100 == 0) and (i > 0):\n",
    "        print('\\nStart Loop {} at {}'.format(i, startl))\n",
    "    \n",
    "    perm_init = np.arange(len(subs[i]))\n",
    "    a[i], b[i], c[i] = SA(subs[i], edp_unordered_straight, reverse_primes_mutation,\n",
    "                          black_list = not_primes_bool, scale = 100000, n_to_mute= 10,\n",
    "                          maxIter = np.inf,perm_init = perm_init, maxIterNoChange=1000)\n",
    "    if ((i % (99 + p) == 0) or (i == n - 1)) and i > 0:\n",
    "        p += 100\n",
    "        endl = datetime.now()\n",
    "        print('End loop {} at {}: {} seconds'.format(i, endl, (endl-startl).total_seconds()))\n",
    "        startl = datetime.now()\n",
    "    if i % 10 == 0:\n",
    "        temp_routes = []\n",
    "        for j in range(n):\n",
    "            temp_routes.append(c_ids[j][a[j]])\n",
    "        temp_full_route = np.concatenate(temp_routes).astype(int)\n",
    "        temp_full_route = np.concatenate(([0], temp_full_route))\n",
    "        temp_tot = edp(temp_full_route[1:], cities, not_primes_bool)\n",
    "        print('\\nLoop {}, Total distance so far: {}'.format(i, temp_tot))   \n",
    "        if all(np.isin(temp_full_route, cities[:,0])) and all(np.isin(cities[:,0], temp_full_route)):\n",
    "            print(\"Checked: the path goes through all cities\")\n",
    "        print('Improvement: {}'.format(temp_tot - last_dist))\n",
    "        print('Total Improvement: {}'.format(temp_tot - initial_dist))\n",
    "        last_dist = temp_tot        \n",
    "end = datetime.now()\n",
    "print('\\nTotal time: {}'.format((end-start).total_seconds()))"
   ]
  },
  {
   "cell_type": "code",
   "execution_count": null,
   "metadata": {},
   "outputs": [],
   "source": [
    "c_ids = [el[:,0] for el in subs]\n",
    "routes = []\n",
    "for i in range(n):\n",
    "    routes.append(c_ids[i][a[i]])\n",
    "\n",
    "final_full_route = np.concatenate(routes).astype(int)\n",
    "final_full_route = np.concatenate(([0], final_full_route))"
   ]
  },
  {
   "cell_type": "code",
   "execution_count": null,
   "metadata": {},
   "outputs": [],
   "source": [
    "np.savetxt('files/final_after_sa.txt', final_full_route)"
   ]
  },
  {
   "cell_type": "markdown",
   "metadata": {},
   "source": [
    "We have obtained the following route:"
   ]
  },
  {
   "cell_type": "code",
   "execution_count": null,
   "metadata": {},
   "outputs": [],
   "source": [
    "final_full_route = np.genfromtxt('files/final_after_sa.txt').astype(int)"
   ]
  },
  {
   "cell_type": "code",
   "execution_count": null,
   "metadata": {},
   "outputs": [],
   "source": [
    "final_full_route"
   ]
  },
  {
   "cell_type": "code",
   "execution_count": null,
   "metadata": {
    "scrolled": true
   },
   "outputs": [],
   "source": [
    "edp(final_full_route, cities, not_primes_bool)"
   ]
  },
  {
   "cell_type": "markdown",
   "metadata": {},
   "source": [
    "The length of the final route is 6 794 694.175852176"
   ]
  }
 ],
 "metadata": {
  "kernelspec": {
   "display_name": "Python 3",
   "language": "python",
   "name": "python3"
  },
  "language_info": {
   "codemirror_mode": {
    "name": "ipython",
    "version": 3
   },
   "file_extension": ".py",
   "mimetype": "text/x-python",
   "name": "python",
   "nbconvert_exporter": "python",
   "pygments_lexer": "ipython3",
   "version": "3.6.8"
  }
 },
 "nbformat": 4,
 "nbformat_minor": 2
}
