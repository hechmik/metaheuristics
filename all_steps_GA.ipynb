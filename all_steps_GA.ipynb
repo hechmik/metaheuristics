{
 "cells": [
  {
   "cell_type": "markdown",
   "metadata": {},
   "source": [
    "In this notebook all the steps described in the report are run with the Genetic Algorithm. Execution of the full notebook can take a few hours, so that we have saved the outputs of the algorithms as text files that can be loaded instead of running the algorithms again."
   ]
  },
  {
   "cell_type": "markdown",
   "metadata": {},
   "source": [
    "The lines of code used to run the algorithms and saving their outputs are commented out."
   ]
  },
  {
   "cell_type": "markdown",
   "metadata": {},
   "source": [
    "Note: throughout the notebook, the functions used to compute the distance of a route will take care of adding 0 at the start or at the and of the route during computation. For this reason, some \"full\" routes in this notebook might not start with 0, or not end with 0, but it will not make a difference. The function for computing the total distance counting penalities for 10th non-prime cities was tested on routes from the Kaggle challenge leaderboard in order to make sure of its correctness."
   ]
  },
  {
   "cell_type": "markdown",
   "metadata": {},
   "source": [
    "# Imports"
   ]
  },
  {
   "cell_type": "code",
   "execution_count": 1,
   "metadata": {},
   "outputs": [],
   "source": [
    "from datetime import datetime\n",
    "import json\n",
    "import numpy as np"
   ]
  },
  {
   "cell_type": "code",
   "execution_count": 2,
   "metadata": {},
   "outputs": [],
   "source": [
    "cities = np.genfromtxt('cities.csv', delimiter=',', skip_header = 1)"
   ]
  },
  {
   "cell_type": "markdown",
   "metadata": {},
   "source": [
    "# Clustering"
   ]
  },
  {
   "cell_type": "code",
   "execution_count": 3,
   "metadata": {},
   "outputs": [],
   "source": [
    "from sklearn.cluster import KMeans"
   ]
  },
  {
   "cell_type": "markdown",
   "metadata": {},
   "source": [
    "We partition the cities in 1000 clusters using k-means."
   ]
  },
  {
   "cell_type": "code",
   "execution_count": 4,
   "metadata": {},
   "outputs": [],
   "source": [
    "n = 1000"
   ]
  },
  {
   "cell_type": "markdown",
   "metadata": {},
   "source": [
    "We have run the following code and saved the clusters as a txt file, so we can just import it now"
   ]
  },
  {
   "cell_type": "code",
   "execution_count": 5,
   "metadata": {},
   "outputs": [],
   "source": [
    "# kmeans = KMeans(n_clusters=n, random_state=0)\n",
    "# kmeans.fit(cities[:, 1:3])\n",
    "# np.savetxt('files/1000subsets.txt', kmeans.labels_) "
   ]
  },
  {
   "cell_type": "code",
   "execution_count": 6,
   "metadata": {},
   "outputs": [],
   "source": [
    "clusters = np.genfromtxt('files/1000subsets.txt', skip_header = 0).astype(int)"
   ]
  },
  {
   "cell_type": "code",
   "execution_count": 7,
   "metadata": {},
   "outputs": [
    {
     "data": {
      "text/plain": [
       "array([894, 654, 614, ..., 263, 305,  80])"
      ]
     },
     "execution_count": 7,
     "metadata": {},
     "output_type": "execute_result"
    }
   ],
   "source": [
    "clusters"
   ]
  },
  {
   "cell_type": "markdown",
   "metadata": {},
   "source": [
    "We add the information regarding the cluster to the cities array."
   ]
  },
  {
   "cell_type": "code",
   "execution_count": 8,
   "metadata": {},
   "outputs": [],
   "source": [
    "kcities = np.concatenate((cities, clusters[:, np.newaxis]), 1)"
   ]
  },
  {
   "cell_type": "markdown",
   "metadata": {},
   "source": [
    "We create a list of clusters (\"subsets\")"
   ]
  },
  {
   "cell_type": "code",
   "execution_count": 9,
   "metadata": {},
   "outputs": [],
   "source": [
    "subs = [0]*n\n",
    "for i in range(n):\n",
    "    subs[i] = kcities[kcities[:, 3] == i][:, :3]"
   ]
  },
  {
   "cell_type": "code",
   "execution_count": 10,
   "metadata": {},
   "outputs": [],
   "source": [
    "subs = np.array(subs)"
   ]
  },
  {
   "cell_type": "markdown",
   "metadata": {},
   "source": [
    "The following are the sizes of some of the clusters:"
   ]
  },
  {
   "cell_type": "code",
   "execution_count": 11,
   "metadata": {
    "scrolled": true
   },
   "outputs": [
    {
     "data": {
      "text/plain": [
       "array([230, 118, 121, 168,  89, 163, 310, 288, 277, 156, 289, 228, 172,\n",
       "       273, 151, 156, 261, 236, 190, 234, 183,  73, 242, 222, 228, 161,\n",
       "       244, 282, 265, 198, 138, 288, 268, 181, 274, 158, 160, 203, 127,\n",
       "       152, 216, 313, 222, 192, 218, 145, 241, 296, 151, 137])"
      ]
     },
     "execution_count": 11,
     "metadata": {},
     "output_type": "execute_result"
    }
   ],
   "source": [
    "lens = np.array([len(subs[i]) for i in range(n)])\n",
    "lens[:50]"
   ]
  },
  {
   "cell_type": "markdown",
   "metadata": {},
   "source": [
    "The smallest cluster has only 12 cities:"
   ]
  },
  {
   "cell_type": "code",
   "execution_count": 12,
   "metadata": {},
   "outputs": [
    {
     "data": {
      "text/plain": [
       "12"
      ]
     },
     "execution_count": 12,
     "metadata": {},
     "output_type": "execute_result"
    }
   ],
   "source": [
    "np.min(lens)"
   ]
  },
  {
   "cell_type": "markdown",
   "metadata": {},
   "source": [
    "The largest cluster consists of 407 cities:"
   ]
  },
  {
   "cell_type": "code",
   "execution_count": 13,
   "metadata": {},
   "outputs": [
    {
     "data": {
      "text/plain": [
       "407"
      ]
     },
     "execution_count": 13,
     "metadata": {},
     "output_type": "execute_result"
    }
   ],
   "source": [
    "np.max(lens)"
   ]
  },
  {
   "cell_type": "code",
   "execution_count": null,
   "metadata": {},
   "outputs": [],
   "source": [
    "np.median(lens)"
   ]
  },
  {
   "cell_type": "markdown",
   "metadata": {},
   "source": [
    "The size of the union of the clusters is 197769, as expected."
   ]
  },
  {
   "cell_type": "code",
   "execution_count": 14,
   "metadata": {},
   "outputs": [
    {
     "data": {
      "text/plain": [
       "197769"
      ]
     },
     "execution_count": 14,
     "metadata": {},
     "output_type": "execute_result"
    }
   ],
   "source": [
    "sum(lens)"
   ]
  },
  {
   "cell_type": "markdown",
   "metadata": {},
   "source": [
    "# Running GA in each cluster"
   ]
  },
  {
   "cell_type": "code",
   "execution_count": 15,
   "metadata": {},
   "outputs": [],
   "source": [
    "from ga import GA, route_fitness, shift_mutation, roulette_selection, two_point_crossover\n",
    "from santas_path import total_length_straight, total_length_loop, edp, not_prime"
   ]
  },
  {
   "cell_type": "markdown",
   "metadata": {},
   "source": [
    "For later comparison, the following is the total length of a random route through all the cities:"
   ]
  },
  {
   "cell_type": "code",
   "execution_count": 16,
   "metadata": {},
   "outputs": [
    {
     "data": {
      "text/plain": [
       "442479971.65202415"
      ]
     },
     "execution_count": 16,
     "metadata": {},
     "output_type": "execute_result"
    }
   ],
   "source": [
    "np.random.seed(4)\n",
    "random_perm = np.random.permutation(len(cities))\n",
    "total_length_loop(random_perm, cities)"
   ]
  },
  {
   "cell_type": "markdown",
   "metadata": {},
   "source": [
    "We initialize the permutations in each cluster. We want to find the best permutation of cities inside each cluster, where a permutation inside a cluster is a permutation of the range of the size of the cluster, i.e., it is an ordering of cities."
   ]
  },
  {
   "cell_type": "code",
   "execution_count": 17,
   "metadata": {},
   "outputs": [],
   "source": [
    "subs_perms = [0]*n\n",
    "for i in range(n):\n",
    "    subs_perms[i] = np.arange(len(subs[i]))"
   ]
  },
  {
   "cell_type": "markdown",
   "metadata": {},
   "source": [
    "We create a list of lists, each consisting of the city ids in each cluster:"
   ]
  },
  {
   "cell_type": "code",
   "execution_count": 18,
   "metadata": {},
   "outputs": [],
   "source": [
    "c_ids = [el[:,0] for el in subs]"
   ]
  },
  {
   "cell_type": "markdown",
   "metadata": {},
   "source": [
    "We can find the route inside each cluster (as a sequence of city ids) as follows:"
   ]
  },
  {
   "cell_type": "code",
   "execution_count": 19,
   "metadata": {},
   "outputs": [],
   "source": [
    "start_routes = []\n",
    "for i in range(n):\n",
    "    start_routes.append(c_ids[i][subs_perms[i]])"
   ]
  },
  {
   "cell_type": "markdown",
   "metadata": {},
   "source": [
    "In order to make a comparison with the total distance of the route that we will soon find by using GA to find an optimal permutation inside each cluster, we concatenate all the routes inside each cluster as they are at the moment, that is, just ordered by their city id."
   ]
  },
  {
   "cell_type": "code",
   "execution_count": 20,
   "metadata": {},
   "outputs": [],
   "source": [
    "start_route = np.concatenate(start_routes).astype(int)"
   ]
  },
  {
   "cell_type": "markdown",
   "metadata": {},
   "source": [
    "The total length of the route obtained by clustering the cities, but without ordering the cities within each cluster, or without ordering the clusters, is the following, which is already a significant improvement over a random path."
   ]
  },
  {
   "cell_type": "code",
   "execution_count": 21,
   "metadata": {},
   "outputs": [
    {
     "data": {
      "text/plain": [
       "13139371.401815962"
      ]
     },
     "execution_count": 21,
     "metadata": {},
     "output_type": "execute_result"
    }
   ],
   "source": [
    "total_length_loop(start_route, cities)"
   ]
  },
  {
   "cell_type": "markdown",
   "metadata": {},
   "source": [
    "We now run GA inside each cluster in order to find the best permutation of cities in each \"province\". As described in the report, at this stage we treat this problem as a standard TSP problem."
   ]
  },
  {
   "cell_type": "code",
   "execution_count": 23,
   "metadata": {
    "scrolled": true
   },
   "outputs": [
    {
     "name": "stdout",
     "output_type": "stream",
     "text": [
      "Initial distance: 13139371.401815962\n",
      "\n",
      "Start Loop 0 at 2019-07-06 21:25:04.088554\n",
      "End loop 99 at 2019-07-06 21:36:13.870470: 669.781916 seconds\n",
      "Total distance so far: 12592426.630352162\n",
      "Checked: the path goes through all cities\n",
      "Improvement: -546944.7714638002\n",
      "Total Improvement: -546944.7714638002\n",
      "\n",
      "Start Loop 100 at 2019-07-06 21:36:13.870470\n",
      "End loop 199 at 2019-07-06 21:46:43.478171: 629.607701 seconds\n",
      "Total distance so far: 12049227.581763212\n",
      "Checked: the path goes through all cities\n",
      "Improvement: -543199.0485889502\n",
      "Total Improvement: -1090143.8200527504\n",
      "\n",
      "Start Loop 200 at 2019-07-06 21:46:43.478171\n",
      "End loop 299 at 2019-07-06 21:57:30.111704: 646.633533 seconds\n",
      "Total distance so far: 11510104.362655126\n",
      "Checked: the path goes through all cities\n",
      "Improvement: -539123.2191080861\n",
      "Total Improvement: -1629267.0391608365\n",
      "\n",
      "Start Loop 300 at 2019-07-06 21:57:30.111704\n",
      "End loop 399 at 2019-07-06 22:08:13.824186: 643.712482 seconds\n",
      "Total distance so far: 10955587.12708347\n",
      "Checked: the path goes through all cities\n",
      "Improvement: -554517.2355716564\n",
      "Total Improvement: -2183784.274732493\n",
      "\n",
      "Start Loop 400 at 2019-07-06 22:08:13.824186\n",
      "End loop 499 at 2019-07-06 22:19:47.026569: 693.202383 seconds\n",
      "Total distance so far: 10396579.209747113\n",
      "Checked: the path goes through all cities\n",
      "Improvement: -559007.9173363559\n",
      "Total Improvement: -2742792.1920688488\n",
      "\n",
      "Start Loop 500 at 2019-07-06 22:19:47.026569\n",
      "End loop 599 at 2019-07-06 22:30:55.650778: 668.624209 seconds\n",
      "Total distance so far: 9849031.032231934\n",
      "Checked: the path goes through all cities\n",
      "Improvement: -547548.1775151789\n",
      "Total Improvement: -3290340.3695840277\n",
      "\n",
      "Start Loop 600 at 2019-07-06 22:30:55.650778\n",
      "End loop 699 at 2019-07-06 22:41:53.918321: 658.267543 seconds\n",
      "Total distance so far: 9317252.62043586\n",
      "Checked: the path goes through all cities\n",
      "Improvement: -531778.4117960744\n",
      "Total Improvement: -3822118.781380102\n",
      "\n",
      "Start Loop 700 at 2019-07-06 22:41:53.918321\n",
      "End loop 799 at 2019-07-06 22:52:25.838778: 631.920457 seconds\n",
      "Total distance so far: 8804558.691361476\n",
      "Checked: the path goes through all cities\n",
      "Improvement: -512693.9290743843\n",
      "Total Improvement: -4334812.710454486\n",
      "\n",
      "Start Loop 800 at 2019-07-06 22:52:25.838778\n",
      "End loop 899 at 2019-07-06 23:03:01.716622: 635.877844 seconds\n",
      "Total distance so far: 8269848.429324905\n",
      "Checked: the path goes through all cities\n",
      "Improvement: -534710.2620365703\n",
      "Total Improvement: -4869522.972491057\n",
      "\n",
      "Start Loop 900 at 2019-07-06 23:03:01.716622\n",
      "End loop 999 at 2019-07-06 23:14:25.727283: 684.010661 seconds\n",
      "Total distance so far: 7805290.363298488\n",
      "Checked: the path goes through all cities\n",
      "Improvement: -464558.06602641754\n",
      "Total Improvement: -5334081.038517474\n",
      "\n",
      "Total time: 6561.746419\n"
     ]
    }
   ],
   "source": [
    "# np.random.seed(4)\n",
    "# start = datetime.now()\n",
    "# startl = datetime.now()\n",
    "# p = 0 \n",
    "# initial_dist = total_length_loop(start_route, cities)\n",
    "# last_dist = initial_dist\n",
    "# print('Initial distance: {}'.format(last_dist))\n",
    "# for i in range(n):\n",
    "#     if i % 100 == 0:\n",
    "#         print('\\nStart Loop {} at {}'.format(i, startl))\n",
    "#     subs_perms[i] = GA(subs[i], np.inf, 30, 10, route_fitness, [shift_mutation], 0.1,\n",
    "#                                       sel_fun=roulette_selection, cross_fun=two_point_crossover,\n",
    "#                                       max_no_change = 500, length_fun = total_length_straight)\n",
    "#     if (i % (99 + p) == 0) and i > 0:\n",
    "#         p += 100\n",
    "#         endl = datetime.now()\n",
    "#         print('End loop {} at {}: {} seconds'.format(i, endl, (endl-startl).total_seconds()))\n",
    "#         startl = datetime.now()\n",
    "#         temp_routes = []\n",
    "#         for j in range(n):\n",
    "#             temp_routes.append(c_ids[j][subs_perms[j]])\n",
    "#         temp_full_route = np.concatenate(temp_routes).astype(int)\n",
    "#         temp_tot = total_length_loop(temp_full_route, cities)\n",
    "#         print('Total distance so far: {}'.format(temp_tot))\n",
    "#         if all(np.isin(temp_full_route, cities[:,0])) and all(np.isin(cities[:,0], temp_full_route)):\n",
    "#             print(\"Checked: the path goes through all cities\")\n",
    "#         print('Improvement: {}'.format(temp_tot - last_dist))\n",
    "#         print('Total Improvement: {}'.format(temp_tot - initial_dist))\n",
    "#         last_dist = temp_tot    \n",
    "#         \n",
    "# end = datetime.now()\n",
    "# print('\\nTotal time: {}'.format((end-start).total_seconds()))"
   ]
  },
  {
   "cell_type": "markdown",
   "metadata": {},
   "source": [
    "Running the algorithm we have updated the list 'subs_perms' of permutations inside each cluster. Each element subs_perms[i] in this list is the best permutation found by running GA on subs[i]. We now order each list c_ids[i] by subs_perms[i] in order to obtain the routes as specified by the city ids."
   ]
  },
  {
   "cell_type": "code",
   "execution_count": 24,
   "metadata": {},
   "outputs": [],
   "source": [
    "# routes = []\n",
    "# for i in range(n):\n",
    "#     routes.append(c_ids[i][subs_perms[i]])"
   ]
  },
  {
   "cell_type": "markdown",
   "metadata": {},
   "source": [
    "We can now concatenate these routes in order to find a route on the full set of cities."
   ]
  },
  {
   "cell_type": "code",
   "execution_count": 25,
   "metadata": {},
   "outputs": [],
   "source": [
    "# full_route = np.concatenate(routes)"
   ]
  },
  {
   "cell_type": "markdown",
   "metadata": {},
   "source": [
    "We order the route so that it starts and ends at 0."
   ]
  },
  {
   "cell_type": "code",
   "execution_count": 26,
   "metadata": {},
   "outputs": [],
   "source": [
    "# zi = np.where(full_route == 0)[0][0]"
   ]
  },
  {
   "cell_type": "code",
   "execution_count": 27,
   "metadata": {},
   "outputs": [],
   "source": [
    "# full_route = np.concatenate((full_route[zi:], full_route[:zi]))"
   ]
  },
  {
   "cell_type": "code",
   "execution_count": 28,
   "metadata": {},
   "outputs": [],
   "source": [
    "# full_route = full_route.astype(int)"
   ]
  },
  {
   "cell_type": "markdown",
   "metadata": {},
   "source": [
    "We save this route so that we do not have to run the algorithm again:"
   ]
  },
  {
   "cell_type": "code",
   "execution_count": 29,
   "metadata": {},
   "outputs": [],
   "source": [
    "# np.savetxt('files/full_route_GA_in_clusts.txt', full_route)"
   ]
  },
  {
   "cell_type": "markdown",
   "metadata": {},
   "source": [
    "We load the saved file containing this route:"
   ]
  },
  {
   "cell_type": "code",
   "execution_count": 30,
   "metadata": {},
   "outputs": [],
   "source": [
    "full_route = np.genfromtxt('files/full_route_GA_in_clusts.txt').astype(int)"
   ]
  },
  {
   "cell_type": "markdown",
   "metadata": {},
   "source": [
    "As a check, we can see that the length of the full route is correct."
   ]
  },
  {
   "cell_type": "code",
   "execution_count": 31,
   "metadata": {},
   "outputs": [
    {
     "data": {
      "text/plain": [
       "197769"
      ]
     },
     "execution_count": 31,
     "metadata": {},
     "output_type": "execute_result"
    }
   ],
   "source": [
    "len(full_route)"
   ]
  },
  {
   "cell_type": "markdown",
   "metadata": {},
   "source": [
    "Also, every city in the path is the id of a city:"
   ]
  },
  {
   "cell_type": "code",
   "execution_count": 32,
   "metadata": {},
   "outputs": [
    {
     "data": {
      "text/plain": [
       "True"
      ]
     },
     "execution_count": 32,
     "metadata": {},
     "output_type": "execute_result"
    }
   ],
   "source": [
    "all(np.isin(full_route, cities[:,0])) "
   ]
  },
  {
   "cell_type": "markdown",
   "metadata": {},
   "source": [
    "... and every city id is in the path:"
   ]
  },
  {
   "cell_type": "code",
   "execution_count": 33,
   "metadata": {},
   "outputs": [
    {
     "data": {
      "text/plain": [
       "True"
      ]
     },
     "execution_count": 33,
     "metadata": {},
     "output_type": "execute_result"
    }
   ],
   "source": [
    "all(np.isin(cities[:,0], full_route)) "
   ]
  },
  {
   "cell_type": "markdown",
   "metadata": {},
   "source": [
    "The total length through this route:"
   ]
  },
  {
   "cell_type": "code",
   "execution_count": 34,
   "metadata": {},
   "outputs": [
    {
     "data": {
      "text/plain": [
       "7805290.363298486"
      ]
     },
     "execution_count": 34,
     "metadata": {},
     "output_type": "execute_result"
    }
   ],
   "source": [
    "total_length_loop(full_route, cities)"
   ]
  },
  {
   "cell_type": "markdown",
   "metadata": {},
   "source": [
    "Finding the best permutation of cities inside each cluster has improved the total length of the route from ~13 139 371 to ~7 805 290"
   ]
  },
  {
   "cell_type": "markdown",
   "metadata": {},
   "source": [
    "Let us now see what would be the length of this route if we penalized every 10th step not starting from a prime city."
   ]
  },
  {
   "cell_type": "markdown",
   "metadata": {},
   "source": [
    "We create a boolean mask  for non-prime number: every city_id such that \"not_primes_bool[city_id] = True\" will be penalized."
   ]
  },
  {
   "cell_type": "code",
   "execution_count": 35,
   "metadata": {},
   "outputs": [],
   "source": [
    "np_not_prime = np.vectorize(not_prime)\n",
    "nums = np.arange(0, len(cities))\n",
    "not_primes_bool = np_not_prime(nums)"
   ]
  },
  {
   "cell_type": "markdown",
   "metadata": {},
   "source": [
    "We now use the mask to find the total length of the route, where we penalize each 10th step originating from a city that is not prime."
   ]
  },
  {
   "cell_type": "code",
   "execution_count": 36,
   "metadata": {},
   "outputs": [
    {
     "data": {
      "text/plain": [
       "7878150.9519051965"
      ]
     },
     "execution_count": 36,
     "metadata": {},
     "output_type": "execute_result"
    }
   ],
   "source": [
    "edp(full_route, cities, not_primes_bool)"
   ]
  },
  {
   "cell_type": "markdown",
   "metadata": {},
   "source": [
    "EDP stands for \"Euclidean Distance with Penalties\", and it is just the total length of the route through the cities, where each step is computed as the Euclidean Distance between two cities coordinates, but every 10th step not originating from a prime cities is penalized by 10%."
   ]
  },
  {
   "cell_type": "markdown",
   "metadata": {},
   "source": [
    "#### Save subroutes as json"
   ]
  },
  {
   "cell_type": "markdown",
   "metadata": {},
   "source": [
    "We also save the subroutes as a json file:"
   ]
  },
  {
   "cell_type": "code",
   "execution_count": 37,
   "metadata": {},
   "outputs": [],
   "source": [
    "# routes_dict = dict()\n",
    "# for i in range(len(routes)):\n",
    "#     routes_dict[i] = list(routes[i])"
   ]
  },
  {
   "cell_type": "code",
   "execution_count": 38,
   "metadata": {},
   "outputs": [],
   "source": [
    "# with open('files/subroutes_GA_in_clusts.json', 'w') as fp:\n",
    "#     json.dump(routes_dict, fp)"
   ]
  },
  {
   "cell_type": "markdown",
   "metadata": {},
   "source": [
    "# Running GA to find order of subroutes"
   ]
  },
  {
   "cell_type": "markdown",
   "metadata": {},
   "source": [
    "We now have 1000 clusters and an optimal route inside each cluster. Now we want to apply GA to find the best way to order these 1000 clusters."
   ]
  },
  {
   "cell_type": "markdown",
   "metadata": {},
   "source": [
    "We reload the routes saved in the previous step:"
   ]
  },
  {
   "cell_type": "code",
   "execution_count": 39,
   "metadata": {},
   "outputs": [],
   "source": [
    "with open('files/subroutes_GA_in_clusts.json', 'r') as fp:\n",
    "    loaded_json = json.load(fp)"
   ]
  },
  {
   "cell_type": "code",
   "execution_count": 40,
   "metadata": {},
   "outputs": [],
   "source": [
    "routes = [loaded_json[str(i)] for i in range(1000)]"
   ]
  },
  {
   "cell_type": "code",
   "execution_count": 41,
   "metadata": {},
   "outputs": [],
   "source": [
    "for i in range(len(routes)):\n",
    "    routes[i] = np.array(routes[i]).astype(int)"
   ]
  },
  {
   "cell_type": "code",
   "execution_count": 42,
   "metadata": {},
   "outputs": [],
   "source": [
    "routes = np.array(routes)"
   ]
  },
  {
   "cell_type": "markdown",
   "metadata": {},
   "source": [
    "We now apply GA for ordering the clusters."
   ]
  },
  {
   "cell_type": "code",
   "execution_count": 43,
   "metadata": {},
   "outputs": [],
   "source": [
    "from ga import subset_fitness"
   ]
  },
  {
   "cell_type": "code",
   "execution_count": 44,
   "metadata": {
    "scrolled": true
   },
   "outputs": [
    {
     "name": "stdout",
     "output_type": "stream",
     "text": [
      "Iter 0, ItNoChange 0, Best 7740827.460129939\n",
      "Iter 1000, ItNoChange 15, Best 7165490.384662437\n",
      "Iter 2000, ItNoChange 2, Best 6996542.826207113\n",
      "Iter 3000, ItNoChange 4, Best 6883480.473114648\n",
      "Iter 4000, ItNoChange 3, Best 6838172.580928457\n",
      "Iter 5000, ItNoChange 29, Best 6795781.080666533\n",
      "Iter 6000, ItNoChange 155, Best 6762940.747430191\n",
      "Iter 7000, ItNoChange 195, Best 6752850.351150167\n",
      "Iter 8000, ItNoChange 136, Best 6734042.59375663\n"
     ]
    }
   ],
   "source": [
    "# np.random.seed(4)\n",
    "# clusts_perm = GA(cities, np.inf, 30, 10, subset_fitness, [shift_mutation], 0.1,\n",
    "#                         roulette_selection, cross_fun=two_point_crossover, max_no_change = 500,\n",
    "#                         length_fun = total_length_loop, on_subsets= True, subs = routes, verbose = True)"
   ]
  },
  {
   "cell_type": "markdown",
   "metadata": {},
   "source": [
    "We have obtained clusts_perm, which is the order of clusters"
   ]
  },
  {
   "cell_type": "code",
   "execution_count": 45,
   "metadata": {},
   "outputs": [],
   "source": [
    "# new_full_route = np.concatenate(routes[clusts_perm])"
   ]
  },
  {
   "cell_type": "markdown",
   "metadata": {},
   "source": [
    "We order it so that it starts and ends at 0:"
   ]
  },
  {
   "cell_type": "code",
   "execution_count": 46,
   "metadata": {},
   "outputs": [],
   "source": [
    "# zin = np.where(new_full_route == 0)[0][0]\n",
    "# new_full_route = np.concatenate((new_full_route[zin:], new_full_route[:zin]))"
   ]
  },
  {
   "cell_type": "markdown",
   "metadata": {},
   "source": [
    "We save the route so we do not need to run the algorithm again:"
   ]
  },
  {
   "cell_type": "code",
   "execution_count": 47,
   "metadata": {},
   "outputs": [],
   "source": [
    "# np.savetxt('files/route_after_clust_ordering.txt', new_full_route)"
   ]
  },
  {
   "cell_type": "markdown",
   "metadata": {},
   "source": [
    "We load the route:"
   ]
  },
  {
   "cell_type": "code",
   "execution_count": 48,
   "metadata": {},
   "outputs": [],
   "source": [
    "new_full_route = np.genfromtxt('files/route_after_clust_ordering.txt').astype(int)"
   ]
  },
  {
   "cell_type": "code",
   "execution_count": 49,
   "metadata": {},
   "outputs": [
    {
     "data": {
      "text/plain": [
       "array([     0, 161041,  97580, ...,  25100, 195889,  69414])"
      ]
     },
     "execution_count": 49,
     "metadata": {},
     "output_type": "execute_result"
    }
   ],
   "source": [
    "new_full_route"
   ]
  },
  {
   "cell_type": "markdown",
   "metadata": {},
   "source": [
    "The total length through this route, starting and ending at 0, is the following:"
   ]
  },
  {
   "cell_type": "code",
   "execution_count": 50,
   "metadata": {},
   "outputs": [
    {
     "data": {
      "text/plain": [
       "6726045.709191153"
      ]
     },
     "execution_count": 50,
     "metadata": {},
     "output_type": "execute_result"
    }
   ],
   "source": [
    "total_length_loop(new_full_route, cities)"
   ]
  },
  {
   "cell_type": "markdown",
   "metadata": {},
   "source": [
    "We permform the usual checks.\n",
    "Every city in the path is the id of a city..."
   ]
  },
  {
   "cell_type": "code",
   "execution_count": 51,
   "metadata": {},
   "outputs": [
    {
     "data": {
      "text/plain": [
       "True"
      ]
     },
     "execution_count": 51,
     "metadata": {},
     "output_type": "execute_result"
    }
   ],
   "source": [
    "all(np.isin(new_full_route, cities[:,0]))"
   ]
  },
  {
   "cell_type": "markdown",
   "metadata": {},
   "source": [
    "... and every city is in the path"
   ]
  },
  {
   "cell_type": "code",
   "execution_count": 52,
   "metadata": {},
   "outputs": [
    {
     "data": {
      "text/plain": [
       "True"
      ]
     },
     "execution_count": 52,
     "metadata": {},
     "output_type": "execute_result"
    }
   ],
   "source": [
    "all(np.isin(cities[:,0], new_full_route))"
   ]
  },
  {
   "cell_type": "markdown",
   "metadata": {},
   "source": [
    "The total distance considering penalties is not very different:"
   ]
  },
  {
   "cell_type": "code",
   "execution_count": 54,
   "metadata": {
    "scrolled": true
   },
   "outputs": [
    {
     "data": {
      "text/plain": [
       "6788202.383675191"
      ]
     },
     "execution_count": 54,
     "metadata": {},
     "output_type": "execute_result"
    }
   ],
   "source": [
    "edp(new_full_route[1:], cities, not_primes_bool)"
   ]
  },
  {
   "cell_type": "markdown",
   "metadata": {},
   "source": [
    "# Improving the route by moving prime cities"
   ]
  },
  {
   "cell_type": "markdown",
   "metadata": {},
   "source": [
    "We start from the route found in the previous step with length 6 788 202.383675191"
   ]
  },
  {
   "cell_type": "markdown",
   "metadata": {},
   "source": [
    "Reload route:"
   ]
  },
  {
   "cell_type": "code",
   "execution_count": 55,
   "metadata": {},
   "outputs": [],
   "source": [
    "start_route = np.genfromtxt('files/route_after_clust_ordering.txt').astype(int)"
   ]
  },
  {
   "cell_type": "code",
   "execution_count": 56,
   "metadata": {},
   "outputs": [
    {
     "data": {
      "text/plain": [
       "6788202.383675191"
      ]
     },
     "execution_count": 56,
     "metadata": {},
     "output_type": "execute_result"
    }
   ],
   "source": [
    "edp(start_route, cities, not_primes_bool)"
   ]
  },
  {
   "cell_type": "markdown",
   "metadata": {},
   "source": [
    "We sort the cities dataset by the route found in the previous step. "
   ]
  },
  {
   "cell_type": "code",
   "execution_count": 57,
   "metadata": {},
   "outputs": [],
   "source": [
    "sorted_cities = cities[start_route[1:]]"
   ]
  },
  {
   "cell_type": "markdown",
   "metadata": {},
   "source": [
    "We have excluded the first city in the route (i.e., the city with ID 0), as we want the SA to only work on inner segments of the full route."
   ]
  },
  {
   "cell_type": "markdown",
   "metadata": {},
   "source": [
    "We now want to run Simulated Annealing, starting from this route, with a special mutation function that reverses the order of two consecutive cities $c_1$ and $c_2$ with very high probability if $c_1$ is not prime and found at a tenth step, and $c_2$ is prime. We divide the route and the cities dataset in 1000 subsets so that SA can focus on a segment of the route at a time."
   ]
  },
  {
   "cell_type": "markdown",
   "metadata": {},
   "source": [
    "We create 1000 new subsets, each of size 200 (except from the last). "
   ]
  },
  {
   "cell_type": "code",
   "execution_count": 58,
   "metadata": {},
   "outputs": [
    {
     "data": {
      "text/plain": [
       "197768"
      ]
     },
     "execution_count": 58,
     "metadata": {},
     "output_type": "execute_result"
    }
   ],
   "source": [
    "clusters = np.repeat(np.arange(1000), 200)[:len(cities)-1]\n",
    "len(clusters)"
   ]
  },
  {
   "cell_type": "markdown",
   "metadata": {},
   "source": [
    "We add the information about membership in each subset to the cities dataset sorted by the route:"
   ]
  },
  {
   "cell_type": "code",
   "execution_count": 59,
   "metadata": {},
   "outputs": [],
   "source": [
    "kscities = np.concatenate((sorted_cities, clusters[:, np.newaxis]), 1)"
   ]
  },
  {
   "cell_type": "markdown",
   "metadata": {},
   "source": [
    "There are 989 unique clusters"
   ]
  },
  {
   "cell_type": "code",
   "execution_count": 60,
   "metadata": {},
   "outputs": [
    {
     "data": {
      "text/plain": [
       "989"
      ]
     },
     "execution_count": 60,
     "metadata": {},
     "output_type": "execute_result"
    }
   ],
   "source": [
    "n = len(np.unique(clusters))\n",
    "n"
   ]
  },
  {
   "cell_type": "markdown",
   "metadata": {},
   "source": [
    "We create the list of subsets:"
   ]
  },
  {
   "cell_type": "code",
   "execution_count": 61,
   "metadata": {},
   "outputs": [],
   "source": [
    "subs = [0]*n"
   ]
  },
  {
   "cell_type": "code",
   "execution_count": 62,
   "metadata": {},
   "outputs": [],
   "source": [
    "for i in range(n):\n",
    "    subs[i] = kscities[kscities[:, 3] == i][:, :3]"
   ]
  },
  {
   "cell_type": "code",
   "execution_count": 63,
   "metadata": {},
   "outputs": [
    {
     "data": {
      "text/plain": [
       "array([200, 200, 200, 200, 200, 200, 200, 200, 200, 200, 200, 200, 200,\n",
       "       200, 200, 200, 200, 200, 200, 168])"
      ]
     },
     "execution_count": 63,
     "metadata": {},
     "output_type": "execute_result"
    }
   ],
   "source": [
    "lens = [len(subs[i]) for i in range(n)]\n",
    "np.array(lens[-20:])"
   ]
  },
  {
   "cell_type": "markdown",
   "metadata": {},
   "source": [
    "We initialize the permutation on each subset:"
   ]
  },
  {
   "cell_type": "code",
   "execution_count": 64,
   "metadata": {},
   "outputs": [],
   "source": [
    "subs_perm = [0]*n"
   ]
  },
  {
   "cell_type": "code",
   "execution_count": 65,
   "metadata": {},
   "outputs": [],
   "source": [
    "for i in range(n):\n",
    "    subs_perm[i] = np.arange(len(subs[i]))"
   ]
  },
  {
   "cell_type": "code",
   "execution_count": 68,
   "metadata": {},
   "outputs": [],
   "source": [
    "c_ids = [el[:,0] for el in subs]"
   ]
  },
  {
   "cell_type": "markdown",
   "metadata": {},
   "source": [
    "We run SA on each subset, with the described mutation function."
   ]
  },
  {
   "cell_type": "code",
   "execution_count": 69,
   "metadata": {},
   "outputs": [],
   "source": [
    "from sa import SA, reverse_primes_mutation\n",
    "from santas_path import edp_unordered_straight"
   ]
  },
  {
   "cell_type": "code",
   "execution_count": 70,
   "metadata": {
    "scrolled": true
   },
   "outputs": [
    {
     "name": "stdout",
     "output_type": "stream",
     "text": [
      "Initial distance: 6788202.383675191\n",
      "\n",
      "Loop 0, Total distance so far: 6788148.157136387\n",
      "Checked: the path goes through all cities\n",
      "Improvement: -54.22653880342841\n",
      "Total Improvement: -54.22653880342841\n",
      "\n",
      "Loop 20, Total distance so far: 6786631.467968951\n",
      "Checked: the path goes through all cities\n",
      "Improvement: -1516.6891674362123\n",
      "Total Improvement: -1570.9157062396407\n",
      "\n",
      "Loop 40, Total distance so far: 6785151.752531693\n",
      "Checked: the path goes through all cities\n",
      "Improvement: -1479.7154372576624\n",
      "Total Improvement: -3050.631143497303\n",
      "\n",
      "Loop 60, Total distance so far: 6782841.286835057\n",
      "Checked: the path goes through all cities\n",
      "Improvement: -2310.4656966365874\n",
      "Total Improvement: -5361.0968401338905\n",
      "\n",
      "Loop 80, Total distance so far: 6780548.740222682\n",
      "Checked: the path goes through all cities\n",
      "Improvement: -2292.5466123744845\n",
      "Total Improvement: -7653.643452508375\n",
      "End loop 99 at 2019-07-07 00:47:52.229280: 199.657126 seconds\n",
      "\n",
      "Start Loop 100 at 2019-07-07 00:47:52.229280\n",
      "\n",
      "Loop 100, Total distance so far: 6777489.067007224\n",
      "Checked: the path goes through all cities\n",
      "Improvement: -3059.6732154581696\n",
      "Total Improvement: -10713.316667966545\n",
      "\n",
      "Loop 120, Total distance so far: 6775289.727671354\n",
      "Checked: the path goes through all cities\n",
      "Improvement: -2199.3393358699977\n",
      "Total Improvement: -12912.656003836542\n",
      "\n",
      "Loop 140, Total distance so far: 6772951.375621925\n",
      "Checked: the path goes through all cities\n",
      "Improvement: -2338.3520494289696\n",
      "Total Improvement: -15251.008053265512\n",
      "\n",
      "Loop 160, Total distance so far: 6770727.841705647\n",
      "Checked: the path goes through all cities\n",
      "Improvement: -2223.533916277811\n",
      "Total Improvement: -17474.541969543323\n",
      "\n",
      "Loop 180, Total distance so far: 6768774.684262737\n",
      "Checked: the path goes through all cities\n",
      "Improvement: -1953.1574429105967\n",
      "Total Improvement: -19427.69941245392\n",
      "End loop 199 at 2019-07-07 00:51:08.533334: 196.304054 seconds\n",
      "\n",
      "Start Loop 200 at 2019-07-07 00:51:08.534332\n",
      "\n",
      "Loop 200, Total distance so far: 6766471.190426591\n",
      "Checked: the path goes through all cities\n",
      "Improvement: -2303.493836145848\n",
      "Total Improvement: -21731.193248599768\n",
      "\n",
      "Loop 220, Total distance so far: 6764318.347096647\n",
      "Checked: the path goes through all cities\n",
      "Improvement: -2152.8433299437165\n",
      "Total Improvement: -23884.036578543484\n",
      "\n",
      "Loop 240, Total distance so far: 6762271.512757839\n",
      "Checked: the path goes through all cities\n",
      "Improvement: -2046.8343388084322\n",
      "Total Improvement: -25930.870917351916\n",
      "\n",
      "Loop 260, Total distance so far: 6759240.513056864\n",
      "Checked: the path goes through all cities\n",
      "Improvement: -3030.999700974673\n",
      "Total Improvement: -28961.87061832659\n",
      "\n",
      "Loop 280, Total distance so far: 6757305.496541464\n",
      "Checked: the path goes through all cities\n",
      "Improvement: -1935.0165154002607\n",
      "Total Improvement: -30896.88713372685\n",
      "End loop 299 at 2019-07-07 00:54:15.791636: 187.257304 seconds\n",
      "\n",
      "Start Loop 300 at 2019-07-07 00:54:15.791636\n",
      "\n",
      "Loop 300, Total distance so far: 6754970.690091343\n",
      "Checked: the path goes through all cities\n",
      "Improvement: -2334.8064501211047\n",
      "Total Improvement: -33231.693583847955\n",
      "\n",
      "Loop 320, Total distance so far: 6752622.171796867\n",
      "Checked: the path goes through all cities\n",
      "Improvement: -2348.5182944759727\n",
      "Total Improvement: -35580.21187832393\n",
      "\n",
      "Loop 340, Total distance so far: 6750433.901564057\n",
      "Checked: the path goes through all cities\n",
      "Improvement: -2188.2702328097075\n",
      "Total Improvement: -37768.482111133635\n",
      "\n",
      "Loop 360, Total distance so far: 6747675.918571123\n",
      "Checked: the path goes through all cities\n",
      "Improvement: -2757.982992934063\n",
      "Total Improvement: -40526.4651040677\n",
      "\n",
      "Loop 380, Total distance so far: 6746016.646801905\n",
      "Checked: the path goes through all cities\n",
      "Improvement: -1659.2717692181468\n",
      "Total Improvement: -42185.736873285845\n",
      "End loop 399 at 2019-07-07 00:57:28.459447: 192.667811 seconds\n",
      "\n",
      "Start Loop 400 at 2019-07-07 00:57:28.460444\n",
      "\n",
      "Loop 400, Total distance so far: 6743847.226782271\n",
      "Checked: the path goes through all cities\n",
      "Improvement: -2169.420019634068\n",
      "Total Improvement: -44355.15689291991\n",
      "\n",
      "Loop 420, Total distance so far: 6741105.365071247\n",
      "Checked: the path goes through all cities\n",
      "Improvement: -2741.8617110233754\n",
      "Total Improvement: -47097.01860394329\n",
      "\n",
      "Loop 440, Total distance so far: 6739087.196183697\n",
      "Checked: the path goes through all cities\n",
      "Improvement: -2018.1688875500113\n",
      "Total Improvement: -49115.1874914933\n",
      "\n",
      "Loop 460, Total distance so far: 6736623.554066221\n",
      "Checked: the path goes through all cities\n",
      "Improvement: -2463.642117476091\n",
      "Total Improvement: -51578.82960896939\n",
      "\n",
      "Loop 480, Total distance so far: 6734497.352849613\n",
      "Checked: the path goes through all cities\n",
      "Improvement: -2126.201216608286\n",
      "Total Improvement: -53705.030825577676\n",
      "End loop 499 at 2019-07-07 01:00:41.726660: 193.266216 seconds\n",
      "\n",
      "Start Loop 500 at 2019-07-07 01:00:41.726660\n",
      "\n",
      "Loop 500, Total distance so far: 6732473.503657821\n",
      "Checked: the path goes through all cities\n",
      "Improvement: -2023.8491917923093\n",
      "Total Improvement: -55728.880017369986\n",
      "\n",
      "Loop 520, Total distance so far: 6730947.195812861\n",
      "Checked: the path goes through all cities\n",
      "Improvement: -1526.3078449591994\n",
      "Total Improvement: -57255.187862329185\n",
      "\n",
      "Loop 540, Total distance so far: 6728727.435526128\n",
      "Checked: the path goes through all cities\n",
      "Improvement: -2219.760286733508\n",
      "Total Improvement: -59474.94814906269\n",
      "\n",
      "Loop 560, Total distance so far: 6725791.369380343\n",
      "Checked: the path goes through all cities\n",
      "Improvement: -2936.066145785153\n",
      "Total Improvement: -62411.014294847846\n",
      "\n",
      "Loop 580, Total distance so far: 6724351.963988987\n",
      "Checked: the path goes through all cities\n",
      "Improvement: -1439.4053913559765\n",
      "Total Improvement: -63850.41968620382\n",
      "End loop 599 at 2019-07-07 01:03:53.964620: 192.23796 seconds\n",
      "\n",
      "Start Loop 600 at 2019-07-07 01:03:53.964620\n",
      "\n",
      "Loop 600, Total distance so far: 6721748.072434514\n",
      "Checked: the path goes through all cities\n",
      "Improvement: -2603.891554472968\n",
      "Total Improvement: -66454.31124067679\n",
      "\n",
      "Loop 620, Total distance so far: 6719908.460395732\n",
      "Checked: the path goes through all cities\n",
      "Improvement: -1839.6120387818664\n",
      "Total Improvement: -68293.92327945866\n",
      "\n",
      "Loop 640, Total distance so far: 6718332.632990631\n",
      "Checked: the path goes through all cities\n",
      "Improvement: -1575.8274051006883\n",
      "Total Improvement: -69869.75068455935\n",
      "\n",
      "Loop 660, Total distance so far: 6715703.3823770685\n",
      "Checked: the path goes through all cities\n",
      "Improvement: -2629.2506135627627\n",
      "Total Improvement: -72499.00129812211\n",
      "\n",
      "Loop 680, Total distance so far: 6713667.742253586\n",
      "Checked: the path goes through all cities\n",
      "Improvement: -2035.6401234827936\n",
      "Total Improvement: -74534.6414216049\n",
      "End loop 699 at 2019-07-07 01:07:05.553284: 191.588664 seconds\n",
      "\n",
      "Start Loop 700 at 2019-07-07 01:07:05.553284\n",
      "\n",
      "Loop 700, Total distance so far: 6711465.036386809\n",
      "Checked: the path goes through all cities\n",
      "Improvement: -2202.7058667764068\n",
      "Total Improvement: -76737.34728838131\n",
      "\n",
      "Loop 720, Total distance so far: 6709237.199850581\n",
      "Checked: the path goes through all cities\n",
      "Improvement: -2227.8365362286568\n",
      "Total Improvement: -78965.18382460997\n",
      "\n",
      "Loop 740, Total distance so far: 6707074.964258513\n",
      "Checked: the path goes through all cities\n",
      "Improvement: -2162.2355920672417\n",
      "Total Improvement: -81127.4194166772\n",
      "\n",
      "Loop 760, Total distance so far: 6704662.363231094\n",
      "Checked: the path goes through all cities\n",
      "Improvement: -2412.6010274197906\n",
      "Total Improvement: -83540.020444097\n",
      "\n",
      "Loop 780, Total distance so far: 6703025.8159826975\n",
      "Checked: the path goes through all cities\n",
      "Improvement: -1636.5472483960912\n",
      "Total Improvement: -85176.56769249309\n",
      "End loop 799 at 2019-07-07 01:10:16.808901: 191.255617 seconds\n",
      "\n",
      "Start Loop 800 at 2019-07-07 01:10:16.808901\n",
      "\n",
      "Loop 800, Total distance so far: 6700341.29854118\n",
      "Checked: the path goes through all cities\n",
      "Improvement: -2684.5174415176734\n",
      "Total Improvement: -87861.08513401076\n",
      "\n",
      "Loop 820, Total distance so far: 6697567.532676108\n",
      "Checked: the path goes through all cities\n",
      "Improvement: -2773.7658650716767\n",
      "Total Improvement: -90634.85099908244\n",
      "\n",
      "Loop 840, Total distance so far: 6695640.842076986\n",
      "Checked: the path goes through all cities\n",
      "Improvement: -1926.6905991220847\n",
      "Total Improvement: -92561.54159820452\n",
      "\n",
      "Loop 860, Total distance so far: 6693904.123904379\n",
      "Checked: the path goes through all cities\n",
      "Improvement: -1736.718172607012\n",
      "Total Improvement: -94298.25977081154\n",
      "\n",
      "Loop 880, Total distance so far: 6692254.0396327535\n",
      "Checked: the path goes through all cities\n",
      "Improvement: -1650.0842716256157\n",
      "Total Improvement: -95948.34404243715\n"
     ]
    },
    {
     "name": "stdout",
     "output_type": "stream",
     "text": [
      "End loop 899 at 2019-07-07 01:13:29.446761: 192.63786 seconds\n",
      "\n",
      "Start Loop 900 at 2019-07-07 01:13:29.446761\n",
      "\n",
      "Loop 900, Total distance so far: 6689399.306424883\n",
      "Checked: the path goes through all cities\n",
      "Improvement: -2854.733207870275\n",
      "Total Improvement: -98803.07725030743\n",
      "\n",
      "Loop 920, Total distance so far: 6687112.421960575\n",
      "Checked: the path goes through all cities\n",
      "Improvement: -2286.8844643086195\n",
      "Total Improvement: -101089.96171461605\n",
      "\n",
      "Loop 940, Total distance so far: 6685060.7603020705\n",
      "Checked: the path goes through all cities\n",
      "Improvement: -2051.6616585040465\n",
      "Total Improvement: -103141.62337312009\n",
      "\n",
      "Loop 960, Total distance so far: 6682661.37152527\n",
      "Checked: the path goes through all cities\n",
      "Improvement: -2399.388776800595\n",
      "Total Improvement: -105541.01214992069\n",
      "\n",
      "Loop 980, Total distance so far: 6680208.149763066\n",
      "Checked: the path goes through all cities\n",
      "Improvement: -2453.2217622036114\n",
      "Total Improvement: -107994.2339121243\n",
      "End loop 988 at 2019-07-07 01:16:21.863753: 172.416992 seconds\n",
      "\n",
      "Total time: 1909.291599\n"
     ]
    }
   ],
   "source": [
    "np.random.seed(4)\n",
    "start = datetime.now()\n",
    "startl = datetime.now()\n",
    "p = 0\n",
    "last_dist = edp(start_route, cities, not_primes_bool)\n",
    "initial_dist = last_dist\n",
    "print('Initial distance: {}'.format(last_dist))\n",
    "for i in range(n):\n",
    "    if (i % 100 == 0) and (i > 0):\n",
    "        print('\\nStart Loop {} at {}'.format(i, startl))\n",
    "    \n",
    "    perm_init = np.arange(len(subs[i]))\n",
    "    subs_perm[i] = SA(subs[i], edp_unordered_straight, reverse_primes_mutation,\n",
    "                          black_list = not_primes_bool, scale = 100000, n_to_mute= 10,\n",
    "                          maxIter = np.inf,perm_init = perm_init, maxIterNoChange=1000)\n",
    "    if ((i % (99 + p) == 0) or (i == n - 1)) and i > 0:\n",
    "        p += 100\n",
    "        endl = datetime.now()\n",
    "        print('End loop {} at {}: {} seconds'.format(i, endl, (endl-startl).total_seconds()))\n",
    "        startl = datetime.now()\n",
    "    if i % 20 == 0:\n",
    "        temp_routes = []\n",
    "        for j in range(n):\n",
    "            temp_routes.append(c_ids[j][subs_perm[j]])\n",
    "        temp_full_route = np.concatenate(temp_routes).astype(int)\n",
    "        temp_full_route = np.concatenate(([0], temp_full_route))\n",
    "        temp_tot = edp(temp_full_route[1:], cities, not_primes_bool)\n",
    "        print('\\nLoop {}, Total distance so far: {}'.format(i, temp_tot))   \n",
    "        if all(np.isin(temp_full_route, cities[:,0])) and all(np.isin(cities[:,0], temp_full_route)):\n",
    "            print(\"Checked: the path goes through all cities\")\n",
    "        print('Improvement: {}'.format(temp_tot - last_dist))\n",
    "        print('Total Improvement: {}'.format(temp_tot - initial_dist))\n",
    "        last_dist = temp_tot        \n",
    "end = datetime.now()\n",
    "print('\\nTotal time: {}'.format((end-start).total_seconds()))"
   ]
  },
  {
   "cell_type": "markdown",
   "metadata": {},
   "source": [
    "Similarly as before, we find the route inside each cluster as specified by the cities ids, and we concatenate it (and add the first city with id 0 at the start) to find the final route."
   ]
  },
  {
   "cell_type": "code",
   "execution_count": 71,
   "metadata": {},
   "outputs": [],
   "source": [
    "# c_ids = [el[:,0] for el in subs]\n",
    "# routes = []\n",
    "# for i in range(n):\n",
    "#     routes.append(c_ids[i][subs_perm[i]])\n",
    "# \n",
    "# final_full_route = np.concatenate(routes).astype(int)\n",
    "# final_full_route = np.concatenate(([0], final_full_route))"
   ]
  },
  {
   "cell_type": "code",
   "execution_count": 72,
   "metadata": {},
   "outputs": [],
   "source": [
    "# np.savetxt('files/final_after_sa.txt', final_full_route)"
   ]
  },
  {
   "cell_type": "markdown",
   "metadata": {},
   "source": [
    "We have thus obtained the following route:"
   ]
  },
  {
   "cell_type": "code",
   "execution_count": 73,
   "metadata": {},
   "outputs": [],
   "source": [
    "final_full_route = np.genfromtxt('files/final_after_sa.txt').astype(int)"
   ]
  },
  {
   "cell_type": "code",
   "execution_count": 74,
   "metadata": {},
   "outputs": [
    {
     "data": {
      "text/plain": [
       "array([     0, 161041,  97580, ..., 144501, 195889,  69414])"
      ]
     },
     "execution_count": 74,
     "metadata": {},
     "output_type": "execute_result"
    }
   ],
   "source": [
    "final_full_route"
   ]
  },
  {
   "cell_type": "code",
   "execution_count": 75,
   "metadata": {
    "scrolled": true
   },
   "outputs": [
    {
     "data": {
      "text/plain": [
       "6679052.190203142"
      ]
     },
     "execution_count": 75,
     "metadata": {},
     "output_type": "execute_result"
    }
   ],
   "source": [
    "edp(final_full_route, cities, not_primes_bool)"
   ]
  },
  {
   "cell_type": "markdown",
   "metadata": {},
   "source": [
    "The length of the final route is 6 679 052.190203142"
   ]
  }
 ],
 "metadata": {
  "kernelspec": {
   "display_name": "Python 3",
   "language": "python",
   "name": "python3"
  },
  "language_info": {
   "codemirror_mode": {
    "name": "ipython",
    "version": 3
   },
   "file_extension": ".py",
   "mimetype": "text/x-python",
   "name": "python",
   "nbconvert_exporter": "python",
   "pygments_lexer": "ipython3",
   "version": "3.6.8"
  }
 },
 "nbformat": 4,
 "nbformat_minor": 2
}
