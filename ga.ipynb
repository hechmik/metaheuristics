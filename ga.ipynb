{
 "cells": [
  {
   "cell_type": "markdown",
   "metadata": {},
   "source": [
    "# Imports and functions"
   ]
  },
  {
   "cell_type": "code",
   "execution_count": 1,
   "metadata": {},
   "outputs": [],
   "source": [
    "import math\n",
    "import numpy as np\n",
    "import matplotlib.pyplot as plt\n",
    "import seaborn as sns"
   ]
  },
  {
   "cell_type": "code",
   "execution_count": 2,
   "metadata": {},
   "outputs": [],
   "source": [
    "citiesnp = np.genfromtxt('cities.csv', delimiter=',', skip_header = 1) # load as numpy array"
   ]
  },
  {
   "cell_type": "code",
   "execution_count": 3,
   "metadata": {},
   "outputs": [],
   "source": [
    "def not_prime(n):\n",
    "    if n == 2:\n",
    "        return False\n",
    "    if n % 2 == 0 or n <= 1:\n",
    "        return True\n",
    "\n",
    "    sqr = int(math.sqrt(n)) + 1\n",
    "\n",
    "    for divisor in range(3, sqr, 2):\n",
    "        if n % divisor == 0:\n",
    "            return True\n",
    "    return False"
   ]
  },
  {
   "cell_type": "code",
   "execution_count": 4,
   "metadata": {},
   "outputs": [],
   "source": [
    "np_not_prime = np.vectorize(not_prime)"
   ]
  },
  {
   "cell_type": "code",
   "execution_count": 5,
   "metadata": {},
   "outputs": [],
   "source": [
    "def np_total_length(r, c):\n",
    "    r = np.concatenate(([0], r))\n",
    "    c = c[r, :]\n",
    "    cs = np.roll(c, -1, axis =0)\n",
    "    d = np.sqrt((c[:,1] - cs[:,1])**2 + (c[:,2] - cs[:,2])**2)\n",
    "    m = np.concatenate((np.arange(1, len(c)+1)[np.newaxis,:],\n",
    "                        cs[:, 0][np.newaxis,:],\n",
    "                        d[np.newaxis,:]))\n",
    "    p = m[:, np.arange(9, len(c), 10)]\n",
    "    sel = p[0,][np_not_prime(p[1,])].astype(int)\n",
    "    m[:, sel-1] *= 1.1\n",
    "    \n",
    "    return np.sum(m[2])"
   ]
  },
  {
   "cell_type": "code",
   "execution_count": 6,
   "metadata": {},
   "outputs": [],
   "source": [
    "def route_fitness(r, c):\n",
    "    return 1 / np_total_length(r, c)"
   ]
  },
  {
   "cell_type": "code",
   "execution_count": 7,
   "metadata": {},
   "outputs": [],
   "source": [
    "np.random.seed(4)\n",
    "idx = np.random.permutation(range(1, len(citiesnp)))"
   ]
  },
  {
   "cell_type": "code",
   "execution_count": 8,
   "metadata": {
    "scrolled": true
   },
   "outputs": [
    {
     "data": {
      "text/plain": [
       "446925531.9322754"
      ]
     },
     "execution_count": 8,
     "metadata": {},
     "output_type": "execute_result"
    }
   ],
   "source": [
    "np_total_length(idx, citiesnp)"
   ]
  },
  {
   "cell_type": "code",
   "execution_count": 9,
   "metadata": {},
   "outputs": [],
   "source": [
    "cities_sub = citiesnp[0:26]"
   ]
  },
  {
   "cell_type": "code",
   "execution_count": 10,
   "metadata": {},
   "outputs": [],
   "source": [
    "np.random.seed(3)\n",
    "idx = np.random.permutation(range(1,26))"
   ]
  },
  {
   "cell_type": "code",
   "execution_count": 11,
   "metadata": {},
   "outputs": [
    {
     "data": {
      "text/plain": [
       "60566.12398696876"
      ]
     },
     "execution_count": 11,
     "metadata": {},
     "output_type": "execute_result"
    }
   ],
   "source": [
    "np_total_length(idx, cities_sub)"
   ]
  },
  {
   "cell_type": "markdown",
   "metadata": {},
   "source": [
    "# Genetic algorithm"
   ]
  },
  {
   "cell_type": "markdown",
   "metadata": {},
   "source": [
    "### Generate Population"
   ]
  },
  {
   "cell_type": "code",
   "execution_count": 12,
   "metadata": {},
   "outputs": [],
   "source": [
    "def pop_gen(n, pop_size):\n",
    "    arr = np.repeat([np.arange(1, n)], pop_size, 0)\n",
    "    return np.apply_along_axis(np.random.permutation, 1, arr)    "
   ]
  },
  {
   "cell_type": "markdown",
   "metadata": {},
   "source": [
    "### Evaluate population"
   ]
  },
  {
   "cell_type": "code",
   "execution_count": 13,
   "metadata": {},
   "outputs": [],
   "source": [
    "def pop_eval(array, pop, fit_fun):\n",
    "    return np.apply_along_axis(fit_fun, 1, pop, c = array)"
   ]
  },
  {
   "cell_type": "code",
   "execution_count": 14,
   "metadata": {},
   "outputs": [],
   "source": [
    "def pop_stats(scores):\n",
    "    mean = np.mean(scores)\n",
    "    med = np.median(scores)\n",
    "    best = np.max(scores)\n",
    "    return med, mean, best"
   ]
  },
  {
   "cell_type": "markdown",
   "metadata": {},
   "source": [
    "### Selection"
   ]
  },
  {
   "cell_type": "code",
   "execution_count": 15,
   "metadata": {},
   "outputs": [],
   "source": [
    "def roulette_selection(pop, scores, size):\n",
    "    if size % 2 != 0:\n",
    "        size += 1\n",
    "    p = scores/np.sum(scores)\n",
    "    sel = np.random.choice(len(pop), size, replace = True, p = p).reshape((size//2, 2))    \n",
    "    return np.concatenate((pop[sel][:,0], pop[sel][:,1]), 1)"
   ]
  },
  {
   "cell_type": "markdown",
   "metadata": {},
   "source": [
    "### Crossover"
   ]
  },
  {
   "cell_type": "code",
   "execution_count": 16,
   "metadata": {},
   "outputs": [],
   "source": [
    "def pairwise_crossover(p):\n",
    "    n = len(p) // 2\n",
    "    p0 = p[:n]\n",
    "   \n",
    "    p1 = p[n:]\n",
    "    swath = np.random.randint(1, n)\n",
    "    \n",
    "    cut1 = np.random.randint(0, n - swath)\n",
    "    cut2 = cut1 + swath\n",
    "    \n",
    "    off = np.repeat([0], n)\n",
    "    \n",
    "    sel = p0[cut1:cut2]\n",
    "    off[cut1:cut2] = sel\n",
    "    sel = p1[~np.isin(p1, sel)]\n",
    "    off[0:cut1] = sel[0:cut1]\n",
    "\n",
    "    off[cut2:] = sel[cut1:]\n",
    "    return off   "
   ]
  },
  {
   "cell_type": "code",
   "execution_count": 17,
   "metadata": {},
   "outputs": [],
   "source": [
    "def crossover(pa):\n",
    "    return np.apply_along_axis(pairwise_crossover, 1, pa)"
   ]
  },
  {
   "cell_type": "markdown",
   "metadata": {},
   "source": [
    "### Mutation"
   ]
  },
  {
   "cell_type": "code",
   "execution_count": 18,
   "metadata": {},
   "outputs": [],
   "source": [
    "def swap_mutation(perm):\n",
    "    n = len(perm)\n",
    "    i = np.random.choice(n, 2, replace = False)\n",
    "    perm[i] = perm[i[::-1]]\n",
    "    return perm"
   ]
  },
  {
   "cell_type": "code",
   "execution_count": 19,
   "metadata": {},
   "outputs": [],
   "source": [
    "def reverse_mutation(perm):\n",
    "    n = len(perm) - 1\n",
    "    i = np.random.choice(n, 1)[0]\n",
    "    perm[i:i+2] = perm[i:i+2][::-1]\n",
    "    return(perm)"
   ]
  },
  {
   "cell_type": "code",
   "execution_count": 20,
   "metadata": {},
   "outputs": [],
   "source": [
    "def pop_mutation(pop, mut_fun, mut_perc):\n",
    "    sel = np.random.choice(len(pop), int(len(pop) * mut_perc), replace = False)\n",
    "    pop[sel] = np.apply_along_axis(mut_fun, 1, pop[sel])\n",
    "    return pop"
   ]
  },
  {
   "cell_type": "markdown",
   "metadata": {},
   "source": [
    "### GA"
   ]
  },
  {
   "cell_type": "code",
   "execution_count": 21,
   "metadata": {},
   "outputs": [],
   "source": [
    "def GA(array, n_gen, pop_size, parent_size, fit_fun, mut_fun, mut_perc, verbose = False):\n",
    "    n = len(array)\n",
    "    \n",
    "    # init pop\n",
    "    pop = pop_gen(n, pop_size)\n",
    "    \n",
    "    scores = pop_eval(array, pop, fit_fun)\n",
    "    \n",
    "    med, mean, best = pop_stats(scores)\n",
    "    med_trace = np.array([med])\n",
    "    mean_trace = np.array([mean])\n",
    "    best_trace = np.array([best])\n",
    "    \n",
    "    for i in range(1, n_gen):\n",
    "        \n",
    "        # select best parents\n",
    "        parents = roulette_selection(pop, scores, parent_size)\n",
    "        \n",
    "        # generate offsprings\n",
    "        offs = crossover(parents)\n",
    "        \n",
    "        # replace worst in pop with offs\n",
    "        sort = np.argsort(scores)\n",
    "        pop[sort[:len(offs)]] = offs\n",
    "        \n",
    "        # mutate pop\n",
    "        pop = pop_mutation(pop, mut_fun, mut_perc)\n",
    "        \n",
    "        # evaluate\n",
    "        scores = pop_eval(array, pop, fit_fun)\n",
    "        \n",
    "        # update traces\n",
    "        med, mean, best = pop_stats(scores)\n",
    "        med_trace = np.concatenate((med_trace, [med]))\n",
    "        mean_trace = np.concatenate((mean_trace, [mean]))\n",
    "        best_trace =  np.concatenate((best_trace, [best]))\n",
    "        \n",
    "        if verbose:\n",
    "            if i % 10 == 0:\n",
    "                print('Iter {}, Best {}'.format(i, 1/best))\n",
    "        \n",
    "    return med_trace, mean_trace, best_trace, pop"
   ]
  },
  {
   "cell_type": "code",
   "execution_count": 22,
   "metadata": {},
   "outputs": [],
   "source": [
    "def plot_GA(a, b, c, n):\n",
    "    fig, ax = plt.subplots(figsize=(10,6))\n",
    "\n",
    "    x = np.arange(0, len(c), n)\n",
    "    l1 = ax.plot(x, a[::n])[0]\n",
    "    l2 = ax.plot(x, b[::n])[0]\n",
    "    l3 = ax.plot(x, c[::n])[0]\n",
    "    \n",
    "    line_labels = [\"Median\", \"Average\", \"Best\"]\n",
    "    \n",
    "    fig.legend([l1, l2, l3], line_labels, bbox_to_anchor=(0.85, 0.25))\n",
    "    \n",
    "    plt.show()"
   ]
  },
  {
   "cell_type": "markdown",
   "metadata": {},
   "source": [
    "### Testing"
   ]
  },
  {
   "cell_type": "code",
   "execution_count": 23,
   "metadata": {},
   "outputs": [],
   "source": [
    "np.random.seed(4)\n",
    "a1, b1, c1, d1 = GA(cities_sub, 1000, 20, 20, route_fitness, reverse_mutation, 0.3)"
   ]
  },
  {
   "cell_type": "code",
   "execution_count": 24,
   "metadata": {},
   "outputs": [
    {
     "data": {
      "text/plain": [
       "38039.41247483975"
      ]
     },
     "execution_count": 24,
     "metadata": {},
     "output_type": "execute_result"
    }
   ],
   "source": [
    "1/c1[-1] #tour length of best route"
   ]
  },
  {
   "cell_type": "code",
   "execution_count": 25,
   "metadata": {},
   "outputs": [
    {
     "data": {
      "image/png": "[encoded data removed]",
      "text/plain": [
       "<Figure size 720x432 with 1 Axes>"
      ]
     },
     "metadata": {
      "needs_background": "light"
     },
     "output_type": "display_data"
    }
   ],
   "source": [
    "plot_GA(a1, b1, c1, 10)"
   ]
  },
  {
   "cell_type": "code",
   "execution_count": 26,
   "metadata": {},
   "outputs": [
    {
     "name": "stdout",
     "output_type": "stream",
     "text": [
      "Iter 10, Best 446080480.8298834\n",
      "Iter 20, Best 445834768.3962786\n",
      "Iter 30, Best 445814083.13944304\n",
      "Iter 40, Best 445653517.98205185\n",
      "Iter 50, Best 445613013.15113306\n",
      "Iter 60, Best 445599368.7319229\n",
      "Iter 70, Best 445596994.759071\n",
      "Iter 80, Best 445596406.6891028\n",
      "Iter 90, Best 445591005.5518391\n",
      "Iter 100, Best 445582430.3247225\n",
      "Iter 110, Best 445569495.29349095\n",
      "Iter 120, Best 445565198.4621139\n",
      "Iter 130, Best 445562780.33022195\n",
      "Iter 140, Best 445559059.94742703\n",
      "Iter 150, Best 445556888.0584714\n",
      "Iter 160, Best 445554302.96297324\n",
      "Iter 170, Best 445553386.78791237\n",
      "Iter 180, Best 445552260.7361889\n",
      "Iter 190, Best 445550473.3692474\n",
      "Iter 200, Best 445547388.52909416\n",
      "Iter 210, Best 445542449.37605643\n",
      "Iter 220, Best 445540531.9407921\n",
      "Iter 230, Best 445537144.3247161\n",
      "Iter 240, Best 445537144.3247161\n",
      "Iter 250, Best 445536177.99205923\n",
      "Iter 260, Best 445532250.2595727\n",
      "Iter 270, Best 445528872.55714214\n",
      "Iter 280, Best 445528872.55714214\n",
      "Iter 290, Best 445524940.3734164\n",
      "Iter 300, Best 445522137.50934875\n",
      "Iter 310, Best 445514766.1679877\n",
      "Iter 320, Best 445511130.4961044\n",
      "Iter 330, Best 445501758.6309693\n",
      "Iter 340, Best 445496207.0338204\n",
      "Iter 350, Best 445493277.77948785\n",
      "Iter 360, Best 445490776.4642492\n",
      "Iter 370, Best 445489860.387356\n",
      "Iter 380, Best 445486756.7896722\n",
      "Iter 390, Best 445483164.83296496\n",
      "Iter 400, Best 445479401.32912755\n",
      "Iter 410, Best 445470970.7068504\n",
      "Iter 420, Best 445469805.1397607\n",
      "Iter 430, Best 445462544.9624564\n",
      "Iter 440, Best 445462076.6659699\n",
      "Iter 450, Best 445458941.7215912\n",
      "Iter 460, Best 445455819.7507073\n",
      "Iter 470, Best 445452655.16412246\n",
      "Iter 480, Best 445448909.76985455\n",
      "Iter 490, Best 445442773.8977776\n"
     ]
    }
   ],
   "source": [
    "np.random.seed(4)\n",
    "a2, b2, c2, d2 = GA(citiesnp, 500, 10, 6, route_fitness, reverse_mutation, 0.1, verbose = True)"
   ]
  },
  {
   "cell_type": "code",
   "execution_count": 27,
   "metadata": {},
   "outputs": [
    {
     "data": {
      "text/plain": [
       "445439629.0342254"
      ]
     },
     "execution_count": 27,
     "metadata": {},
     "output_type": "execute_result"
    }
   ],
   "source": [
    "1/c2[-1] #tour length of best route"
   ]
  },
  {
   "cell_type": "code",
   "execution_count": 28,
   "metadata": {},
   "outputs": [
    {
     "data": {
      "image/png": "[encoded data removed]",
      "text/plain": [
       "<Figure size 720x432 with 1 Axes>"
      ]
     },
     "metadata": {
      "needs_background": "light"
     },
     "output_type": "display_data"
    }
   ],
   "source": [
    "plot_GA(a2, b2, c2, 10)"
   ]
  }
 ],
 "metadata": {
  "kernelspec": {
   "display_name": "Python 3",
   "language": "python",
   "name": "python3"
  },
  "language_info": {
   "codemirror_mode": {
    "name": "ipython",
    "version": 3
   },
   "file_extension": ".py",
   "mimetype": "text/x-python",
   "name": "python",
   "nbconvert_exporter": "python",
   "pygments_lexer": "ipython3",
   "version": "3.6.8"
  }
 },
 "nbformat": 4,
 "nbformat_minor": 2
}
