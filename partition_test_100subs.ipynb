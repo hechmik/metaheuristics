{
 "cells": [
  {
   "cell_type": "code",
   "execution_count": 1,
   "metadata": {},
   "outputs": [],
   "source": [
    "from datetime import datetime\n",
    "import nbimporter\n",
    "import numpy as np\n",
    "from sklearn.cluster import KMeans"
   ]
  },
  {
   "cell_type": "markdown",
   "metadata": {},
   "source": [
    "## Importing stuff from ga"
   ]
  },
  {
   "cell_type": "code",
   "execution_count": 2,
   "metadata": {},
   "outputs": [
    {
     "name": "stdout",
     "output_type": "stream",
     "text": [
      "Importing Jupyter notebook from ga.ipynb\n"
     ]
    }
   ],
   "source": [
    "from ga import *"
   ]
  },
  {
   "cell_type": "code",
   "execution_count": 3,
   "metadata": {},
   "outputs": [],
   "source": [
    "cities = np.genfromtxt('cities.csv', delimiter=',', skip_header = 1) # load as numpy array"
   ]
  },
  {
   "cell_type": "code",
   "execution_count": 4,
   "metadata": {},
   "outputs": [
    {
     "data": {
      "text/plain": [
       "197769"
      ]
     },
     "execution_count": 4,
     "metadata": {},
     "output_type": "execute_result"
    }
   ],
   "source": [
    "len(cities)"
   ]
  },
  {
   "cell_type": "markdown",
   "metadata": {},
   "source": [
    "Overwrite stuff from ga that needs variables in the notebook:"
   ]
  },
  {
   "cell_type": "code",
   "execution_count": 5,
   "metadata": {},
   "outputs": [],
   "source": [
    "np_not_prime = np.vectorize(not_prime)\n",
    "\n",
    "nums = np.arange(0,len(cities))\n",
    "\n",
    "not_primes_bool = np_not_prime(nums)"
   ]
  },
  {
   "cell_type": "code",
   "execution_count": 6,
   "metadata": {},
   "outputs": [],
   "source": [
    "def np_total_length(r, c):\n",
    "    # v8\n",
    "    r = np.concatenate(([0], r))\n",
    "    c = c[r, :]\n",
    "    cs = np.roll(c, -1, axis =0)\n",
    "    cid = cs[:,0].astype(int)\n",
    "    d = np.sqrt((c[:,1] - cs[:,1])**2 + (c[:,2] - cs[:,2])**2)\n",
    "    idx = np.arange(9, len(c), 10)\n",
    "    pc = cid[idx]\n",
    "    sel = (idx+1)[not_primes_bool[pc]]\n",
    "    d[sel-1] *= 1.1\n",
    "    \n",
    "    return np.sum(d)"
   ]
  },
  {
   "cell_type": "code",
   "execution_count": 7,
   "metadata": {},
   "outputs": [],
   "source": [
    "def route_fitness(r, c):\n",
    "    return 1 / np_total_length(r, c)"
   ]
  },
  {
   "cell_type": "markdown",
   "metadata": {},
   "source": [
    "## Test on full cities set"
   ]
  },
  {
   "cell_type": "code",
   "execution_count": 9,
   "metadata": {},
   "outputs": [],
   "source": [
    "n = 100"
   ]
  },
  {
   "cell_type": "markdown",
   "metadata": {},
   "source": [
    "**You can load the dataset instead of running the following two lines**"
   ]
  },
  {
   "cell_type": "code",
   "execution_count": 10,
   "metadata": {},
   "outputs": [],
   "source": [
    "kmeans = KMeans(n_clusters=n, random_state=0)"
   ]
  },
  {
   "cell_type": "code",
   "execution_count": 11,
   "metadata": {},
   "outputs": [
    {
     "data": {
      "text/plain": [
       "KMeans(algorithm='auto', copy_x=True, init='k-means++', max_iter=300,\n",
       "    n_clusters=100, n_init=10, n_jobs=None, precompute_distances='auto',\n",
       "    random_state=0, tol=0.0001, verbose=0)"
      ]
     },
     "execution_count": 11,
     "metadata": {},
     "output_type": "execute_result"
    }
   ],
   "source": [
    "kmeans.fit(cities[:, 1:3])"
   ]
  },
  {
   "cell_type": "code",
   "execution_count": 58,
   "metadata": {
    "scrolled": false
   },
   "outputs": [
    {
     "data": {
      "text/plain": [
       "array([80,  7, 11, ..., 54,  1, 20])"
      ]
     },
     "execution_count": 58,
     "metadata": {},
     "output_type": "execute_result"
    }
   ],
   "source": [
    "kmeans.labels_"
   ]
  },
  {
   "cell_type": "code",
   "execution_count": 59,
   "metadata": {},
   "outputs": [],
   "source": [
    "np.savetxt('files/100subsets.txt', kmeans.labels_, delimiter=',') "
   ]
  },
  {
   "cell_type": "code",
   "execution_count": 60,
   "metadata": {},
   "outputs": [],
   "source": [
    "sub_test = np.genfromtxt('files/100subsets.txt', delimiter=',', skip_header = 0) # load as numpy array"
   ]
  },
  {
   "cell_type": "code",
   "execution_count": 61,
   "metadata": {
    "scrolled": true
   },
   "outputs": [
    {
     "data": {
      "text/plain": [
       "array([80.,  7., 11., ..., 54.,  1., 20.])"
      ]
     },
     "execution_count": 61,
     "metadata": {},
     "output_type": "execute_result"
    }
   ],
   "source": [
    "sub_test"
   ]
  },
  {
   "cell_type": "code",
   "execution_count": 26,
   "metadata": {
    "scrolled": false
   },
   "outputs": [],
   "source": [
    "kcities = np.concatenate((cities, kmeans.labels_[:, np.newaxis]), 1)"
   ]
  },
  {
   "cell_type": "code",
   "execution_count": 27,
   "metadata": {},
   "outputs": [],
   "source": [
    "subs = [0]*n"
   ]
  },
  {
   "cell_type": "code",
   "execution_count": 28,
   "metadata": {},
   "outputs": [],
   "source": [
    "for i in range(n):\n",
    "    subs[i] = kcities[kcities[:, 3] == i][:, :3]"
   ]
  },
  {
   "cell_type": "code",
   "execution_count": 29,
   "metadata": {},
   "outputs": [],
   "source": [
    "lens = [len(subs[i]) for i in range(n)]"
   ]
  },
  {
   "cell_type": "markdown",
   "metadata": {},
   "source": [
    "Each subset seems more or less balanced:"
   ]
  },
  {
   "cell_type": "code",
   "execution_count": 30,
   "metadata": {},
   "outputs": [
    {
     "data": {
      "text/plain": [
       "array([2064, 2932, 2682, 1864, 1642, 1839, 1832, 2957, 1975, 2405, 2053,\n",
       "       2542, 1732, 2101, 2446, 2098, 2419, 2541, 1707, 1690, 2177, 1164,\n",
       "       1654, 2050, 2449, 2819, 2756, 1461, 2509, 1021, 1671, 1489, 1520,\n",
       "       2509, 2197, 1811, 2715, 1796, 1355, 2620, 2180, 1833, 1461, 1552,\n",
       "       1809, 1480, 2969, 1188, 2146, 2761, 2424, 1405, 2059, 2493, 2903,\n",
       "       1383, 1307, 2348, 1810, 2391, 1612, 1619, 2051, 1816, 2531, 1944,\n",
       "       1403, 2105, 2099, 2271, 2509, 2261, 1622, 2577, 1678, 1825, 1603,\n",
       "       1807, 1649, 1379, 1471, 1528,  402, 1917, 1874, 1674, 3331, 1729,\n",
       "       1875, 2780, 1396, 2472, 1459, 1490, 1754, 1870, 2377, 2375, 1214,\n",
       "       1254])"
      ]
     },
     "execution_count": 30,
     "metadata": {},
     "output_type": "execute_result"
    }
   ],
   "source": [
    "np.array(lens)"
   ]
  },
  {
   "cell_type": "code",
   "execution_count": 31,
   "metadata": {
    "scrolled": true
   },
   "outputs": [
    {
     "data": {
      "text/plain": [
       "197769"
      ]
     },
     "execution_count": 31,
     "metadata": {},
     "output_type": "execute_result"
    }
   ],
   "source": [
    "sum(lens)"
   ]
  },
  {
   "cell_type": "code",
   "execution_count": 32,
   "metadata": {},
   "outputs": [],
   "source": [
    "routes = [0]*n\n",
    "a = [0]*n\n",
    "b = [0]*n\n",
    "c = [0]*n\n",
    "d = [0]*n\n",
    "e = [0]*n"
   ]
  },
  {
   "cell_type": "code",
   "execution_count": 33,
   "metadata": {
    "scrolled": true
   },
   "outputs": [
    {
     "name": "stdout",
     "output_type": "stream",
     "text": [
      "\n",
      "Start Loop 0 at 2019-07-01 20:27:18.328951\n",
      "End loop 0 at 2019-07-01 20:28:26.295942: 67.966991 seconds\n",
      "\n",
      "Start Loop 1 at 2019-07-01 20:28:26.295942\n",
      "End loop 1 at 2019-07-01 20:30:03.589171: 97.293229 seconds\n",
      "\n",
      "Start Loop 2 at 2019-07-01 20:30:03.589171\n",
      "End loop 2 at 2019-07-01 20:31:24.790348: 81.201177 seconds\n",
      "\n",
      "Start Loop 3 at 2019-07-01 20:31:24.790348\n",
      "End loop 3 at 2019-07-01 20:32:26.380366: 61.590018 seconds\n",
      "\n",
      "Start Loop 4 at 2019-07-01 20:32:26.380366\n",
      "End loop 4 at 2019-07-01 20:33:19.860917: 53.480551 seconds\n",
      "\n",
      "Start Loop 5 at 2019-07-01 20:33:19.860917\n",
      "End loop 5 at 2019-07-01 20:34:24.968724: 65.107807 seconds\n",
      "\n",
      "Start Loop 6 at 2019-07-01 20:34:24.968724\n",
      "End loop 6 at 2019-07-01 20:35:23.083365: 58.114641 seconds\n",
      "\n",
      "Start Loop 7 at 2019-07-01 20:35:23.084370\n",
      "End loop 7 at 2019-07-01 20:37:01.447640: 98.36327 seconds\n",
      "\n",
      "Start Loop 8 at 2019-07-01 20:37:01.447640\n",
      "End loop 8 at 2019-07-01 20:38:21.280299: 79.832659 seconds\n",
      "\n",
      "Start Loop 9 at 2019-07-01 20:38:21.280299\n",
      "End loop 9 at 2019-07-01 20:39:55.078230: 93.797931 seconds\n",
      "\n",
      "Start Loop 10 at 2019-07-01 20:39:55.078230\n",
      "End loop 10 at 2019-07-01 20:41:32.252608: 97.174378 seconds\n",
      "\n",
      "Start Loop 11 at 2019-07-01 20:41:32.252608\n",
      "End loop 11 at 2019-07-01 20:43:37.951645: 125.699037 seconds\n",
      "\n",
      "Start Loop 12 at 2019-07-01 20:43:37.951645\n",
      "End loop 12 at 2019-07-01 20:44:26.259241: 48.307596 seconds\n",
      "\n",
      "Start Loop 13 at 2019-07-01 20:44:26.259241\n",
      "End loop 13 at 2019-07-01 20:45:29.251913: 62.992672 seconds\n",
      "\n",
      "Start Loop 14 at 2019-07-01 20:45:29.251913\n",
      "End loop 14 at 2019-07-01 20:46:36.998535: 67.746622 seconds\n",
      "\n",
      "Start Loop 15 at 2019-07-01 20:46:36.998535\n",
      "End loop 15 at 2019-07-01 20:47:37.967747: 60.969212 seconds\n",
      "\n",
      "Start Loop 16 at 2019-07-01 20:47:37.967747\n",
      "End loop 16 at 2019-07-01 20:49:06.330982: 88.363235 seconds\n",
      "\n",
      "Start Loop 17 at 2019-07-01 20:49:06.331984\n",
      "End loop 17 at 2019-07-01 20:50:49.021931: 102.689947 seconds\n",
      "\n",
      "Start Loop 18 at 2019-07-01 20:50:49.021931\n",
      "End loop 18 at 2019-07-01 20:51:41.835051: 52.81312 seconds\n",
      "\n",
      "Start Loop 19 at 2019-07-01 20:51:41.835051\n",
      "End loop 19 at 2019-07-01 20:52:37.920577: 56.085526 seconds\n",
      "\n",
      "Start Loop 20 at 2019-07-01 20:52:37.920577\n",
      "End loop 20 at 2019-07-01 20:53:27.582237: 49.66166 seconds\n",
      "\n",
      "Start Loop 21 at 2019-07-01 20:53:27.582237\n",
      "End loop 21 at 2019-07-01 20:53:59.722142: 32.139905 seconds\n",
      "\n",
      "Start Loop 22 at 2019-07-01 20:53:59.722142\n",
      "End loop 22 at 2019-07-01 20:54:35.894310: 36.172168 seconds\n",
      "\n",
      "Start Loop 23 at 2019-07-01 20:54:35.894310\n",
      "End loop 23 at 2019-07-01 20:55:47.799439: 71.905129 seconds\n",
      "\n",
      "Start Loop 24 at 2019-07-01 20:55:47.799439\n",
      "End loop 24 at 2019-07-01 20:57:22.031762: 94.232323 seconds\n",
      "\n",
      "Start Loop 25 at 2019-07-01 20:57:22.031762\n",
      "End loop 25 at 2019-07-01 20:59:10.695926: 108.664164 seconds\n",
      "\n",
      "Start Loop 26 at 2019-07-01 20:59:10.695926\n",
      "End loop 26 at 2019-07-01 21:00:37.218825: 86.522899 seconds\n",
      "\n",
      "Start Loop 27 at 2019-07-01 21:00:37.218825\n",
      "End loop 27 at 2019-07-01 21:01:18.857705: 41.63888 seconds\n",
      "\n",
      "Start Loop 28 at 2019-07-01 21:01:18.858713\n",
      "End loop 28 at 2019-07-01 21:02:30.243387: 71.384674 seconds\n",
      "\n",
      "Start Loop 29 at 2019-07-01 21:02:30.244357\n",
      "End loop 29 at 2019-07-01 21:02:58.589071: 28.344714 seconds\n",
      "\n",
      "Start Loop 30 at 2019-07-01 21:02:58.589071\n",
      "End loop 30 at 2019-07-01 21:03:46.821099: 48.232028 seconds\n",
      "\n",
      "Start Loop 31 at 2019-07-01 21:03:46.821099\n",
      "End loop 31 at 2019-07-01 21:04:21.427850: 34.606751 seconds\n",
      "\n",
      "Start Loop 32 at 2019-07-01 21:04:21.427850\n",
      "End loop 32 at 2019-07-01 21:05:22.716899: 61.289049 seconds\n",
      "\n",
      "Start Loop 33 at 2019-07-01 21:05:22.716899\n",
      "End loop 33 at 2019-07-01 21:07:00.053993: 97.337094 seconds\n",
      "\n",
      "Start Loop 34 at 2019-07-01 21:07:00.053993\n",
      "End loop 34 at 2019-07-01 21:08:27.553148: 87.499155 seconds\n",
      "\n",
      "Start Loop 35 at 2019-07-01 21:08:27.553148\n",
      "End loop 35 at 2019-07-01 21:09:35.888584: 68.335436 seconds\n",
      "\n",
      "Start Loop 36 at 2019-07-01 21:09:35.888584\n",
      "End loop 36 at 2019-07-01 21:11:01.504243: 85.615659 seconds\n",
      "\n",
      "Start Loop 37 at 2019-07-01 21:11:01.504243\n",
      "End loop 37 at 2019-07-01 21:11:59.983871: 58.479628 seconds\n",
      "\n",
      "Start Loop 38 at 2019-07-01 21:11:59.984869\n",
      "End loop 38 at 2019-07-01 21:12:30.570310: 30.585441 seconds\n",
      "\n",
      "Start Loop 39 at 2019-07-01 21:12:30.570310\n",
      "End loop 39 at 2019-07-01 21:13:40.922122: 70.351812 seconds\n",
      "\n",
      "Start Loop 40 at 2019-07-01 21:13:40.922122\n",
      "End loop 40 at 2019-07-01 21:14:35.767076: 54.844954 seconds\n",
      "\n",
      "Start Loop 41 at 2019-07-01 21:14:35.767076\n",
      "End loop 41 at 2019-07-01 21:15:36.999722: 61.232646 seconds\n",
      "\n",
      "Start Loop 42 at 2019-07-01 21:15:36.999722\n",
      "End loop 42 at 2019-07-01 21:16:09.077981: 32.078259 seconds\n",
      "\n",
      "Start Loop 43 at 2019-07-01 21:16:09.077981\n",
      "End loop 43 at 2019-07-01 21:17:04.367506: 55.289525 seconds\n",
      "\n",
      "Start Loop 44 at 2019-07-01 21:17:04.367506\n",
      "End loop 44 at 2019-07-01 21:17:53.280329: 48.912823 seconds\n",
      "\n",
      "Start Loop 45 at 2019-07-01 21:17:53.280329\n",
      "End loop 45 at 2019-07-01 21:18:26.045414: 32.765085 seconds\n",
      "\n",
      "Start Loop 46 at 2019-07-01 21:18:26.045414\n",
      "End loop 46 at 2019-07-01 21:20:19.926294: 113.88088 seconds\n",
      "\n",
      "Start Loop 47 at 2019-07-01 21:20:19.926294\n",
      "End loop 47 at 2019-07-01 21:20:49.124616: 29.198322 seconds\n",
      "\n",
      "Start Loop 48 at 2019-07-01 21:20:49.124616\n",
      "End loop 48 at 2019-07-01 21:21:41.498283: 52.373667 seconds\n",
      "\n",
      "Start Loop 49 at 2019-07-01 21:21:41.498283\n",
      "End loop 49 at 2019-07-01 21:23:29.297118: 107.798835 seconds\n",
      "\n",
      "Start Loop 50 at 2019-07-01 21:23:29.297118\n",
      "End loop 50 at 2019-07-01 21:24:31.626688: 62.32957 seconds\n",
      "\n",
      "Start Loop 51 at 2019-07-01 21:24:31.627685\n",
      "End loop 51 at 2019-07-01 21:25:13.483370: 41.855685 seconds\n",
      "\n",
      "Start Loop 52 at 2019-07-01 21:25:13.483370\n",
      "End loop 52 at 2019-07-01 21:26:15.358432: 61.875062 seconds\n",
      "\n",
      "Start Loop 53 at 2019-07-01 21:26:15.358432\n",
      "End loop 53 at 2019-07-01 21:27:28.264435: 72.906003 seconds\n",
      "\n",
      "Start Loop 54 at 2019-07-01 21:27:28.264435\n",
      "End loop 54 at 2019-07-01 21:28:51.606986: 83.342551 seconds\n",
      "\n",
      "Start Loop 55 at 2019-07-01 21:28:51.606986\n",
      "End loop 55 at 2019-07-01 21:29:34.003870: 42.396884 seconds\n",
      "\n",
      "Start Loop 56 at 2019-07-01 21:29:34.003870\n",
      "End loop 56 at 2019-07-01 21:30:06.592259: 32.588389 seconds\n",
      "\n",
      "Start Loop 57 at 2019-07-01 21:30:06.592259\n",
      "End loop 57 at 2019-07-01 21:31:17.177896: 70.585637 seconds\n",
      "\n",
      "Start Loop 58 at 2019-07-01 21:31:17.177896\n",
      "End loop 58 at 2019-07-01 21:31:59.529738: 42.351842 seconds\n",
      "\n",
      "Start Loop 59 at 2019-07-01 21:31:59.529738\n",
      "End loop 59 at 2019-07-01 21:33:22.076626: 82.546888 seconds\n",
      "\n",
      "Start Loop 60 at 2019-07-01 21:33:22.076626\n",
      "End loop 60 at 2019-07-01 21:34:22.327828: 60.251202 seconds\n",
      "\n",
      "Start Loop 61 at 2019-07-01 21:34:22.327828\n",
      "End loop 61 at 2019-07-01 21:35:10.789192: 48.461364 seconds\n",
      "\n",
      "Start Loop 62 at 2019-07-01 21:35:10.789192\n",
      "End loop 62 at 2019-07-01 21:36:04.382702: 53.59351 seconds\n",
      "\n",
      "Start Loop 63 at 2019-07-01 21:36:04.382702\n",
      "End loop 63 at 2019-07-01 21:36:49.600778: 45.218076 seconds\n",
      "\n",
      "Start Loop 64 at 2019-07-01 21:36:49.600778\n",
      "End loop 64 at 2019-07-01 21:38:14.083455: 84.482677 seconds\n",
      "\n",
      "Start Loop 65 at 2019-07-01 21:38:14.083455\n",
      "End loop 65 at 2019-07-01 21:39:21.576478: 67.493023 seconds\n",
      "\n",
      "Start Loop 66 at 2019-07-01 21:39:21.576478\n",
      "End loop 66 at 2019-07-01 21:39:58.801323: 37.224845 seconds\n",
      "\n",
      "Start Loop 67 at 2019-07-01 21:39:58.801323\n",
      "End loop 67 at 2019-07-01 21:40:51.359708: 52.558385 seconds\n",
      "\n",
      "Start Loop 68 at 2019-07-01 21:40:51.359708\n",
      "End loop 68 at 2019-07-01 21:41:45.718964: 54.359256 seconds\n",
      "\n",
      "Start Loop 69 at 2019-07-01 21:41:45.734581\n",
      "End loop 69 at 2019-07-01 21:42:45.254120: 59.519539 seconds\n",
      "\n",
      "Start Loop 70 at 2019-07-01 21:42:45.254120\n",
      "End loop 70 at 2019-07-01 21:44:01.765787: 76.511667 seconds\n",
      "\n",
      "Start Loop 71 at 2019-07-01 21:44:01.765787\n",
      "End loop 71 at 2019-07-01 21:45:08.238603: 66.472816 seconds\n",
      "\n",
      "Start Loop 72 at 2019-07-01 21:45:08.238603\n",
      "End loop 72 at 2019-07-01 21:45:51.129886: 42.891283 seconds\n",
      "\n",
      "Start Loop 73 at 2019-07-01 21:45:51.130883\n",
      "End loop 73 at 2019-07-01 21:47:03.200740: 72.069857 seconds\n",
      "\n",
      "Start Loop 74 at 2019-07-01 21:47:03.200740\n",
      "End loop 74 at 2019-07-01 21:47:54.142493: 50.941753 seconds\n",
      "\n",
      "Start Loop 75 at 2019-07-01 21:47:54.142493\n",
      "End loop 75 at 2019-07-01 21:48:43.635854: 49.493361 seconds\n",
      "\n",
      "Start Loop 76 at 2019-07-01 21:48:43.635854\n",
      "End loop 76 at 2019-07-01 21:49:28.686580: 45.050726 seconds\n",
      "\n",
      "Start Loop 77 at 2019-07-01 21:49:28.686580\n",
      "End loop 77 at 2019-07-01 21:50:28.765635: 60.079055 seconds\n",
      "\n",
      "Start Loop 78 at 2019-07-01 21:50:28.765635\n"
     ]
    },
    {
     "name": "stdout",
     "output_type": "stream",
     "text": [
      "End loop 78 at 2019-07-01 21:51:11.440031: 42.674396 seconds\n",
      "\n",
      "Start Loop 79 at 2019-07-01 21:51:11.440031\n",
      "End loop 79 at 2019-07-01 21:51:47.556362: 36.116331 seconds\n",
      "\n",
      "Start Loop 80 at 2019-07-01 21:51:47.556362\n",
      "End loop 80 at 2019-07-01 21:52:25.608572: 38.05221 seconds\n",
      "\n",
      "Start Loop 81 at 2019-07-01 21:52:25.608572\n",
      "End loop 81 at 2019-07-01 21:53:14.864024: 49.255452 seconds\n",
      "\n",
      "Start Loop 82 at 2019-07-01 21:53:14.864024\n",
      "End loop 82 at 2019-07-01 21:53:21.903617: 7.039593 seconds\n",
      "\n",
      "Start Loop 83 at 2019-07-01 21:53:21.903617\n",
      "End loop 83 at 2019-07-01 21:54:16.358605: 54.454988 seconds\n",
      "\n",
      "Start Loop 84 at 2019-07-01 21:54:16.358605\n",
      "End loop 84 at 2019-07-01 21:55:01.952300: 45.593695 seconds\n",
      "\n",
      "Start Loop 85 at 2019-07-01 21:55:01.952300\n",
      "End loop 85 at 2019-07-01 21:56:01.478546: 59.526246 seconds\n",
      "\n",
      "Start Loop 86 at 2019-07-01 21:56:01.478546\n",
      "End loop 86 at 2019-07-01 21:58:19.963443: 138.484897 seconds\n",
      "\n",
      "Start Loop 87 at 2019-07-01 21:58:19.963443\n",
      "End loop 87 at 2019-07-01 21:59:26.930331: 66.966888 seconds\n",
      "\n",
      "Start Loop 88 at 2019-07-01 21:59:26.931358\n",
      "End loop 88 at 2019-07-01 22:00:18.633291: 51.701933 seconds\n",
      "\n",
      "Start Loop 89 at 2019-07-01 22:00:18.633291\n",
      "End loop 89 at 2019-07-01 22:02:04.107199: 105.473908 seconds\n",
      "\n",
      "Start Loop 90 at 2019-07-01 22:02:04.107199\n",
      "End loop 90 at 2019-07-01 22:02:53.650694: 49.543495 seconds\n",
      "\n",
      "Start Loop 91 at 2019-07-01 22:02:53.650694\n",
      "End loop 91 at 2019-07-01 22:04:31.209471: 97.558777 seconds\n",
      "\n",
      "Start Loop 92 at 2019-07-01 22:04:31.209471\n",
      "End loop 92 at 2019-07-01 22:05:12.782506: 41.573035 seconds\n",
      "\n",
      "Start Loop 93 at 2019-07-01 22:05:12.782506\n",
      "End loop 93 at 2019-07-01 22:05:58.841189: 46.058683 seconds\n",
      "\n",
      "Start Loop 94 at 2019-07-01 22:05:58.841189\n",
      "End loop 94 at 2019-07-01 22:06:43.001867: 44.160678 seconds\n",
      "\n",
      "Start Loop 95 at 2019-07-01 22:06:43.001867\n",
      "End loop 95 at 2019-07-01 22:07:50.773444: 67.771577 seconds\n",
      "\n",
      "Start Loop 96 at 2019-07-01 22:07:50.773444\n",
      "End loop 96 at 2019-07-01 22:09:21.269922: 90.496478 seconds\n",
      "\n",
      "Start Loop 97 at 2019-07-01 22:09:21.269922\n",
      "End loop 97 at 2019-07-01 22:10:47.938856: 86.668934 seconds\n",
      "\n",
      "Start Loop 98 at 2019-07-01 22:10:47.939854\n",
      "End loop 98 at 2019-07-01 22:11:18.818894: 30.87904 seconds\n",
      "\n",
      "Start Loop 99 at 2019-07-01 22:11:18.819898\n",
      "End loop 99 at 2019-07-01 22:11:54.957987: 36.138089 seconds\n",
      "\n",
      "Total time: 6276.630037\n"
     ]
    }
   ],
   "source": [
    "np.random.seed(4)\n",
    "start = datetime.now()\n",
    "for i in range(n):\n",
    "    startl = datetime.now()\n",
    "    print('\\nStart Loop {} at {}'.format(i, startl))\n",
    "    a[i], b[i], c[i], d[i], e[i] = GA(subs[i], np.inf, 20, 6, route_fitness, [shift_mutation], 0.1,\n",
    "                       roulette_selection2, cross_fun=mod_two_point_crossover2, max_no_change = 500)\n",
    "    endl = datetime.now()\n",
    "    print('End loop {} at {}: {} seconds'.format(i, endl, (endl-startl).total_seconds()))\n",
    "end = datetime.now()\n",
    "print('\\nTotal time: {}'.format((end-start).total_seconds()))"
   ]
  },
  {
   "cell_type": "code",
   "execution_count": 34,
   "metadata": {
    "scrolled": true
   },
   "outputs": [],
   "source": [
    "cds = [el[:,0] for el in subs]"
   ]
  },
  {
   "cell_type": "code",
   "execution_count": 35,
   "metadata": {},
   "outputs": [],
   "source": [
    "full_route = []\n",
    "for i in range(n):\n",
    "    full_route.append(np.concatenate(([cds[i][0]], cds[i][e[i]])))\n",
    "full_route = np.concatenate(full_route)"
   ]
  },
  {
   "cell_type": "code",
   "execution_count": 36,
   "metadata": {},
   "outputs": [
    {
     "data": {
      "text/plain": [
       "197769"
      ]
     },
     "execution_count": 36,
     "metadata": {},
     "output_type": "execute_result"
    }
   ],
   "source": [
    "len(full_route)"
   ]
  },
  {
   "cell_type": "code",
   "execution_count": 37,
   "metadata": {
    "scrolled": true
   },
   "outputs": [
    {
     "data": {
      "text/plain": [
       "True"
      ]
     },
     "execution_count": 37,
     "metadata": {},
     "output_type": "execute_result"
    }
   ],
   "source": [
    "all(np.isin(full_route, cities[:,0])) # every city in the path is the id of a city"
   ]
  },
  {
   "cell_type": "code",
   "execution_count": 38,
   "metadata": {},
   "outputs": [
    {
     "data": {
      "text/plain": [
       "True"
      ]
     },
     "execution_count": 38,
     "metadata": {},
     "output_type": "execute_result"
    }
   ],
   "source": [
    "all(np.isin(cities[:,0], full_route)) # every city is in the path"
   ]
  },
  {
   "cell_type": "code",
   "execution_count": 39,
   "metadata": {},
   "outputs": [],
   "source": [
    "zi = np.where(full_route == 0)"
   ]
  },
  {
   "cell_type": "code",
   "execution_count": 40,
   "metadata": {},
   "outputs": [],
   "source": [
    "zi = zi[0][0]"
   ]
  },
  {
   "cell_type": "code",
   "execution_count": 56,
   "metadata": {},
   "outputs": [
    {
     "data": {
      "text/plain": [
       "161527"
      ]
     },
     "execution_count": 56,
     "metadata": {},
     "output_type": "execute_result"
    }
   ],
   "source": [
    "zi"
   ]
  },
  {
   "cell_type": "code",
   "execution_count": 41,
   "metadata": {},
   "outputs": [],
   "source": [
    "full_route = np.concatenate((full_route[:zi], full_route[zi+1:])) # reorder full route as if starting from 0 to 0, and delete 0s"
   ]
  },
  {
   "cell_type": "code",
   "execution_count": 42,
   "metadata": {
    "scrolled": true
   },
   "outputs": [
    {
     "data": {
      "text/plain": [
       "197768"
      ]
     },
     "execution_count": 42,
     "metadata": {},
     "output_type": "execute_result"
    }
   ],
   "source": [
    "len(full_route)"
   ]
  },
  {
   "cell_type": "code",
   "execution_count": 44,
   "metadata": {
    "scrolled": true
   },
   "outputs": [
    {
     "data": {
      "text/plain": [
       "20709214.287331678"
      ]
     },
     "execution_count": 44,
     "metadata": {},
     "output_type": "execute_result"
    }
   ],
   "source": [
    "np_total_length(full_route.astype(int), cities)"
   ]
  },
  {
   "cell_type": "markdown",
   "metadata": {},
   "source": [
    "Final result 20 709 214.287331678"
   ]
  },
  {
   "cell_type": "markdown",
   "metadata": {},
   "source": [
    "#### Save routes as json"
   ]
  },
  {
   "cell_type": "code",
   "execution_count": 45,
   "metadata": {},
   "outputs": [
    {
     "data": {
      "text/plain": [
       "array([1.04000e+02, 2.62550e+04, 1.66034e+05, ..., 5.42550e+04,\n",
       "       1.87021e+05, 1.95521e+05])"
      ]
     },
     "execution_count": 45,
     "metadata": {},
     "output_type": "execute_result"
    }
   ],
   "source": [
    "full_route"
   ]
  },
  {
   "cell_type": "code",
   "execution_count": 46,
   "metadata": {},
   "outputs": [],
   "source": [
    "routes_list = []\n",
    "for i in range(n):\n",
    "    routes_list.append(np.concatenate(([cds[i][0]], cds[i][e[i]])))"
   ]
  },
  {
   "cell_type": "code",
   "execution_count": 47,
   "metadata": {},
   "outputs": [
    {
     "data": {
      "text/plain": [
       "array([1.04000e+02, 2.62550e+04, 1.66034e+05, ..., 1.21417e+05,\n",
       "       3.85940e+04, 2.22160e+04])"
      ]
     },
     "execution_count": 47,
     "metadata": {},
     "output_type": "execute_result"
    }
   ],
   "source": [
    "routes_list[0]"
   ]
  },
  {
   "cell_type": "code",
   "execution_count": 48,
   "metadata": {},
   "outputs": [],
   "source": [
    "routes_dict = dict()\n",
    "for i in range(len(routes_list)):\n",
    "    routes_dict[i] = list(routes_list[i])"
   ]
  },
  {
   "cell_type": "code",
   "execution_count": 62,
   "metadata": {},
   "outputs": [],
   "source": [
    "import json\n",
    "\n",
    "with open('files/100_subroutes.json', 'w') as fp:\n",
    "    json.dump(routes_dict, fp)"
   ]
  },
  {
   "cell_type": "markdown",
   "metadata": {},
   "source": [
    "### load test"
   ]
  },
  {
   "cell_type": "code",
   "execution_count": 63,
   "metadata": {},
   "outputs": [],
   "source": [
    "with open('files/100_subroutes.json', 'r') as fp:\n",
    "    loaded_json = json.load(fp)"
   ]
  },
  {
   "cell_type": "markdown",
   "metadata": {},
   "source": [
    "Create route"
   ]
  },
  {
   "cell_type": "code",
   "execution_count": 64,
   "metadata": {},
   "outputs": [],
   "source": [
    "json_routes = [loaded_json[str(i)] for i in range(100)]"
   ]
  },
  {
   "cell_type": "code",
   "execution_count": 65,
   "metadata": {},
   "outputs": [
    {
     "data": {
      "text/plain": [
       "197769"
      ]
     },
     "execution_count": 65,
     "metadata": {},
     "output_type": "execute_result"
    }
   ],
   "source": [
    "full_json_route = np.concatenate(json_routes)\n",
    "len(full_json_route)"
   ]
  },
  {
   "cell_type": "code",
   "execution_count": 66,
   "metadata": {},
   "outputs": [
    {
     "data": {
      "text/plain": [
       "161527"
      ]
     },
     "execution_count": 66,
     "metadata": {},
     "output_type": "execute_result"
    }
   ],
   "source": [
    "# delete 0 ecc\n",
    "zij = np.where(full_json_route == 0)[0][0]\n",
    "zij"
   ]
  },
  {
   "cell_type": "code",
   "execution_count": 67,
   "metadata": {},
   "outputs": [
    {
     "data": {
      "text/plain": [
       "197768"
      ]
     },
     "execution_count": 67,
     "metadata": {},
     "output_type": "execute_result"
    }
   ],
   "source": [
    "full_json_route = np.concatenate((full_json_route[:zi], full_json_route[zi+1:])) # reorder full route as if starting from 0 to 0, and delete 0s\n",
    "len(full_json_route) # the 0 will be added during length computation"
   ]
  },
  {
   "cell_type": "code",
   "execution_count": 68,
   "metadata": {},
   "outputs": [
    {
     "data": {
      "text/plain": [
       "20709214.287331678"
      ]
     },
     "execution_count": 68,
     "metadata": {},
     "output_type": "execute_result"
    }
   ],
   "source": [
    "np_total_length(full_json_route.astype(int), cities)"
   ]
  },
  {
   "cell_type": "markdown",
   "metadata": {},
   "source": [
    "### Other results:"
   ]
  },
  {
   "cell_type": "markdown",
   "metadata": {},
   "source": [
    "Full set of cities, 40 partitions: 34 068 538.50736396 total length"
   ]
  },
  {
   "cell_type": "markdown",
   "metadata": {},
   "source": [
    "10k cities, divided in subsets: 3 441 365 .0848769355"
   ]
  },
  {
   "cell_type": "markdown",
   "metadata": {},
   "source": [
    "10k cities, no subsets: 13 683 004 .521273606"
   ]
  }
 ],
 "metadata": {
  "kernelspec": {
   "display_name": "Python 3",
   "language": "python",
   "name": "python3"
  },
  "language_info": {
   "codemirror_mode": {
    "name": "ipython",
    "version": 3
   },
   "file_extension": ".py",
   "mimetype": "text/x-python",
   "name": "python",
   "nbconvert_exporter": "python",
   "pygments_lexer": "ipython3",
   "version": "3.6.8"
  }
 },
 "nbformat": 4,
 "nbformat_minor": 2
}
